{
 "cells": [
  {
   "cell_type": "code",
   "execution_count": 1,
   "metadata": {},
   "outputs": [],
   "source": [
    "import csv\n",
    "import json\n",
    "import pandas as pd\n",
    "import psycopg2 as pg\n",
    "import config as creds\n",
    "import sys\n",
    "import boto3\n",
    "import sqlalchemy "
   ]
  },
  {
   "cell_type": "code",
   "execution_count": 2,
   "metadata": {},
   "outputs": [],
   "source": [
    "ENDPOINT=\"dc-energy-benchmarking-project.cetnqm9k1imt.us-east-1.rds.amazonaws.com\"\n",
    "PORT=\"5432\"\n",
    "USR=\"postgres\"\n",
    "REGION=\"us-east-1\"\n",
    "DBNAME=\"dc_energy_data\"\n",
    "\n",
    "# session = boto3.Session(profile_name='RDSCreds')\n",
    "# client = boto3.client('rds')\n",
    "# token = client.generate_db_auth_token(DBHostname=ENDPOINT, Port=PORT, DBUsername=USR, Region=REGION)"
   ]
  },
  {
   "cell_type": "code",
   "execution_count": 3,
   "metadata": {},
   "outputs": [],
   "source": [
    "def connect():\n",
    "    \n",
    "    # Set up a connection to the postgres server.\n",
    "    conn_string = \"host=\"+ creds.PGHOST +\" port=\"+ \"5432\" +\" dbname=\"+ creds.PGDATABASE +\" user=\" + creds.PGUSER \\\n",
    "                  +\" password=\"+ creds.PGPASSWORD\n",
    "    \n",
    "    conn = pg.connect(conn_string)\n",
    "    print(\"Connected!\")\n",
    "\n",
    "    # Create a cursor object\n",
    "    cursor = conn.cursor()\n",
    "    \n",
    "    return conn, cursor    "
   ]
  },
  {
   "cell_type": "code",
   "execution_count": 4,
   "metadata": {
    "scrolled": false
   },
   "outputs": [
    {
     "name": "stdout",
     "output_type": "stream",
     "text": [
      "Connected!\n"
     ]
    }
   ],
   "source": [
    " conn, cursor = connect()\n"
   ]
  },
  {
   "cell_type": "code",
   "execution_count": null,
   "metadata": {
    "scrolled": true
   },
   "outputs": [],
   "source": [
    "# cursor.execute(\"\"\" CREATE TABLE IF NOT EXISTS raw_energy_data(\n",
    "# X text,\n",
    "# Y text,\n",
    "# OBJECTID integer, \n",
    "# PID text, \n",
    "# DCREALPROPERTYID text,\n",
    "# PMPROPERTYID decimal,\n",
    "# PROPERTYNAME text,\n",
    "# PMPARENTPROPERTYID text,\n",
    "# PARENTPROPERTYNAME text,\n",
    "# REPORTINGYEAR integer,\n",
    "# REPORTSTATUS text,\n",
    "# ADDRESSOFRECORD text,\n",
    "# OWNEROFRECORD text,\n",
    "# WARD numeric,\n",
    "# REPORTEDADDRESS text,\n",
    "# CITY text,\n",
    "# STATE text,\n",
    "# POSTALCODE text,\n",
    "# YEARBUILT integer,\n",
    "# PRIMARYPROPERTYTYPE_SELFSELECT text,\n",
    "# PRIMARYPROPERTYTYPE_EPACALC text,\n",
    "# TAXRECORDFLOORAREA integer,\n",
    "# REPORTEDBUILDINGGROSSFLOORAREA double precision,\n",
    "# ENERGYSTARSCORE double precision,\n",
    "# SITEEUI_KBTU_FT double precision,\n",
    "# WEATHERNORMALZEDSITEEUI_KBTUFT double precision,\n",
    "# SOURCEEUI_KBTU_FT double precision,\n",
    "# WEATHERNORMALZEDSOUREUI_KBTUFT double precision, \n",
    "# TOTGHGEMISSIONS_METRICTONSCO2E double precision,\n",
    "# TOTGHGEMISSINTENSITY_KGCO2EFT double precision,\n",
    "# WATERSCORE_MFPROPERTIES double precision,\n",
    "# WATERUSE_ALLWATERSOURCES_KGAL double precision,\n",
    "# NATURALGASUSE_THERMS double precision,\n",
    "# FUELOILANDDIESELFUELUSEKBTU double precision,\n",
    "# METEREDAREAS_ENERGY text,\n",
    "# METEREDAREAS_WATER text,\n",
    "# LATITUDE text,\n",
    "# LONGITUDE text,\n",
    "# ADDRESSID integer,\n",
    "# XCOORD double precision,\n",
    "# YCOORD double precision,\n",
    "# GIS_LAST_MOD_DTTM text,\n",
    "# DISTRCHILLEDWATER_KBTU double precision,\n",
    "# DISTRHOTWATER_KBTU double precision,\n",
    "# DISTRSTEAM_KBTU double precision,\n",
    "# ELECTRICITYUSE_RENEWABLE_KWH double precision,\n",
    "# ELECTRICITYUSE_GRID_KWH double precision,\n",
    "# NATURALGAS_KBTU_JANUARY double precision,\n",
    "# NATURALGAS_KBTU_FEBRUARY double precision,\n",
    "# NATURALGAS_KBTU_MARCH double precision,\n",
    "# NATURALGAS_KBTU_APRIL double precision,\n",
    "# NATURALGAS_KBTU_MAY double precision,\n",
    "# NATURALGAS_KBTU_JUNE double precision,\n",
    "# NATURALGAS_KBTU_JULY double precision,\n",
    "# NATURALGAS_KBTU_AUGUST double precision,\n",
    "# NATURALGAS_KBTU_SEPTEMBER double precision,\n",
    "# NATURALGAS_KBTU_OCTOBER double precision,\n",
    "# NATURALGAS_KBTU_NOVEMBER double precision,\n",
    "# NATURALGAS_KBTU_DECEMBER double precision,\n",
    "# ELECTRICITYUSE_KBTU_JANUARY double precision,\n",
    "# ELECTRICITYUSE_KBTU_FEBRUARY double precision,\n",
    "# ELECTRICITYUSE_KBTU_MARCH double precision,\n",
    "# ELECTRICITYUSE_KBTU_APRIL double precision,\n",
    "# ELECTRICITYUSE_KBTU_MAY double precision,\n",
    "# ELECTRICITYUSE_KBTU_JUNE double precision,\n",
    "# ELECTRICITYUSE_KBTU_JULY double precision,\n",
    "# ELECTRICITYUSE_KBTU_AUGUST double precision,\n",
    "# ELECTRICITYUSE_KBTU_SEPTEMBER double precision,\n",
    "# ELECTRICITYUSE_KBTU_OCTOBER double precision,\n",
    "# ELECTRICITYUSE_KBTU_NOVEMBER double precision,\n",
    "# ELECTRICITYUSE_KBTU_DECEMBER double precision);\"\"\")\n",
    "\n",
    "# conn.commit()"
   ]
  },
  {
   "cell_type": "code",
   "execution_count": 5,
   "metadata": {},
   "outputs": [],
   "source": [
    "cursor.execute(\"\"\"SELECT * FROM raw_energy_data LIMIT 5\"\"\")"
   ]
  },
  {
   "cell_type": "code",
   "execution_count": 6,
   "metadata": {},
   "outputs": [
    {
     "name": "stdout",
     "output_type": "stream",
     "text": [
      "[('-77.0457904501078', '38.9059649858203', 1, 'PM2969314', '0099_0050', Decimal('2969314'), '2025 M Street', None, None, 2017, 'In Compliance', '2025 M ST NW', 'MIKEONE EK M STREET HOLDINGS LLC', Decimal('2'), '2025 M Street, NW', 'WASHINGTON', 'DC', '20036', 1969, 'Office', 'Office', 293459, 193095.0, 64.0, 88.4, 90.3, 277.6, 283.4, 1893.7, 9.8, None, 3319.7, 0.0, 0.0, 'Whole Building', 'Whole Building', '38.905957198162', '-77.0457881519479', 279515, 396028.490599102, 137567.594593127, '2020/08/16 09:01:29+00', 0.0, 0.0, 0.0, 0.0, 5003210.8, 0.0, 0.0, 0.0, 0.0, 0.0, 0.0, 0.0, 0.0, 0.0, 0.0, 0.0, 0.0, 0.0, 0.0, 0.0, 0.0, 0.0, 0.0, 0.0, 0.0, 0.0, 0.0, 0.0, 0.0), ('-77.0392289510266', '38.9040595840527', 2, 'PM1431050', '0162_0821', Decimal('1431050'), '1707 L Street', None, None, 2017, 'In Compliance', '1707 L ST NW', '1709 L STREET NW LLC', Decimal('2'), '1707 L Street, NW', 'WASHINGTON', 'DC', '20036', 1963, 'Office', 'Office', 165374, 109926.0, 93.0, 55.2, 56.6, 142.4, 142.3, 579.1, 5.3, None, 1499.7, 16197.409097, 0.0, 'Whole Building', 'Whole Building', '38.9040517965336', '-77.0392266550262', 241801, 396597.521718933, 137355.814562997, '2020/08/16 09:01:29+00', 0.0, 0.0, 0.0, 0.0, 1302729.9, 0.0, 0.0, 0.0, 0.0, 0.0, 0.0, 0.0, 0.0, 0.0, 0.0, 0.0, 0.0, 0.0, 0.0, 0.0, 0.0, 0.0, 0.0, 0.0, 0.0, 0.0, 0.0, 0.0, 0.0), ('-77.0180630142198', '38.8760646781784', 3, 'PM2791015', '0502_0184', Decimal('2791015'), 'Tiber Island Cooperative Homes, Inc.', None, None, 2017, 'In Compliance', '0461 N ST SW', 'TIBER ISLAND COOPERATIVE HOMES', Decimal('6'), '429 N Street SW', 'WASHINGTON', 'DC', '20024', 1964, 'Multifamily Housing', 'Multifamily Housing', 315832, 315832.0, 24.0, 79.4, 85.5, 161.6, 166.0, 2015.8, 6.4, 57.0, 13455.2, 132436.7233784, 0.0, 'Whole Building', 'Whole Building', '38.8760568955167', '-77.0180607265186', 299498, 398432.816953054, 134247.585607534, '2020/08/16 09:01:29+00', 0.0, 0.0, 0.0, 0.0, 3467225.4, 0.0, 0.0, 0.0, 0.0, 0.0, 0.0, 0.0, 0.0, 0.0, 0.0, 0.0, 0.0, 0.0, 0.0, 0.0, 0.0, 0.0, 0.0, 0.0, 0.0, 0.0, 0.0, 0.0, 0.0), ('-77.0305252249617', '38.9029414529678', 4, 'PM3435335', '0248_0830', Decimal('3435335'), 'One Franklin Square 2', None, None, 2017, 'In Compliance', '1301 K ST NW', '1301 K STREET LP', Decimal('2'), '1301 K Street NW', 'WASHINGTON', 'DC', '20005', 1990, 'Office', 'Office', 81989, 643325.0, 67.0, 65.1, 65.1, 201.7, 201.7, 4598.5, 7.1, None, 6444.7, 8502.68237, 0.0, 'Whole Building', 'Whole Building', '38.9029336653495', '-77.0305229317398', 240647, 397352.431874391, 137231.404554808, '2020/08/16 09:01:29+00', 0.0, 0.0, 0.0, 0.0, 12029990.2, 0.0, 0.0, 0.0, 0.0, 0.0, 0.0, 0.0, 0.0, 0.0, 0.0, 0.0, 0.0, 0.0, 0.0, 0.0, 0.0, 0.0, 0.0, 0.0, 0.0, 0.0, 0.0, 0.0, 0.0), ('-77.0322842659223', '38.902191226032', 5, 'PM1071004', '0218_0079', Decimal('1071004'), '1400 K Street', None, None, 2017, 'In Compliance', '1400 K ST NW', 'TRIZECHAHN LLC - 1400 K STREET NW', Decimal('2'), '1400 K Street, NW', 'WASHINGTON', 'DC', '20005', 1982, 'Office', 'Office', 292090, 212651.0, 93.0, 48.6, 48.7, 149.4, 149.4, 1127.6, 5.3, None, 2467.2, 3404.983977, 0.0, 'Whole Building', 'Whole Building', '38.9021834386306', '-77.0322819721985', 240269, 397199.822740603, 137148.17582828, '2020/08/16 09:01:29+00', 0.0, 0.0, 0.0, 0.0, 2931495.8, 0.0, 0.0, 0.0, 0.0, 0.0, 0.0, 0.0, 0.0, 0.0, 0.0, 0.0, 0.0, 0.0, 0.0, 0.0, 0.0, 0.0, 0.0, 0.0, 0.0, 0.0, 0.0, 0.0, 0.0)]\n"
     ]
    }
   ],
   "source": [
    "query_results = cursor.fetchall()\n",
    "print(query_results)"
   ]
  },
  {
   "cell_type": "code",
   "execution_count": 7,
   "metadata": {
    "scrolled": true
   },
   "outputs": [],
   "source": [
    "conn.close()"
   ]
  },
  {
   "cell_type": "code",
   "execution_count": null,
   "metadata": {},
   "outputs": [],
   "source": []
  }
 ],
 "metadata": {
  "kernelspec": {
   "display_name": "Python 3",
   "language": "python",
   "name": "python3"
  },
  "language_info": {
   "codemirror_mode": {
    "name": "ipython",
    "version": 3
   },
   "file_extension": ".py",
   "mimetype": "text/x-python",
   "name": "python",
   "nbconvert_exporter": "python",
   "pygments_lexer": "ipython3",
   "version": "3.7.4"
  }
 },
 "nbformat": 4,
 "nbformat_minor": 2
}
