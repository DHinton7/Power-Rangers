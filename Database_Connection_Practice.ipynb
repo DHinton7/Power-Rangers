{
 "cells": [
  {
   "cell_type": "code",
   "execution_count": 1,
   "metadata": {},
   "outputs": [],
   "source": [
    "import csv\n",
    "import json\n",
    "import pandas as pd\n",
    "import psycopg2 as pg\n",
    "import config as creds\n",
    "import sys\n",
    "import boto3\n",
    "import sqlalchemy "
   ]
  },
  {
   "cell_type": "code",
   "execution_count": 2,
   "metadata": {},
   "outputs": [],
   "source": [
    "ENDPOINT=\"dc-energy-benchmarking-project.cetnqm9k1imt.us-east-1.rds.amazonaws.com\"\n",
    "PORT=\"5432\"\n",
    "USR=\"postgres\"\n",
    "REGION=\"us-east-1\"\n",
    "DBNAME=\"dc_energy_data\"\n",
    "\n",
    "# session = boto3.Session(profile_name='RDSCreds')\n",
    "# client = boto3.client('rds')\n",
    "# token = client.generate_db_auth_token(DBHostname=ENDPOINT, Port=PORT, DBUsername=USR, Region=REGION)"
   ]
  },
  {
   "cell_type": "code",
   "execution_count": 3,
   "metadata": {},
   "outputs": [],
   "source": [
    "def connect():\n",
    "    \n",
    "    # Set up a connection to the postgres server.\n",
    "    conn_string = \"host=\"+ creds.PGHOST +\" port=\"+ \"5432\" +\" dbname=\"+ creds.PGDATABASE +\" user=\" + creds.PGUSER \\\n",
    "                  +\" password=\"+ creds.PGPASSWORD\n",
    "    \n",
    "    conn = pg.connect(conn_string)\n",
    "    print(\"Connected!\")\n",
    "\n",
    "    # Create a cursor object\n",
    "    cursor = conn.cursor()\n",
    "    \n",
    "    return conn, cursor    "
   ]
  },
  {
   "cell_type": "code",
   "execution_count": 12,
   "metadata": {
    "scrolled": false
   },
   "outputs": [
    {
     "name": "stdout",
     "output_type": "stream",
     "text": [
      "Connected!\n"
     ]
    }
   ],
   "source": [
    " conn, cursor = connect()\n"
   ]
  },
  {
   "cell_type": "code",
   "execution_count": null,
   "metadata": {
    "scrolled": true
   },
   "outputs": [],
   "source": [
    "# cursor.execute(\"\"\" CREATE TABLE IF NOT EXISTS raw_energy_data(\n",
    "# X text,\n",
    "# Y text,\n",
    "# OBJECTID integer, \n",
    "# PID text, \n",
    "# DCREALPROPERTYID text,\n",
    "# PMPROPERTYID decimal,\n",
    "# PROPERTYNAME text,\n",
    "# PMPARENTPROPERTYID text,\n",
    "# PARENTPROPERTYNAME text,\n",
    "# REPORTINGYEAR integer,\n",
    "# REPORTSTATUS text,\n",
    "# ADDRESSOFRECORD text,\n",
    "# OWNEROFRECORD text,\n",
    "# WARD numeric,\n",
    "# REPORTEDADDRESS text,\n",
    "# CITY text,\n",
    "# STATE text,\n",
    "# POSTALCODE text,\n",
    "# YEARBUILT integer,\n",
    "# PRIMARYPROPERTYTYPE_SELFSELECT text,\n",
    "# PRIMARYPROPERTYTYPE_EPACALC text,\n",
    "# TAXRECORDFLOORAREA integer,\n",
    "# REPORTEDBUILDINGGROSSFLOORAREA double precision,\n",
    "# ENERGYSTARSCORE double precision,\n",
    "# SITEEUI_KBTU_FT double precision,\n",
    "# WEATHERNORMALZEDSITEEUI_KBTUFT double precision,\n",
    "# SOURCEEUI_KBTU_FT double precision,\n",
    "# WEATHERNORMALZEDSOUREUI_KBTUFT double precision, \n",
    "# TOTGHGEMISSIONS_METRICTONSCO2E double precision,\n",
    "# TOTGHGEMISSINTENSITY_KGCO2EFT double precision,\n",
    "# WATERSCORE_MFPROPERTIES double precision,\n",
    "# WATERUSE_ALLWATERSOURCES_KGAL double precision,\n",
    "# NATURALGASUSE_THERMS double precision,\n",
    "# FUELOILANDDIESELFUELUSEKBTU double precision,\n",
    "# METEREDAREAS_ENERGY text,\n",
    "# METEREDAREAS_WATER text,\n",
    "# LATITUDE text,\n",
    "# LONGITUDE text,\n",
    "# ADDRESSID integer,\n",
    "# XCOORD double precision,\n",
    "# YCOORD double precision,\n",
    "# GIS_LAST_MOD_DTTM text,\n",
    "# DISTRCHILLEDWATER_KBTU double precision,\n",
    "# DISTRHOTWATER_KBTU double precision,\n",
    "# DISTRSTEAM_KBTU double precision,\n",
    "# ELECTRICITYUSE_RENEWABLE_KWH double precision,\n",
    "# ELECTRICITYUSE_GRID_KWH double precision,\n",
    "# NATURALGAS_KBTU_JANUARY double precision,\n",
    "# NATURALGAS_KBTU_FEBRUARY double precision,\n",
    "# NATURALGAS_KBTU_MARCH double precision,\n",
    "# NATURALGAS_KBTU_APRIL double precision,\n",
    "# NATURALGAS_KBTU_MAY double precision,\n",
    "# NATURALGAS_KBTU_JUNE double precision,\n",
    "# NATURALGAS_KBTU_JULY double precision,\n",
    "# NATURALGAS_KBTU_AUGUST double precision,\n",
    "# NATURALGAS_KBTU_SEPTEMBER double precision,\n",
    "# NATURALGAS_KBTU_OCTOBER double precision,\n",
    "# NATURALGAS_KBTU_NOVEMBER double precision,\n",
    "# NATURALGAS_KBTU_DECEMBER double precision,\n",
    "# ELECTRICITYUSE_KBTU_JANUARY double precision,\n",
    "# ELECTRICITYUSE_KBTU_FEBRUARY double precision,\n",
    "# ELECTRICITYUSE_KBTU_MARCH double precision,\n",
    "# ELECTRICITYUSE_KBTU_APRIL double precision,\n",
    "# ELECTRICITYUSE_KBTU_MAY double precision,\n",
    "# ELECTRICITYUSE_KBTU_JUNE double precision,\n",
    "# ELECTRICITYUSE_KBTU_JULY double precision,\n",
    "# ELECTRICITYUSE_KBTU_AUGUST double precision,\n",
    "# ELECTRICITYUSE_KBTU_SEPTEMBER double precision,\n",
    "# ELECTRICITYUSE_KBTU_OCTOBER double precision,\n",
    "# ELECTRICITYUSE_KBTU_NOVEMBER double precision,\n",
    "# ELECTRICITYUSE_KBTU_DECEMBER double precision);\"\"\")\n",
    "\n",
    "# conn.commit()"
   ]
  },
  {
   "cell_type": "code",
   "execution_count": null,
   "metadata": {},
   "outputs": [],
   "source": [
    "cursor.execute(\"\"\"SELECT * FROM raw_energy_data LIMIT 5\"\"\")"
   ]
  },
  {
   "cell_type": "code",
   "execution_count": null,
   "metadata": {
    "scrolled": true
   },
   "outputs": [],
   "source": [
    "query_results = cursor.fetchall()\n",
    "print(query_results)"
   ]
  },
  {
   "cell_type": "code",
   "execution_count": 5,
   "metadata": {},
   "outputs": [],
   "source": [
    "raw_weather= pd.read_csv('data/openweathermap_01012010_09212020.csv')"
   ]
  },
  {
   "cell_type": "code",
   "execution_count": null,
   "metadata": {},
   "outputs": [],
   "source": [
    "raw_weather.dtypes"
   ]
  },
  {
   "cell_type": "code",
   "execution_count": null,
   "metadata": {},
   "outputs": [],
   "source": [
    "raw_weather.head()"
   ]
  },
  {
   "cell_type": "code",
   "execution_count": 6,
   "metadata": {},
   "outputs": [],
   "source": [
    "#cursor.execute(\"\"\" CREATE TABLE IF NOT EXISTS raw_weather(\n",
    "dt integer,\n",
    "dt_iso text,\n",
    "timezone integer,\n",
    "city_name text,\n",
    "lat decimal,\n",
    "lon decimal,\n",
    "temp decimal,\n",
    "feel_like decimal,\n",
    "temp_min decimal,\n",
    "temp_max decimal,\n",
    "pressure integer,\n",
    "sea_level decimal,\n",
    "grnd_level decimal,\n",
    "humidity integer,\n",
    "wind_speed decimal,\n",
    "wind_deg integer,\n",
    "rain_1h decimal,\n",
    "rain_3h decimal,\n",
    "snow_1h decimal,\n",
    "snow_3h decimal,\n",
    "clouds_all integer,\n",
    "weather_id integer,\n",
    "weather_main text,\n",
    "weather_description text,\n",
    "weather_icon text);\"\"\")\n",
    "\n",
    "#conn.commit()"
   ]
  },
  {
   "cell_type": "code",
   "execution_count": 11,
   "metadata": {
    "scrolled": true
   },
   "outputs": [
    {
     "ename": "InterfaceError",
     "evalue": "cursor already closed",
     "output_type": "error",
     "traceback": [
      "\u001b[0;31m---------------------------------------------------------------------------\u001b[0m",
      "\u001b[0;31mInterfaceError\u001b[0m                            Traceback (most recent call last)",
      "\u001b[0;32m<ipython-input-11-d7376d756229>\u001b[0m in \u001b[0;36m<module>\u001b[0;34m\u001b[0m\n\u001b[0;32m----> 1\u001b[0;31m \u001b[0mcursor\u001b[0m\u001b[0;34m.\u001b[0m\u001b[0mexecute\u001b[0m\u001b[0;34m(\u001b[0m\u001b[0;34m\"\"\"SELECT * FROM raw_weather LIMIT 5\"\"\"\u001b[0m\u001b[0;34m)\u001b[0m\u001b[0;34m\u001b[0m\u001b[0;34m\u001b[0m\u001b[0m\n\u001b[0m",
      "\u001b[0;31mInterfaceError\u001b[0m: cursor already closed"
     ]
    }
   ],
   "source": [
    "cursor.execute(\"\"\"SELECT * FROM raw_weather LIMIT 5\"\"\")"
   ]
  },
  {
   "cell_type": "code",
   "execution_count": 10,
   "metadata": {
    "scrolled": true
   },
   "outputs": [],
   "source": [
    "conn.close()"
   ]
  },
  {
   "cell_type": "code",
   "execution_count": null,
   "metadata": {},
   "outputs": [],
   "source": []
  }
 ],
 "metadata": {
  "kernelspec": {
   "display_name": "Python 3",
   "language": "python",
   "name": "python3"
  },
  "language_info": {
   "codemirror_mode": {
    "name": "ipython",
    "version": 3
   },
   "file_extension": ".py",
   "mimetype": "text/x-python",
   "name": "python",
   "nbconvert_exporter": "python",
   "pygments_lexer": "ipython3",
   "version": "3.7.4"
  }
 },
 "nbformat": 4,
 "nbformat_minor": 2
}
