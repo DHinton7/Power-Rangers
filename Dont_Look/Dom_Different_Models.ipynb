{
 "cells": [
  {
   "cell_type": "code",
   "execution_count": 27,
   "metadata": {},
   "outputs": [],
   "source": [
    "import psycopg2\n",
    "import config as creds\n",
    "import sqlalchemy\n",
    "from sqlalchemy import create_engine\n",
    "import numpy as np\n",
    "import pandas as pd\n",
    "from datetime import datetime\n",
    "from scipy import stats\n",
    "import matplotlib.pyplot as plt\n",
    "plt.style.use('dark_background')\n",
    "import seaborn as sns"
   ]
  },
  {
   "cell_type": "markdown",
   "metadata": {},
   "source": [
    "### Connecting to the Database"
   ]
  },
  {
   "cell_type": "code",
   "execution_count": 2,
   "metadata": {},
   "outputs": [],
   "source": [
    "user=creds.PGUSER\n",
    "password=creds.PGPASSWORD\n",
    "host=creds.PGHOST\n",
    "port=5432\n",
    "database=creds.PGDATABASE"
   ]
  },
  {
   "cell_type": "code",
   "execution_count": 3,
   "metadata": {},
   "outputs": [],
   "source": [
    "engine_str=f\"postgresql+psycopg2://{user}:{password}@{host}:{port}/{database}\""
   ]
  },
  {
   "cell_type": "code",
   "execution_count": 4,
   "metadata": {},
   "outputs": [],
   "source": [
    "engine = create_engine(engine_str)"
   ]
  },
  {
   "cell_type": "code",
   "execution_count": 5,
   "metadata": {},
   "outputs": [
    {
     "name": "stdout",
     "output_type": "stream",
     "text": [
      "Connected\n"
     ]
    }
   ],
   "source": [
    "conn = engine.raw_connection()\n",
    "print('Connected')"
   ]
  },
  {
   "cell_type": "code",
   "execution_count": 6,
   "metadata": {},
   "outputs": [
    {
     "name": "stdout",
     "output_type": "stream",
     "text": [
      "Cursor created\n"
     ]
    }
   ],
   "source": [
    "cur = conn.cursor()\n",
    "print('Cursor created')"
   ]
  },
  {
   "cell_type": "markdown",
   "metadata": {},
   "source": [
    "### Checking to see what data is hosted inside the database"
   ]
  },
  {
   "cell_type": "code",
   "execution_count": 7,
   "metadata": {},
   "outputs": [],
   "source": [
    "query1='''\n",
    "SELECT * \n",
    "FROM buildings_data b\n",
    "LEFT OUTER join noaa_data n\n",
    "ON b.REPORTINGYEAR = n.WEATHERYEAR\n",
    "WHERE b.MONTH = n.MONTH; \n",
    "'''"
   ]
  },
  {
   "cell_type": "code",
   "execution_count": 8,
   "metadata": {},
   "outputs": [],
   "source": [
    "df1=pd.read_sql(query1,conn)"
   ]
  },
  {
   "cell_type": "code",
   "execution_count": 12,
   "metadata": {},
   "outputs": [],
   "source": [
    "pd.set_option('display.max_columns',None)"
   ]
  },
  {
   "cell_type": "code",
   "execution_count": 13,
   "metadata": {},
   "outputs": [
    {
     "data": {
      "text/html": [
       "<div>\n",
       "<style scoped>\n",
       "    .dataframe tbody tr th:only-of-type {\n",
       "        vertical-align: middle;\n",
       "    }\n",
       "\n",
       "    .dataframe tbody tr th {\n",
       "        vertical-align: top;\n",
       "    }\n",
       "\n",
       "    .dataframe thead th {\n",
       "        text-align: right;\n",
       "    }\n",
       "</style>\n",
       "<table border=\"1\" class=\"dataframe\">\n",
       "  <thead>\n",
       "    <tr style=\"text-align: right;\">\n",
       "      <th></th>\n",
       "      <th>id</th>\n",
       "      <th>pid</th>\n",
       "      <th>dcrealpropertyid</th>\n",
       "      <th>ward</th>\n",
       "      <th>postalcode</th>\n",
       "      <th>yearbuilt</th>\n",
       "      <th>reportingyear</th>\n",
       "      <th>reportstatus</th>\n",
       "      <th>primarypropertytype_selfselect</th>\n",
       "      <th>taxrecordfloorarea</th>\n",
       "      <th>reportedbuildinggrossfloorarea</th>\n",
       "      <th>energystarscore</th>\n",
       "      <th>month</th>\n",
       "      <th>kbtu</th>\n",
       "      <th>elegas</th>\n",
       "      <th>id</th>\n",
       "      <th>date</th>\n",
       "      <th>awnd</th>\n",
       "      <th>cldd</th>\n",
       "      <th>htdd</th>\n",
       "      <th>snow</th>\n",
       "      <th>tavg</th>\n",
       "      <th>tmax</th>\n",
       "      <th>tmin</th>\n",
       "      <th>wdf2</th>\n",
       "      <th>wdf5</th>\n",
       "      <th>wsf2</th>\n",
       "      <th>wsf5</th>\n",
       "      <th>weatheryear</th>\n",
       "      <th>month</th>\n",
       "      <th>kbtusqft</th>\n",
       "    </tr>\n",
       "  </thead>\n",
       "  <tbody>\n",
       "    <tr>\n",
       "      <th>0</th>\n",
       "      <td>0</td>\n",
       "      <td>PM4373175</td>\n",
       "      <td>0171_0814</td>\n",
       "      <td>2</td>\n",
       "      <td>20006</td>\n",
       "      <td>1893</td>\n",
       "      <td>2016</td>\n",
       "      <td>In Compliance</td>\n",
       "      <td>2</td>\n",
       "      <td>137024.0</td>\n",
       "      <td>176170.0</td>\n",
       "      <td>0.0</td>\n",
       "      <td>1</td>\n",
       "      <td>0.0</td>\n",
       "      <td>N</td>\n",
       "      <td>72</td>\n",
       "      <td>2016-01</td>\n",
       "      <td>9.4</td>\n",
       "      <td>0.0</td>\n",
       "      <td>930.0</td>\n",
       "      <td>18.8</td>\n",
       "      <td>35.0</td>\n",
       "      <td>42.6</td>\n",
       "      <td>27.4</td>\n",
       "      <td>330.0</td>\n",
       "      <td>280.0</td>\n",
       "      <td>36.0</td>\n",
       "      <td>44.0</td>\n",
       "      <td>2016</td>\n",
       "      <td>1</td>\n",
       "      <td>0.0</td>\n",
       "    </tr>\n",
       "    <tr>\n",
       "      <th>1</th>\n",
       "      <td>3</td>\n",
       "      <td>PM1331555</td>\n",
       "      <td>0248_0812</td>\n",
       "      <td>2</td>\n",
       "      <td>20005</td>\n",
       "      <td>1921</td>\n",
       "      <td>2016</td>\n",
       "      <td>In Compliance</td>\n",
       "      <td>7</td>\n",
       "      <td>146425.0</td>\n",
       "      <td>222000.0</td>\n",
       "      <td>52.0</td>\n",
       "      <td>1</td>\n",
       "      <td>0.0</td>\n",
       "      <td>N</td>\n",
       "      <td>72</td>\n",
       "      <td>2016-01</td>\n",
       "      <td>9.4</td>\n",
       "      <td>0.0</td>\n",
       "      <td>930.0</td>\n",
       "      <td>18.8</td>\n",
       "      <td>35.0</td>\n",
       "      <td>42.6</td>\n",
       "      <td>27.4</td>\n",
       "      <td>330.0</td>\n",
       "      <td>280.0</td>\n",
       "      <td>36.0</td>\n",
       "      <td>44.0</td>\n",
       "      <td>2016</td>\n",
       "      <td>1</td>\n",
       "      <td>0.0</td>\n",
       "    </tr>\n",
       "    <tr>\n",
       "      <th>2</th>\n",
       "      <td>4</td>\n",
       "      <td>PM3299991</td>\n",
       "      <td>0139_0817</td>\n",
       "      <td>2</td>\n",
       "      <td>20036</td>\n",
       "      <td>1963</td>\n",
       "      <td>2016</td>\n",
       "      <td>In Compliance</td>\n",
       "      <td>10</td>\n",
       "      <td>101337.0</td>\n",
       "      <td>73168.0</td>\n",
       "      <td>38.0</td>\n",
       "      <td>1</td>\n",
       "      <td>0.0</td>\n",
       "      <td>N</td>\n",
       "      <td>72</td>\n",
       "      <td>2016-01</td>\n",
       "      <td>9.4</td>\n",
       "      <td>0.0</td>\n",
       "      <td>930.0</td>\n",
       "      <td>18.8</td>\n",
       "      <td>35.0</td>\n",
       "      <td>42.6</td>\n",
       "      <td>27.4</td>\n",
       "      <td>330.0</td>\n",
       "      <td>280.0</td>\n",
       "      <td>36.0</td>\n",
       "      <td>44.0</td>\n",
       "      <td>2016</td>\n",
       "      <td>1</td>\n",
       "      <td>0.0</td>\n",
       "    </tr>\n",
       "    <tr>\n",
       "      <th>3</th>\n",
       "      <td>5</td>\n",
       "      <td>PM4357992</td>\n",
       "      <td>0494_0860</td>\n",
       "      <td>6</td>\n",
       "      <td>20024</td>\n",
       "      <td>1968</td>\n",
       "      <td>2016</td>\n",
       "      <td>In Compliance</td>\n",
       "      <td>10</td>\n",
       "      <td>80612.0</td>\n",
       "      <td>60000.0</td>\n",
       "      <td>87.0</td>\n",
       "      <td>1</td>\n",
       "      <td>0.0</td>\n",
       "      <td>N</td>\n",
       "      <td>72</td>\n",
       "      <td>2016-01</td>\n",
       "      <td>9.4</td>\n",
       "      <td>0.0</td>\n",
       "      <td>930.0</td>\n",
       "      <td>18.8</td>\n",
       "      <td>35.0</td>\n",
       "      <td>42.6</td>\n",
       "      <td>27.4</td>\n",
       "      <td>330.0</td>\n",
       "      <td>280.0</td>\n",
       "      <td>36.0</td>\n",
       "      <td>44.0</td>\n",
       "      <td>2016</td>\n",
       "      <td>1</td>\n",
       "      <td>0.0</td>\n",
       "    </tr>\n",
       "    <tr>\n",
       "      <th>4</th>\n",
       "      <td>6</td>\n",
       "      <td>PM3632510</td>\n",
       "      <td>0182_0083</td>\n",
       "      <td>2</td>\n",
       "      <td>20036</td>\n",
       "      <td>2001</td>\n",
       "      <td>2016</td>\n",
       "      <td>In Compliance</td>\n",
       "      <td>2</td>\n",
       "      <td>184556.0</td>\n",
       "      <td>158819.0</td>\n",
       "      <td>49.0</td>\n",
       "      <td>1</td>\n",
       "      <td>0.0</td>\n",
       "      <td>N</td>\n",
       "      <td>72</td>\n",
       "      <td>2016-01</td>\n",
       "      <td>9.4</td>\n",
       "      <td>0.0</td>\n",
       "      <td>930.0</td>\n",
       "      <td>18.8</td>\n",
       "      <td>35.0</td>\n",
       "      <td>42.6</td>\n",
       "      <td>27.4</td>\n",
       "      <td>330.0</td>\n",
       "      <td>280.0</td>\n",
       "      <td>36.0</td>\n",
       "      <td>44.0</td>\n",
       "      <td>2016</td>\n",
       "      <td>1</td>\n",
       "      <td>0.0</td>\n",
       "    </tr>\n",
       "  </tbody>\n",
       "</table>\n",
       "</div>"
      ],
      "text/plain": [
       "   id        pid dcrealpropertyid  ward postalcode  yearbuilt  reportingyear  \\\n",
       "0   0  PM4373175        0171_0814     2      20006       1893           2016   \n",
       "1   3  PM1331555        0248_0812     2      20005       1921           2016   \n",
       "2   4  PM3299991        0139_0817     2      20036       1963           2016   \n",
       "3   5  PM4357992        0494_0860     6      20024       1968           2016   \n",
       "4   6  PM3632510        0182_0083     2      20036       2001           2016   \n",
       "\n",
       "    reportstatus primarypropertytype_selfselect  taxrecordfloorarea  \\\n",
       "0  In Compliance                              2            137024.0   \n",
       "1  In Compliance                              7            146425.0   \n",
       "2  In Compliance                             10            101337.0   \n",
       "3  In Compliance                             10             80612.0   \n",
       "4  In Compliance                              2            184556.0   \n",
       "\n",
       "   reportedbuildinggrossfloorarea  energystarscore  month  kbtu elegas  id  \\\n",
       "0                        176170.0              0.0      1   0.0      N  72   \n",
       "1                        222000.0             52.0      1   0.0      N  72   \n",
       "2                         73168.0             38.0      1   0.0      N  72   \n",
       "3                         60000.0             87.0      1   0.0      N  72   \n",
       "4                        158819.0             49.0      1   0.0      N  72   \n",
       "\n",
       "      date  awnd  cldd   htdd  snow  tavg  tmax  tmin   wdf2   wdf5  wsf2  \\\n",
       "0  2016-01   9.4   0.0  930.0  18.8  35.0  42.6  27.4  330.0  280.0  36.0   \n",
       "1  2016-01   9.4   0.0  930.0  18.8  35.0  42.6  27.4  330.0  280.0  36.0   \n",
       "2  2016-01   9.4   0.0  930.0  18.8  35.0  42.6  27.4  330.0  280.0  36.0   \n",
       "3  2016-01   9.4   0.0  930.0  18.8  35.0  42.6  27.4  330.0  280.0  36.0   \n",
       "4  2016-01   9.4   0.0  930.0  18.8  35.0  42.6  27.4  330.0  280.0  36.0   \n",
       "\n",
       "   wsf5  weatheryear  month  kbtusqft  \n",
       "0  44.0         2016      1       0.0  \n",
       "1  44.0         2016      1       0.0  \n",
       "2  44.0         2016      1       0.0  \n",
       "3  44.0         2016      1       0.0  \n",
       "4  44.0         2016      1       0.0  "
      ]
     },
     "execution_count": 13,
     "metadata": {},
     "output_type": "execute_result"
    }
   ],
   "source": [
    "df1.head()"
   ]
  },
  {
   "cell_type": "code",
   "execution_count": 10,
   "metadata": {},
   "outputs": [],
   "source": [
    "df1['kbtusqft']=df1['kbtu']/df1['taxrecordfloorarea']"
   ]
  },
  {
   "cell_type": "code",
   "execution_count": 16,
   "metadata": {},
   "outputs": [],
   "source": [
    "query2='''\n",
    "SELECT * \n",
    "FROM buildings_data b\n",
    "LEFT OUTER join noaa_data n\n",
    "ON b.REPORTINGYEAR = n.WEATHERYEAR\n",
    "WHERE b.MONTH = n.MONTH\n",
    "AND b.KBTU > 0; \n",
    "'''"
   ]
  },
  {
   "cell_type": "code",
   "execution_count": 17,
   "metadata": {
    "scrolled": true
   },
   "outputs": [],
   "source": [
    "df2=pd.read_sql(query2, conn)"
   ]
  },
  {
   "cell_type": "code",
   "execution_count": 18,
   "metadata": {},
   "outputs": [],
   "source": [
    "df2['kbtusqft']=df2['kbtu']/df2['taxrecordfloorarea']"
   ]
  },
  {
   "cell_type": "code",
   "execution_count": 32,
   "metadata": {},
   "outputs": [],
   "source": [
    "df2['datetime']=pd.to_datetime(df2['date'])"
   ]
  },
  {
   "cell_type": "code",
   "execution_count": 33,
   "metadata": {},
   "outputs": [
    {
     "data": {
      "text/html": [
       "<div>\n",
       "<style scoped>\n",
       "    .dataframe tbody tr th:only-of-type {\n",
       "        vertical-align: middle;\n",
       "    }\n",
       "\n",
       "    .dataframe tbody tr th {\n",
       "        vertical-align: top;\n",
       "    }\n",
       "\n",
       "    .dataframe thead th {\n",
       "        text-align: right;\n",
       "    }\n",
       "</style>\n",
       "<table border=\"1\" class=\"dataframe\">\n",
       "  <thead>\n",
       "    <tr style=\"text-align: right;\">\n",
       "      <th></th>\n",
       "      <th>id</th>\n",
       "      <th>pid</th>\n",
       "      <th>dcrealpropertyid</th>\n",
       "      <th>ward</th>\n",
       "      <th>postalcode</th>\n",
       "      <th>yearbuilt</th>\n",
       "      <th>reportingyear</th>\n",
       "      <th>reportstatus</th>\n",
       "      <th>primarypropertytype_selfselect</th>\n",
       "      <th>taxrecordfloorarea</th>\n",
       "      <th>reportedbuildinggrossfloorarea</th>\n",
       "      <th>energystarscore</th>\n",
       "      <th>month</th>\n",
       "      <th>kbtu</th>\n",
       "      <th>elegas</th>\n",
       "      <th>id</th>\n",
       "      <th>date</th>\n",
       "      <th>awnd</th>\n",
       "      <th>cldd</th>\n",
       "      <th>htdd</th>\n",
       "      <th>snow</th>\n",
       "      <th>tavg</th>\n",
       "      <th>tmax</th>\n",
       "      <th>tmin</th>\n",
       "      <th>wdf2</th>\n",
       "      <th>wdf5</th>\n",
       "      <th>wsf2</th>\n",
       "      <th>wsf5</th>\n",
       "      <th>weatheryear</th>\n",
       "      <th>month</th>\n",
       "      <th>kbtusqft</th>\n",
       "      <th>datetime</th>\n",
       "    </tr>\n",
       "  </thead>\n",
       "  <tbody>\n",
       "    <tr>\n",
       "      <th>0</th>\n",
       "      <td>2170</td>\n",
       "      <td>PM6211783</td>\n",
       "      <td>5583_0803</td>\n",
       "      <td>0</td>\n",
       "      <td>0</td>\n",
       "      <td>1943</td>\n",
       "      <td>2019</td>\n",
       "      <td>In Compliance</td>\n",
       "      <td>7</td>\n",
       "      <td>10305.0</td>\n",
       "      <td>62306.0</td>\n",
       "      <td>19.0</td>\n",
       "      <td>1</td>\n",
       "      <td>104735.6</td>\n",
       "      <td>N</td>\n",
       "      <td>108</td>\n",
       "      <td>2019-01</td>\n",
       "      <td>9.6</td>\n",
       "      <td>0.0</td>\n",
       "      <td>860.0</td>\n",
       "      <td>11.5</td>\n",
       "      <td>37.2</td>\n",
       "      <td>44.3</td>\n",
       "      <td>30.2</td>\n",
       "      <td>320.0</td>\n",
       "      <td>310.0</td>\n",
       "      <td>36.0</td>\n",
       "      <td>46.0</td>\n",
       "      <td>2019</td>\n",
       "      <td>1</td>\n",
       "      <td>10.163571</td>\n",
       "      <td>2019-01-01</td>\n",
       "    </tr>\n",
       "    <tr>\n",
       "      <th>1</th>\n",
       "      <td>842</td>\n",
       "      <td>PM1034322</td>\n",
       "      <td>0197_0853</td>\n",
       "      <td>2</td>\n",
       "      <td>20036</td>\n",
       "      <td>1959</td>\n",
       "      <td>2018</td>\n",
       "      <td>In Compliance</td>\n",
       "      <td>10</td>\n",
       "      <td>144462.0</td>\n",
       "      <td>115470.0</td>\n",
       "      <td>82.0</td>\n",
       "      <td>1</td>\n",
       "      <td>458508.5</td>\n",
       "      <td>N</td>\n",
       "      <td>96</td>\n",
       "      <td>2018-01</td>\n",
       "      <td>9.8</td>\n",
       "      <td>0.0</td>\n",
       "      <td>906.0</td>\n",
       "      <td>1.2</td>\n",
       "      <td>35.8</td>\n",
       "      <td>44.7</td>\n",
       "      <td>26.8</td>\n",
       "      <td>300.0</td>\n",
       "      <td>310.0</td>\n",
       "      <td>36.0</td>\n",
       "      <td>49.0</td>\n",
       "      <td>2018</td>\n",
       "      <td>1</td>\n",
       "      <td>3.173904</td>\n",
       "      <td>2018-01-01</td>\n",
       "    </tr>\n",
       "    <tr>\n",
       "      <th>2</th>\n",
       "      <td>845</td>\n",
       "      <td>PM4007835</td>\n",
       "      <td>1601_2421</td>\n",
       "      <td>3</td>\n",
       "      <td>20016</td>\n",
       "      <td>1971</td>\n",
       "      <td>2018</td>\n",
       "      <td>In Compliance</td>\n",
       "      <td>7</td>\n",
       "      <td>208138.0</td>\n",
       "      <td>210807.0</td>\n",
       "      <td>1.0</td>\n",
       "      <td>1</td>\n",
       "      <td>3292421.9</td>\n",
       "      <td>N</td>\n",
       "      <td>96</td>\n",
       "      <td>2018-01</td>\n",
       "      <td>9.8</td>\n",
       "      <td>0.0</td>\n",
       "      <td>906.0</td>\n",
       "      <td>1.2</td>\n",
       "      <td>35.8</td>\n",
       "      <td>44.7</td>\n",
       "      <td>26.8</td>\n",
       "      <td>300.0</td>\n",
       "      <td>310.0</td>\n",
       "      <td>36.0</td>\n",
       "      <td>49.0</td>\n",
       "      <td>2018</td>\n",
       "      <td>1</td>\n",
       "      <td>15.818457</td>\n",
       "      <td>2018-01-01</td>\n",
       "    </tr>\n",
       "    <tr>\n",
       "      <th>3</th>\n",
       "      <td>847</td>\n",
       "      <td>PM6453431</td>\n",
       "      <td>0198_0039</td>\n",
       "      <td>2</td>\n",
       "      <td>20036</td>\n",
       "      <td>1944</td>\n",
       "      <td>2018</td>\n",
       "      <td>In Compliance</td>\n",
       "      <td>7</td>\n",
       "      <td>1050362.0</td>\n",
       "      <td>559168.0</td>\n",
       "      <td>12.0</td>\n",
       "      <td>1</td>\n",
       "      <td>1526330.0</td>\n",
       "      <td>N</td>\n",
       "      <td>96</td>\n",
       "      <td>2018-01</td>\n",
       "      <td>9.8</td>\n",
       "      <td>0.0</td>\n",
       "      <td>906.0</td>\n",
       "      <td>1.2</td>\n",
       "      <td>35.8</td>\n",
       "      <td>44.7</td>\n",
       "      <td>26.8</td>\n",
       "      <td>300.0</td>\n",
       "      <td>310.0</td>\n",
       "      <td>36.0</td>\n",
       "      <td>49.0</td>\n",
       "      <td>2018</td>\n",
       "      <td>1</td>\n",
       "      <td>1.453147</td>\n",
       "      <td>2018-01-01</td>\n",
       "    </tr>\n",
       "    <tr>\n",
       "      <th>4</th>\n",
       "      <td>851</td>\n",
       "      <td>PM3353544</td>\n",
       "      <td>0435_0837</td>\n",
       "      <td>6</td>\n",
       "      <td>20024</td>\n",
       "      <td>1979</td>\n",
       "      <td>2018</td>\n",
       "      <td>In Compliance</td>\n",
       "      <td>10</td>\n",
       "      <td>256738.0</td>\n",
       "      <td>819867.0</td>\n",
       "      <td>0.0</td>\n",
       "      <td>1</td>\n",
       "      <td>2949500.0</td>\n",
       "      <td>N</td>\n",
       "      <td>96</td>\n",
       "      <td>2018-01</td>\n",
       "      <td>9.8</td>\n",
       "      <td>0.0</td>\n",
       "      <td>906.0</td>\n",
       "      <td>1.2</td>\n",
       "      <td>35.8</td>\n",
       "      <td>44.7</td>\n",
       "      <td>26.8</td>\n",
       "      <td>300.0</td>\n",
       "      <td>310.0</td>\n",
       "      <td>36.0</td>\n",
       "      <td>49.0</td>\n",
       "      <td>2018</td>\n",
       "      <td>1</td>\n",
       "      <td>11.488366</td>\n",
       "      <td>2018-01-01</td>\n",
       "    </tr>\n",
       "  </tbody>\n",
       "</table>\n",
       "</div>"
      ],
      "text/plain": [
       "     id        pid dcrealpropertyid  ward postalcode  yearbuilt  \\\n",
       "0  2170  PM6211783        5583_0803     0          0       1943   \n",
       "1   842  PM1034322        0197_0853     2      20036       1959   \n",
       "2   845  PM4007835        1601_2421     3      20016       1971   \n",
       "3   847  PM6453431        0198_0039     2      20036       1944   \n",
       "4   851  PM3353544        0435_0837     6      20024       1979   \n",
       "\n",
       "   reportingyear   reportstatus primarypropertytype_selfselect  \\\n",
       "0           2019  In Compliance                              7   \n",
       "1           2018  In Compliance                             10   \n",
       "2           2018  In Compliance                              7   \n",
       "3           2018  In Compliance                              7   \n",
       "4           2018  In Compliance                             10   \n",
       "\n",
       "   taxrecordfloorarea  reportedbuildinggrossfloorarea  energystarscore  month  \\\n",
       "0             10305.0                         62306.0             19.0      1   \n",
       "1            144462.0                        115470.0             82.0      1   \n",
       "2            208138.0                        210807.0              1.0      1   \n",
       "3           1050362.0                        559168.0             12.0      1   \n",
       "4            256738.0                        819867.0              0.0      1   \n",
       "\n",
       "        kbtu elegas   id     date  awnd  cldd   htdd  snow  tavg  tmax  tmin  \\\n",
       "0   104735.6      N  108  2019-01   9.6   0.0  860.0  11.5  37.2  44.3  30.2   \n",
       "1   458508.5      N   96  2018-01   9.8   0.0  906.0   1.2  35.8  44.7  26.8   \n",
       "2  3292421.9      N   96  2018-01   9.8   0.0  906.0   1.2  35.8  44.7  26.8   \n",
       "3  1526330.0      N   96  2018-01   9.8   0.0  906.0   1.2  35.8  44.7  26.8   \n",
       "4  2949500.0      N   96  2018-01   9.8   0.0  906.0   1.2  35.8  44.7  26.8   \n",
       "\n",
       "    wdf2   wdf5  wsf2  wsf5  weatheryear  month   kbtusqft   datetime  \n",
       "0  320.0  310.0  36.0  46.0         2019      1  10.163571 2019-01-01  \n",
       "1  300.0  310.0  36.0  49.0         2018      1   3.173904 2018-01-01  \n",
       "2  300.0  310.0  36.0  49.0         2018      1  15.818457 2018-01-01  \n",
       "3  300.0  310.0  36.0  49.0         2018      1   1.453147 2018-01-01  \n",
       "4  300.0  310.0  36.0  49.0         2018      1  11.488366 2018-01-01  "
      ]
     },
     "execution_count": 33,
     "metadata": {},
     "output_type": "execute_result"
    }
   ],
   "source": [
    "df2.head()"
   ]
  },
  {
   "cell_type": "code",
   "execution_count": 34,
   "metadata": {
    "scrolled": true
   },
   "outputs": [
    {
     "data": {
      "text/plain": [
       "Index(['id', 'pid', 'dcrealpropertyid', 'ward', 'postalcode', 'yearbuilt',\n",
       "       'reportingyear', 'reportstatus', 'primarypropertytype_selfselect',\n",
       "       'taxrecordfloorarea', 'reportedbuildinggrossfloorarea',\n",
       "       'energystarscore', 'month', 'kbtu', 'elegas', 'id', 'date', 'awnd',\n",
       "       'cldd', 'htdd', 'snow', 'tavg', 'tmax', 'tmin', 'wdf2', 'wdf5', 'wsf2',\n",
       "       'wsf5', 'weatheryear', 'month', 'kbtusqft', 'datetime'],\n",
       "      dtype='object')"
      ]
     },
     "execution_count": 34,
     "metadata": {},
     "output_type": "execute_result"
    }
   ],
   "source": [
    "df2.columns"
   ]
  },
  {
   "cell_type": "code",
   "execution_count": 56,
   "metadata": {},
   "outputs": [
    {
     "data": {
      "text/plain": [
       "array(['7', '10', '3', '2', '17', '14', '6', '15', '11', '4', '19', '16',\n",
       "       '9', '13', '8', '5', '18'], dtype=object)"
      ]
     },
     "execution_count": 56,
     "metadata": {},
     "output_type": "execute_result"
    }
   ],
   "source": [
    "df2.primarypropertytype_selfselect.unique()"
   ]
  },
  {
   "cell_type": "code",
   "execution_count": 47,
   "metadata": {},
   "outputs": [],
   "source": [
    "from sklearn.model_selection import train_test_split as tts\n",
    "\n",
    "TARGET = ['kbtusqft']\n",
    "COLS =['dcrealpropertyid', 'ward', 'postalcode', 'yearbuilt',\n",
    "       'reportingyear','primarypropertytype_selfselect', 'month', 'elegas', 'id', \n",
    "       'awnd', 'cldd', 'htdd', 'snow', 'tavg','datetime'\n",
    "       'wdf2', 'wdf5', 'wsf2', 'wsf5', 'weatheryear']\n",
    "\n",
    "\n",
    "def make_sklearn_data(df=df1, splits=True, train_size=0.8, target=TARGET, cols=COLS):\n",
    "    # Add the datetime column back to the main dataframe\n",
    "    df = df.reset_index()\n",
    "    X, y = df[cols], df[target]\n",
    "    \n",
    "    if splits:\n",
    "        return tts(X, y, train_size=train_size)\n",
    "    return X, y"
   ]
  },
  {
   "cell_type": "code",
   "execution_count": 48,
   "metadata": {},
   "outputs": [
    {
     "data": {
      "text/plain": [
       "<AxesSubplot:xlabel='datetime_cos', ylabel='datetime_sin'>"
      ]
     },
     "execution_count": 48,
     "metadata": {},
     "output_type": "execute_result"
    },
    {
     "data": {
      "image/png": "[encoded data removed]",
      "text/plain": [
       "<Figure size 432x288 with 1 Axes>"
      ]
     },
     "metadata": {},
     "output_type": "display_data"
    }
   ],
   "source": [
    "from sklearn.base import BaseEstimator, TransformerMixin\n",
    "\n",
    "\n",
    "class CyclicEncoder(BaseEstimator, TransformerMixin):\n",
    "    \n",
    "    def __init__(self, date_extract=\"month\"):\n",
    "        if date_extract not in {\"minute\", \"hour\", \"week\", \"month\", \"year\"}:\n",
    "            raise ValueError(f\"specify correct date component to extract, not {date_extract}\")\n",
    "        self.date_extract = date_extract\n",
    "    \n",
    "    def get_date_component(self, x):\n",
    "        if self.date_extract == \"month\":\n",
    "            return x.dt.month\n",
    "        elif self.date_extract == \"year\":\n",
    "            return x.dt.year\n",
    "        else:\n",
    "            raise NotImplementedError(f\"{self.date_extract} date component not implemented yet\")\n",
    "            \n",
    "    def fit(self, X, y=None):\n",
    "        self.cycle_max_ = self.get_date_component(X).max()\n",
    "        return self\n",
    "\n",
    "    def transform(self, X,  y=None):\n",
    "        cols = []\n",
    "        names = []\n",
    "        x = self.get_date_component(X)\n",
    "        xn = 2 * np.pi * x / self.cycle_max_\n",
    "        cols.append(np.cos(xn))\n",
    "        names.append(f\"{X.name}_cos\")\n",
    "        cols.append(np.sin(xn))\n",
    "        names.append(f\"{X.name}_sin\")\n",
    "        return pd.DataFrame(np.asarray(cols).T, columns=names)\n",
    "\n",
    "    \n",
    "ce = CyclicEncoder().fit_transform(df2.reset_index()[\"datetime\"])\n",
    "ce.plot(x=\"datetime_cos\", y=\"datetime_sin\", kind=\"scatter\")"
   ]
  },
  {
   "cell_type": "markdown",
   "metadata": {},
   "source": [
    "### Construct a Pipeline"
   ]
  },
  {
   "cell_type": "code",
   "execution_count": 49,
   "metadata": {},
   "outputs": [],
   "source": [
    "from sklearn.preprocessing import OneHotEncoder\n",
    "from sklearn.compose import ColumnTransformer\n",
    "from sklearn.pipeline import FeatureUnion, Pipeline"
   ]
  },
  {
   "cell_type": "code",
   "execution_count": 50,
   "metadata": {},
   "outputs": [],
   "source": [
    "engineering=Pipeline([\n",
    "    ('column_selection', ColumnTransformer([('time_components', FeatureUnion([\n",
    "        ('month', CyclicEncoder(date_extract='month')), ('year', CyclicEncoder(date_extract='year')), \n",
    "        ]),'date_time'),('encoder', OneHotEncoder(handle_unknown='ignore'), df2['ward'])], remainder='passthrough')),\n",
    "])\n",
    "\n",
    "#columnTransformer = ColumnTransformer([('encoder', OneHotEncoder(), df2['ward'])], remainder='passthrough')"
   ]
  },
  {
   "cell_type": "code",
   "execution_count": 52,
   "metadata": {},
   "outputs": [
    {
     "ename": "KeyError",
     "evalue": "\"['datetimewdf2'] not in index\"",
     "output_type": "error",
     "traceback": [
      "\u001b[0;31m---------------------------------------------------------------------------\u001b[0m",
      "\u001b[0;31mKeyError\u001b[0m                                  Traceback (most recent call last)",
      "\u001b[0;32m<ipython-input-52-3c7b254f3b59>\u001b[0m in \u001b[0;36m<module>\u001b[0;34m\u001b[0m\n\u001b[0;32m----> 1\u001b[0;31m \u001b[0mX\u001b[0m\u001b[0;34m,\u001b[0m \u001b[0my\u001b[0m \u001b[0;34m=\u001b[0m\u001b[0mmake_sklearn_data\u001b[0m\u001b[0;34m(\u001b[0m\u001b[0msplits\u001b[0m\u001b[0;34m=\u001b[0m\u001b[0;32mFalse\u001b[0m\u001b[0;34m)\u001b[0m\u001b[0;34m\u001b[0m\u001b[0;34m\u001b[0m\u001b[0m\n\u001b[0m\u001b[1;32m      2\u001b[0m \u001b[0mengineering\u001b[0m\u001b[0;34m.\u001b[0m\u001b[0mfit_transform\u001b[0m\u001b[0;34m(\u001b[0m\u001b[0mX\u001b[0m\u001b[0;34m)\u001b[0m\u001b[0;34m.\u001b[0m\u001b[0mshape\u001b[0m\u001b[0;34m\u001b[0m\u001b[0;34m\u001b[0m\u001b[0m\n",
      "\u001b[0;32m<ipython-input-47-dd4ca0c12ef8>\u001b[0m in \u001b[0;36mmake_sklearn_data\u001b[0;34m(df, splits, train_size, target, cols)\u001b[0m\n\u001b[1;32m     11\u001b[0m     \u001b[0;31m# Add the datetime column back to the main dataframe\u001b[0m\u001b[0;34m\u001b[0m\u001b[0;34m\u001b[0m\u001b[0;34m\u001b[0m\u001b[0m\n\u001b[1;32m     12\u001b[0m     \u001b[0mdf\u001b[0m \u001b[0;34m=\u001b[0m \u001b[0mdf\u001b[0m\u001b[0;34m.\u001b[0m\u001b[0mreset_index\u001b[0m\u001b[0;34m(\u001b[0m\u001b[0;34m)\u001b[0m\u001b[0;34m\u001b[0m\u001b[0;34m\u001b[0m\u001b[0m\n\u001b[0;32m---> 13\u001b[0;31m     \u001b[0mX\u001b[0m\u001b[0;34m,\u001b[0m \u001b[0my\u001b[0m \u001b[0;34m=\u001b[0m \u001b[0mdf\u001b[0m\u001b[0;34m[\u001b[0m\u001b[0mcols\u001b[0m\u001b[0;34m]\u001b[0m\u001b[0;34m,\u001b[0m \u001b[0mdf\u001b[0m\u001b[0;34m[\u001b[0m\u001b[0mtarget\u001b[0m\u001b[0;34m]\u001b[0m\u001b[0;34m\u001b[0m\u001b[0;34m\u001b[0m\u001b[0m\n\u001b[0m\u001b[1;32m     14\u001b[0m \u001b[0;34m\u001b[0m\u001b[0m\n\u001b[1;32m     15\u001b[0m     \u001b[0;32mif\u001b[0m \u001b[0msplits\u001b[0m\u001b[0;34m:\u001b[0m\u001b[0;34m\u001b[0m\u001b[0;34m\u001b[0m\u001b[0m\n",
      "\u001b[0;32m~/.pyenv/versions/anaconda3-2019.10/lib/python3.7/site-packages/pandas/core/frame.py\u001b[0m in \u001b[0;36m__getitem__\u001b[0;34m(self, key)\u001b[0m\n\u001b[1;32m   2804\u001b[0m             \u001b[0;32mif\u001b[0m \u001b[0mis_iterator\u001b[0m\u001b[0;34m(\u001b[0m\u001b[0mkey\u001b[0m\u001b[0;34m)\u001b[0m\u001b[0;34m:\u001b[0m\u001b[0;34m\u001b[0m\u001b[0;34m\u001b[0m\u001b[0m\n\u001b[1;32m   2805\u001b[0m                 \u001b[0mkey\u001b[0m \u001b[0;34m=\u001b[0m \u001b[0mlist\u001b[0m\u001b[0;34m(\u001b[0m\u001b[0mkey\u001b[0m\u001b[0;34m)\u001b[0m\u001b[0;34m\u001b[0m\u001b[0;34m\u001b[0m\u001b[0m\n\u001b[0;32m-> 2806\u001b[0;31m             \u001b[0mindexer\u001b[0m \u001b[0;34m=\u001b[0m \u001b[0mself\u001b[0m\u001b[0;34m.\u001b[0m\u001b[0mloc\u001b[0m\u001b[0;34m.\u001b[0m\u001b[0m_get_listlike_indexer\u001b[0m\u001b[0;34m(\u001b[0m\u001b[0mkey\u001b[0m\u001b[0;34m,\u001b[0m \u001b[0maxis\u001b[0m\u001b[0;34m=\u001b[0m\u001b[0;36m1\u001b[0m\u001b[0;34m,\u001b[0m \u001b[0mraise_missing\u001b[0m\u001b[0;34m=\u001b[0m\u001b[0;32mTrue\u001b[0m\u001b[0;34m)\u001b[0m\u001b[0;34m[\u001b[0m\u001b[0;36m1\u001b[0m\u001b[0;34m]\u001b[0m\u001b[0;34m\u001b[0m\u001b[0;34m\u001b[0m\u001b[0m\n\u001b[0m\u001b[1;32m   2807\u001b[0m \u001b[0;34m\u001b[0m\u001b[0m\n\u001b[1;32m   2808\u001b[0m         \u001b[0;31m# take() does not accept boolean indexers\u001b[0m\u001b[0;34m\u001b[0m\u001b[0;34m\u001b[0m\u001b[0;34m\u001b[0m\u001b[0m\n",
      "\u001b[0;32m~/.pyenv/versions/anaconda3-2019.10/lib/python3.7/site-packages/pandas/core/indexing.py\u001b[0m in \u001b[0;36m_get_listlike_indexer\u001b[0;34m(self, key, axis, raise_missing)\u001b[0m\n\u001b[1;32m   1551\u001b[0m \u001b[0;34m\u001b[0m\u001b[0m\n\u001b[1;32m   1552\u001b[0m         self._validate_read_indexer(\n\u001b[0;32m-> 1553\u001b[0;31m             \u001b[0mkeyarr\u001b[0m\u001b[0;34m,\u001b[0m \u001b[0mindexer\u001b[0m\u001b[0;34m,\u001b[0m \u001b[0mo\u001b[0m\u001b[0;34m.\u001b[0m\u001b[0m_get_axis_number\u001b[0m\u001b[0;34m(\u001b[0m\u001b[0maxis\u001b[0m\u001b[0;34m)\u001b[0m\u001b[0;34m,\u001b[0m \u001b[0mraise_missing\u001b[0m\u001b[0;34m=\u001b[0m\u001b[0mraise_missing\u001b[0m\u001b[0;34m\u001b[0m\u001b[0;34m\u001b[0m\u001b[0m\n\u001b[0m\u001b[1;32m   1554\u001b[0m         )\n\u001b[1;32m   1555\u001b[0m         \u001b[0;32mreturn\u001b[0m \u001b[0mkeyarr\u001b[0m\u001b[0;34m,\u001b[0m \u001b[0mindexer\u001b[0m\u001b[0;34m\u001b[0m\u001b[0;34m\u001b[0m\u001b[0m\n",
      "\u001b[0;32m~/.pyenv/versions/anaconda3-2019.10/lib/python3.7/site-packages/pandas/core/indexing.py\u001b[0m in \u001b[0;36m_validate_read_indexer\u001b[0;34m(self, key, indexer, axis, raise_missing)\u001b[0m\n\u001b[1;32m   1644\u001b[0m             \u001b[0;32mif\u001b[0m \u001b[0;32mnot\u001b[0m \u001b[0;34m(\u001b[0m\u001b[0mself\u001b[0m\u001b[0;34m.\u001b[0m\u001b[0mname\u001b[0m \u001b[0;34m==\u001b[0m \u001b[0;34m\"loc\"\u001b[0m \u001b[0;32mand\u001b[0m \u001b[0;32mnot\u001b[0m \u001b[0mraise_missing\u001b[0m\u001b[0;34m)\u001b[0m\u001b[0;34m:\u001b[0m\u001b[0;34m\u001b[0m\u001b[0;34m\u001b[0m\u001b[0m\n\u001b[1;32m   1645\u001b[0m                 \u001b[0mnot_found\u001b[0m \u001b[0;34m=\u001b[0m \u001b[0mlist\u001b[0m\u001b[0;34m(\u001b[0m\u001b[0mset\u001b[0m\u001b[0;34m(\u001b[0m\u001b[0mkey\u001b[0m\u001b[0;34m)\u001b[0m \u001b[0;34m-\u001b[0m \u001b[0mset\u001b[0m\u001b[0;34m(\u001b[0m\u001b[0max\u001b[0m\u001b[0;34m)\u001b[0m\u001b[0;34m)\u001b[0m\u001b[0;34m\u001b[0m\u001b[0;34m\u001b[0m\u001b[0m\n\u001b[0;32m-> 1646\u001b[0;31m                 \u001b[0;32mraise\u001b[0m \u001b[0mKeyError\u001b[0m\u001b[0;34m(\u001b[0m\u001b[0;34mf\"{not_found} not in index\"\u001b[0m\u001b[0;34m)\u001b[0m\u001b[0;34m\u001b[0m\u001b[0;34m\u001b[0m\u001b[0m\n\u001b[0m\u001b[1;32m   1647\u001b[0m \u001b[0;34m\u001b[0m\u001b[0m\n\u001b[1;32m   1648\u001b[0m             \u001b[0;31m# we skip the warning on Categorical/Interval\u001b[0m\u001b[0;34m\u001b[0m\u001b[0;34m\u001b[0m\u001b[0;34m\u001b[0m\u001b[0m\n",
      "\u001b[0;31mKeyError\u001b[0m: \"['datetimewdf2'] not in index\""
     ]
    }
   ],
   "source": [
    "X, y =make_sklearn_data(splits=False)\n",
    "engineering.fit_transform(X).shape"
   ]
  },
  {
   "cell_type": "code",
   "execution_count": 36,
   "metadata": {},
   "outputs": [
    {
     "name": "stdout",
     "output_type": "stream",
     "text": [
      "Closed\n"
     ]
    }
   ],
   "source": [
    "conn.close()\n",
    "print('Closed')"
   ]
  },
  {
   "cell_type": "code",
   "execution_count": null,
   "metadata": {},
   "outputs": [],
   "source": []
  }
 ],
 "metadata": {
  "kernelspec": {
   "display_name": "Python 3",
   "language": "python",
   "name": "python3"
  },
  "language_info": {
   "codemirror_mode": {
    "name": "ipython",
    "version": 3
   },
   "file_extension": ".py",
   "mimetype": "text/x-python",
   "name": "python",
   "nbconvert_exporter": "python",
   "pygments_lexer": "ipython3",
   "version": "3.7.4"
  }
 },
 "nbformat": 4,
 "nbformat_minor": 2
}
