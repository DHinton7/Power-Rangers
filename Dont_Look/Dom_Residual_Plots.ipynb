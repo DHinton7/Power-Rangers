{
 "cells": [
  {
   "cell_type": "code",
   "execution_count": 1,
   "metadata": {},
   "outputs": [],
   "source": [
    "import psycopg2\n",
    "import config as creds\n",
    "import sqlalchemy\n",
    "from sqlalchemy import create_engine\n",
    "import numpy as np\n",
    "import pandas as pd\n",
    "from datetime import datetime\n",
    "from scipy import stats\n",
    "import matplotlib.pyplot as plt\n",
    "plt.style.use('dark_background')\n",
    "import seaborn as sns"
   ]
  },
  {
   "cell_type": "code",
   "execution_count": 2,
   "metadata": {},
   "outputs": [],
   "source": [
    "user=creds.PGUSER\n",
    "password=creds.PGPASSWORD\n",
    "host=creds.PGHOST\n",
    "port=5432\n",
    "database=creds.PGDATABASE"
   ]
  },
  {
   "cell_type": "code",
   "execution_count": 3,
   "metadata": {},
   "outputs": [
    {
     "name": "stdout",
     "output_type": "stream",
     "text": [
      "Connected\n",
      "Cursor created\n"
     ]
    }
   ],
   "source": [
    "engine_str=f\"postgresql+psycopg2://{user}:{password}@{host}:{port}/{database}\"\n",
    "engine = create_engine(engine_str)\n",
    "conn = engine.raw_connection()\n",
    "print('Connected')\n",
    "cur = conn.cursor()\n",
    "print('Cursor created')"
   ]
  },
  {
   "cell_type": "code",
   "execution_count": 4,
   "metadata": {},
   "outputs": [],
   "source": [
    "query4='''\n",
    "SELECT b.kbtu,b.reportedbuildinggrossfloorarea, b.ward, b.primarypropertytype_selfselect, b.elegas,b.reportingyear, n.awnd,\n",
    "       n.cldd, n.htdd, n.tavg, n.wdf2, n.wdf5, n.wsf2,n.wsf5, n.date \n",
    "FROM buildings_data b\n",
    "LEFT OUTER join noaa_data n\n",
    "ON b.REPORTINGYEAR = n.WEATHERYEAR\n",
    "WHERE b.MONTH = n.MONTH\n",
    "AND b.KBTU > 0\n",
    "AND b.elegas = 'N'\n",
    "AND b.reportingyear = 2018; \n",
    "'''"
   ]
  },
  {
   "cell_type": "code",
   "execution_count": 5,
   "metadata": {},
   "outputs": [],
   "source": [
    "query5='''\n",
    "SELECT b.kbtu,b.reportedbuildinggrossfloorarea, b.ward, b.primarypropertytype_selfselect, b.elegas,b.reportingyear, n.awnd,\n",
    "       n.cldd, n.htdd, n.tavg, n.wdf2, n.wdf5, n.wsf2,n.wsf5, n.date \n",
    "FROM buildings_data b\n",
    "LEFT OUTER join noaa_data n\n",
    "ON b.REPORTINGYEAR = n.WEATHERYEAR\n",
    "WHERE b.MONTH = n.MONTH\n",
    "AND b.KBTU > 0\n",
    "AND b.elegas = 'N'\n",
    "AND b.reportingyear = 2019; \n",
    "'''"
   ]
  },
  {
   "cell_type": "code",
   "execution_count": 6,
   "metadata": {},
   "outputs": [],
   "source": [
    "query6='''\n",
    "SELECT b.kbtu,b.reportedbuildinggrossfloorarea, b.ward, b.primarypropertytype_selfselect, b.elegas,b.reportingyear, n.awnd,\n",
    "       n.cldd, n.htdd, n.tavg, n.wdf2, n.wdf5, n.wsf2,n.wsf5, n.date \n",
    "FROM buildings_data b\n",
    "LEFT OUTER join noaa_data n\n",
    "ON b.REPORTINGYEAR = n.WEATHERYEAR\n",
    "WHERE b.MONTH = n.MONTH\n",
    "AND b.KBTU > 0\n",
    "AND b.elegas = 'E'\n",
    "AND b.reportingyear = 2018; \n",
    "'''"
   ]
  },
  {
   "cell_type": "code",
   "execution_count": 7,
   "metadata": {},
   "outputs": [],
   "source": [
    "query7='''\n",
    "SELECT b.kbtu,b.reportedbuildinggrossfloorarea, b.ward, b.primarypropertytype_selfselect, b.elegas, b.reportingyear, n.awnd,\n",
    "       n.cldd, n.htdd, n.tavg, n.wdf2, n.wdf5, n.wsf2,n.wsf5, n.date \n",
    "FROM buildings_data b\n",
    "LEFT OUTER join noaa_data n\n",
    "ON b.REPORTINGYEAR = n.WEATHERYEAR\n",
    "WHERE b.MONTH = n.MONTH\n",
    "AND b.KBTU > 0\n",
    "AND b.elegas = 'E'\n",
    "AND b.reportingyear = 2019; \n",
    "'''"
   ]
  },
  {
   "cell_type": "code",
   "execution_count": 8,
   "metadata": {},
   "outputs": [],
   "source": [
    "natdf2018=pd.read_sql(query4, conn)\n",
    "natdf2019=pd.read_sql(query5, conn)\n",
    "eledf2018=pd.read_sql(query6, conn)\n",
    "eledf2019=pd.read_sql(query7, conn)"
   ]
  },
  {
   "cell_type": "code",
   "execution_count": 9,
   "metadata": {},
   "outputs": [
    {
     "name": "stdout",
     "output_type": "stream",
     "text": [
      "Closed\n"
     ]
    }
   ],
   "source": [
    "conn.close()\n",
    "print('Closed')"
   ]
  },
  {
   "cell_type": "code",
   "execution_count": 11,
   "metadata": {},
   "outputs": [],
   "source": [
    "eledf2018['kbtusqft']=eledf2018['kbtu']/eledf2018['reportedbuildinggrossfloorarea']\n",
    "eledf2018['datetime']=pd.to_datetime(eledf2018['date'])\n",
    "eledf2018['primarypropertytype_selfselect']=eledf2018['primarypropertytype_selfselect'].astype('object')\n",
    "eledf2018.set_index('datetime', inplace=True)\n",
    "\n",
    "eledf2019['kbtusqft']=eledf2019['kbtu']/eledf2019['reportedbuildinggrossfloorarea']\n",
    "eledf2019['datetime']=pd.to_datetime(eledf2019['date'])\n",
    "eledf2019['primarypropertytype_selfselect']=eledf2019['primarypropertytype_selfselect'].astype('object')\n",
    "eledf2019.set_index('datetime', inplace=True)\n",
    "\n",
    "natdf2018['kbtusqft']=natdf2018['kbtu']/natdf2018['reportedbuildinggrossfloorarea']\n",
    "natdf2018['datetime']=pd.to_datetime(natdf2018['date'])\n",
    "natdf2018['primarypropertytype_selfselect']=natdf2018['primarypropertytype_selfselect'].astype('object')\n",
    "natdf2018.set_index('datetime', inplace=True)\n",
    "\n",
    "natdf2019['kbtusqft']=natdf2019['kbtu']/natdf2019['reportedbuildinggrossfloorarea']\n",
    "natdf2019['datetime']=pd.to_datetime(natdf2019['date'])\n",
    "natdf2019['primarypropertytype_selfselect']=natdf2019['primarypropertytype_selfselect'].astype('object')\n",
    "natdf2019.set_index('datetime', inplace=True)"
   ]
  },
  {
   "cell_type": "code",
   "execution_count": 12,
   "metadata": {},
   "outputs": [],
   "source": [
    "eledf2_2018 =eledf2018.loc[eledf2018['primarypropertytype_selfselect'] == '2', ['kbtu', 'reportedbuildinggrossfloorarea', 'ward','primarypropertytype_selfselect',\n",
    "       'elegas', 'awnd', 'cldd', 'htdd', 'tavg', 'wdf2', 'wdf5', 'wsf2','wsf5', 'date', 'kbtusqft']]\n",
    "eledf3_2018 =eledf2018.loc[eledf2018['primarypropertytype_selfselect'] == '3', ['kbtu', 'reportedbuildinggrossfloorarea', 'ward', 'primarypropertytype_selfselect',\n",
    "       'elegas', 'awnd', 'cldd', 'htdd', 'tavg', 'wdf2', 'wdf5', 'wsf2','wsf5', 'date', 'kbtusqft']]\n",
    "eledf4_2018 =eledf2018.loc[eledf2018['primarypropertytype_selfselect'] == '4', ['kbtu', 'reportedbuildinggrossfloorarea', 'ward', 'primarypropertytype_selfselect',\n",
    "       'elegas', 'awnd', 'cldd', 'htdd', 'tavg', 'wdf2', 'wdf5', 'wsf2','wsf5', 'date', 'kbtusqft']]\n",
    "eledf5_2018 =eledf2018.loc[eledf2018['primarypropertytype_selfselect'] == '5', ['kbtu', 'reportedbuildinggrossfloorarea', 'ward', 'primarypropertytype_selfselect',\n",
    "       'elegas', 'awnd', 'cldd', 'htdd', 'tavg', 'wdf2', 'wdf5', 'wsf2','wsf5', 'date', 'kbtusqft']]\n",
    "eledf6_2018 =eledf2018.loc[eledf2018['primarypropertytype_selfselect'] == '6', ['kbtu', 'reportedbuildinggrossfloorarea', 'ward', 'primarypropertytype_selfselect',\n",
    "       'elegas', 'awnd', 'cldd', 'htdd', 'tavg', 'wdf2', 'wdf5', 'wsf2','wsf5', 'date', 'kbtusqft']]\n",
    "eledf7_2018 =eledf2018.loc[eledf2018['primarypropertytype_selfselect'] == '7', ['kbtu', 'reportedbuildinggrossfloorarea', 'ward', 'primarypropertytype_selfselect',\n",
    "       'elegas', 'awnd', 'cldd', 'htdd', 'tavg', 'wdf2', 'wdf5', 'wsf2','wsf5', 'date', 'kbtusqft']]\n",
    "\n",
    "eledf2_2019 =eledf2018.loc[eledf2018['primarypropertytype_selfselect'] == '2', ['kbtu', 'reportedbuildinggrossfloorarea', 'ward', 'primarypropertytype_selfselect',\n",
    "       'elegas', 'awnd', 'cldd', 'htdd', 'tavg', 'wdf2', 'wdf5', 'wsf2','wsf5', 'date', 'kbtusqft']]\n",
    "eledf3_2019 =eledf2018.loc[eledf2018['primarypropertytype_selfselect'] == '3', ['kbtu', 'reportedbuildinggrossfloorarea', 'ward', 'primarypropertytype_selfselect',\n",
    "       'elegas', 'awnd', 'cldd', 'htdd', 'tavg', 'wdf2', 'wdf5', 'wsf2','wsf5', 'date', 'kbtusqft']]\n",
    "eledf4_2019 =eledf2018.loc[eledf2018['primarypropertytype_selfselect'] == '4', ['kbtu', 'reportedbuildinggrossfloorarea', 'ward', 'primarypropertytype_selfselect',\n",
    "       'elegas', 'awnd', 'cldd', 'htdd', 'tavg', 'wdf2', 'wdf5', 'wsf2','wsf5', 'date', 'kbtusqft']]\n",
    "eledf5_2019 =eledf2018.loc[eledf2018['primarypropertytype_selfselect'] == '5', ['kbtu', 'reportedbuildinggrossfloorarea', 'ward', 'primarypropertytype_selfselect',\n",
    "       'elegas', 'awnd', 'cldd', 'htdd', 'tavg', 'wdf2', 'wdf5', 'wsf2','wsf5', 'date', 'kbtusqft']]\n",
    "eledf6_2019 =eledf2018.loc[eledf2018['primarypropertytype_selfselect'] == '6', ['kbtu', 'reportedbuildinggrossfloorarea', 'ward', 'primarypropertytype_selfselect',\n",
    "       'elegas', 'awnd', 'cldd', 'htdd', 'tavg', 'wdf2', 'wdf5', 'wsf2','wsf5', 'date', 'kbtusqft']]\n",
    "eledf7_2019 =eledf2018.loc[eledf2018['primarypropertytype_selfselect'] == '7', ['kbtu', 'reportedbuildinggrossfloorarea', 'ward', 'primarypropertytype_selfselect',\n",
    "       'elegas', 'awnd', 'cldd', 'htdd', 'tavg', 'wdf2', 'wdf5', 'wsf2','wsf5', 'date', 'kbtusqft']]\n",
    "\n",
    "natdf2_2018 =natdf2018.loc[natdf2018['primarypropertytype_selfselect'] == '2', ['kbtu', 'reportedbuildinggrossfloorarea', 'ward', 'primarypropertytype_selfselect',\n",
    "       'elegas', 'awnd', 'cldd', 'htdd', 'tavg', 'wdf2', 'wdf5', 'wsf2','wsf5', 'date', 'kbtusqft']]\n",
    "natdf3_2018 =natdf2018.loc[natdf2018['primarypropertytype_selfselect'] == '3', ['kbtu', 'reportedbuildinggrossfloorarea', 'ward', 'primarypropertytype_selfselect',\n",
    "       'elegas', 'awnd', 'cldd', 'htdd', 'tavg', 'wdf2', 'wdf5', 'wsf2','wsf5', 'date', 'kbtusqft']]\n",
    "natdf4_2018 =natdf2018.loc[natdf2018['primarypropertytype_selfselect'] == '4', ['kbtu', 'reportedbuildinggrossfloorarea', 'ward', 'primarypropertytype_selfselect',\n",
    "       'elegas', 'awnd', 'cldd', 'htdd', 'tavg', 'wdf2', 'wdf5', 'wsf2','wsf5', 'date', 'kbtusqft']]\n",
    "natdf5_2018 =natdf2018.loc[natdf2018['primarypropertytype_selfselect'] == '5', ['kbtu', 'reportedbuildinggrossfloorarea', 'ward', 'primarypropertytype_selfselect',\n",
    "       'elegas', 'awnd', 'cldd', 'htdd', 'tavg', 'wdf2', 'wdf5', 'wsf2','wsf5', 'date', 'kbtusqft']]\n",
    "natdf6_2018 =natdf2018.loc[natdf2018['primarypropertytype_selfselect'] == '6', ['kbtu', 'reportedbuildinggrossfloorarea', 'ward', 'primarypropertytype_selfselect',\n",
    "       'elegas', 'awnd', 'cldd', 'htdd', 'tavg', 'wdf2', 'wdf5', 'wsf2','wsf5', 'date', 'kbtusqft']]\n",
    "natdf7_2018 =natdf2018.loc[natdf2018['primarypropertytype_selfselect'] == '7', ['kbtu', 'reportedbuildinggrossfloorarea', 'ward', 'primarypropertytype_selfselect',\n",
    "       'elegas', 'awnd', 'cldd', 'htdd', 'tavg', 'wdf2', 'wdf5', 'wsf2','wsf5', 'date', 'kbtusqft']]\n",
    "\n",
    "natdf2_2019 =natdf2019.loc[natdf2019['primarypropertytype_selfselect'] == '2', ['kbtu', 'reportedbuildinggrossfloorarea', 'ward', 'primarypropertytype_selfselect',\n",
    "       'elegas', 'awnd', 'cldd', 'htdd', 'tavg', 'wdf2', 'wdf5', 'wsf2','wsf5', 'date', 'kbtusqft']]\n",
    "natdf3_2019 =natdf2019.loc[natdf2019['primarypropertytype_selfselect'] == '3', ['kbtu', 'reportedbuildinggrossfloorarea', 'ward', 'primarypropertytype_selfselect',\n",
    "       'elegas', 'awnd', 'cldd', 'htdd', 'tavg', 'wdf2', 'wdf5', 'wsf2','wsf5', 'date', 'kbtusqft']]\n",
    "natdf4_2019 =natdf2019.loc[natdf2019['primarypropertytype_selfselect'] == '4', ['kbtu', 'reportedbuildinggrossfloorarea', 'ward', 'primarypropertytype_selfselect',\n",
    "       'elegas', 'awnd', 'cldd', 'htdd', 'tavg', 'wdf2', 'wdf5', 'wsf2','wsf5', 'date', 'kbtusqft']]\n",
    "natdf5_2019 =natdf2019.loc[natdf2019['primarypropertytype_selfselect'] == '5', ['kbtu', 'reportedbuildinggrossfloorarea', 'ward', 'primarypropertytype_selfselect',\n",
    "       'elegas', 'awnd', 'cldd', 'htdd', 'tavg', 'wdf2', 'wdf5', 'wsf2','wsf5', 'date', 'kbtusqft']]\n",
    "natdf6_2019 =natdf2019.loc[natdf2019['primarypropertytype_selfselect'] == '6', ['kbtu', 'reportedbuildinggrossfloorarea', 'ward', 'primarypropertytype_selfselect',\n",
    "       'elegas', 'awnd', 'cldd', 'htdd', 'tavg', 'wdf2', 'wdf5', 'wsf2','wsf5', 'date', 'kbtusqft']]\n",
    "natdf7_2019 =natdf2019.loc[natdf2019['primarypropertytype_selfselect'] == '7', ['kbtu', 'reportedbuildinggrossfloorarea', 'ward', 'primarypropertytype_selfselect',\n",
    "       'elegas', 'awnd', 'cldd', 'htdd', 'tavg', 'wdf2', 'wdf5', 'wsf2','wsf5', 'date', 'kbtusqft']]"
   ]
  },
  {
   "cell_type": "code",
   "execution_count": 13,
   "metadata": {},
   "outputs": [],
   "source": [
    "eledfsubsets_2018=[eledf2_2018,eledf3_2018,eledf4_2018,eledf6_2018,eledf7_2018]\n",
    "natdfsubsets_2018=[natdf2_2018,natdf3_2018,natdf4_2018,natdf6_2018,natdf7_2018]\n",
    "eledfsubsets_2019=[eledf2_2019,eledf3_2019,eledf4_2019,eledf6_2019,eledf7_2019]\n",
    "natdfsubsets_2019=[natdf2_2019,natdf3_2019,natdf4_2019,natdf6_2019,natdf7_2019]"
   ]
  },
  {
   "cell_type": "code",
   "execution_count": 16,
   "metadata": {},
   "outputs": [],
   "source": [
    "from sklearn.base import BaseEstimator, TransformerMixin\n",
    "\n",
    "\n",
    "class CyclicEncoder(BaseEstimator, TransformerMixin):\n",
    "    \n",
    "    def __init__(self, date_extract=\"month\"):\n",
    "        if date_extract not in {\"minute\", \"hour\", \"week\", \"month\", \"year\"}:\n",
    "            raise ValueError(f\"specify correct date component to extract, not {date_extract}\")\n",
    "        self.date_extract = date_extract\n",
    "    \n",
    "    def get_date_component(self, x):\n",
    "        if self.date_extract == \"month\":\n",
    "            return x.dt.month\n",
    "        elif self.date_extract == \"year\":\n",
    "            return x.dt.year\n",
    "        else:\n",
    "            raise NotImplementedError(f\"{self.date_extract} date component not implemented yet\")\n",
    "            \n",
    "    def fit(self, X, y=None):\n",
    "        self.cycle_max_ = self.get_date_component(X).max()\n",
    "        return self\n",
    "\n",
    "    def transform(self, X,  y=None):\n",
    "        cols = []\n",
    "        names = []\n",
    "        x = self.get_date_component(X)\n",
    "        xn = 2 * np.pi * x / self.cycle_max_\n",
    "        cols.append(np.cos(xn))\n",
    "        names.append(f\"{X.name}_cos\")\n",
    "        cols.append(np.sin(xn))\n",
    "        names.append(f\"{X.name}_sin\")\n",
    "        return pd.DataFrame(np.asarray(cols).T, columns=names)\n",
    "\n",
    "    \n"
   ]
  },
  {
   "cell_type": "code",
   "execution_count": 17,
   "metadata": {},
   "outputs": [],
   "source": [
    "from sklearn.model_selection import train_test_split as tts\n",
    "\n",
    "TARGET = 'kbtu'\n",
    "COLS =['reportedbuildinggrossfloorarea','ward','awnd','cldd', 'htdd', 'tavg','wdf2', 'wdf5', 'wsf2','wsf5', 'datetime']\n",
    "\n",
    "def make_sklearn_data(df, target=TARGET, cols=COLS):\n",
    "    # Add the datetime column back to the main dataframe\n",
    "    df = df.reset_index()\n",
    "    X, y = df[cols], df[target]\n",
    "    return X, y\n"
   ]
  },
  {
   "cell_type": "code",
   "execution_count": 18,
   "metadata": {},
   "outputs": [],
   "source": [
    "from sklearn.preprocessing import OneHotEncoder, StandardScaler\n",
    "from sklearn.compose import ColumnTransformer\n",
    "from sklearn.pipeline import FeatureUnion, Pipeline\n",
    "\n",
    "preprocessor_pipeline=Pipeline([\n",
    "    ('column_selection', ColumnTransformer([\n",
    "        ('time_components', FeatureUnion([\n",
    "            ('month', CyclicEncoder(date_extract='month')), \n",
    "            ('year', CyclicEncoder(date_extract='year')),\n",
    "                                    ]),'datetime'),\n",
    "    ('ward', OneHotEncoder(handle_unknown='ignore'), ['ward']),\n",
    "    ], remainder='passthrough')),\n",
    "])\n",
    "        "
   ]
  },
  {
   "cell_type": "code",
   "execution_count": 19,
   "metadata": {},
   "outputs": [],
   "source": [
    "from sklearn.base import clone\n",
    "def make_energy_pipeline(model, append_transformers=None, fe=preprocessor_pipeline):\n",
    "        # clone the pipeline to ensure it's not fitted\n",
    "    pipe = clone(fe)\n",
    "    \n",
    "    #append any steps to the pipeline\n",
    "    if append_transformers!= None:\n",
    "        for step in append_transformers:\n",
    "            pipe.steps.append(step)\n",
    "    \n",
    "    pipe.steps.append([\"model\", clone(model)])\n",
    "    return pipe"
   ]
  },
  {
   "cell_type": "code",
   "execution_count": 20,
   "metadata": {},
   "outputs": [],
   "source": [
    "from functools import partial\n",
    "from sklearn.metrics import make_scorer\n",
    "from sklearn.model_selection import cross_val_score\n",
    "from sklearn.model_selection import TimeSeriesSplit\n",
    "from sklearn.metrics import r2_score, mean_squared_error, mean_absolute_error\n",
    "\n",
    "rmse = partial(mean_squared_error, squared=False)\n",
    "\n",
    "\n",
    "def time_series_evaluate(model, X, y):\n",
    "    \"\"\"\n",
    "    Performs time series cross validation on the model, returning the\n",
    "    cross validated r2, mse, and mae of the regressor, along with the \n",
    "    final fitted model, fitted on all of the data.\n",
    "    \"\"\"\n",
    "    cv = TimeSeriesSplit(12)\n",
    "    scores = {}\n",
    "    \n",
    "    scores[\"r2\"] = cross_val_score(model, X, y, cv=cv, scoring=make_scorer(r2_score))\n",
    "    scores[\"mse\"] = cross_val_score(model, X, y, cv=cv, scoring=make_scorer(mean_squared_error))\n",
    "#     scores[\"rmse\"] = cross_val_score(model, X, y, cv=cv, scoring=make_scorer(rmse))\n",
    "    scores[\"mae\"] = cross_val_score(model, X, y, cv=cv, scoring=make_scorer(mean_absolute_error))\n",
    "    \n",
    "    model.fit(X, y)\n",
    "    return model, scores"
   ]
  },
  {
   "cell_type": "code",
   "execution_count": 21,
   "metadata": {},
   "outputs": [
    {
     "name": "stderr",
     "output_type": "stream",
     "text": [
      "findfont: Font family ['sans-serif'] not found. Falling back to DejaVu Sans.\n",
      "findfont: Font family ['sans-serif'] not found. Falling back to DejaVu Sans.\n",
      "findfont: Font family ['sans-serif'] not found. Falling back to DejaVu Sans.\n"
     ]
    },
    {
     "data": {
      "image/png": "[encoded data removed]",
      "text/plain": [
       "<Figure size 576x396 with 2 Axes>"
      ]
     },
     "metadata": {},
     "output_type": "display_data"
    },
    {
     "data": {
      "text/plain": [
       "<AxesSubplot:title={'center':'Residuals for RandomForestRegressor Model'}, xlabel='Predicted Value', ylabel='Residuals'>"
      ]
     },
     "execution_count": 21,
     "metadata": {},
     "output_type": "execute_result"
    }
   ],
   "source": [
    "from sklearn.model_selection import train_test_split as tts\n",
    "from sklearn.ensemble import RandomForestRegressor\n",
    "from yellowbrick.regressor import ResidualsPlot\n",
    "model = make_energy_pipeline(RandomForestRegressor())\n",
    "visualizer = ResidualsPlot(model)\n",
    "X_train, X_test, y_train, y_test = tts(*make_sklearn_data(eledf2_2018), test_size=0.2)\n",
    "visualizer.fit(X_train,y_train)  # Fit the training data to the visualizer\n",
    "visualizer.score(X_test,y_test)  # Evaluate the model on the test data\n",
    "visualizer.show()      "
   ]
  },
  {
   "cell_type": "code",
   "execution_count": null,
   "metadata": {},
   "outputs": [],
   "source": [
    "# from sklearn.model_selection import train_test_split as tts\n",
    "# from sklearn.ensemble import RandomForestRegressor\n",
    "# from yellowbrick.regressor import ResidualsPlot\n",
    "# X_train, X_test, y_train, y_test = time_series_evaluate()\n",
    "# model = make_energy_pipeline(RandomForestRegressor())\n",
    "# visualizer = ResidualsPlot(model)\n",
    "\n",
    "# visualizer.fit(X_train,y_train)  # Fit the training data to the visualizer\n",
    "# visualizer.score(X_test,y_test)  # Evaluate the model on the test data\n",
    "# visualizer.show()     "
   ]
  }
 ],
 "metadata": {
  "kernelspec": {
   "display_name": "Python 3",
   "language": "python",
   "name": "python3"
  },
  "language_info": {
   "codemirror_mode": {
    "name": "ipython",
    "version": 3
   },
   "file_extension": ".py",
   "mimetype": "text/x-python",
   "name": "python",
   "nbconvert_exporter": "python",
   "pygments_lexer": "ipython3",
   "version": "3.7.4"
  }
 },
 "nbformat": 4,
 "nbformat_minor": 2
}
