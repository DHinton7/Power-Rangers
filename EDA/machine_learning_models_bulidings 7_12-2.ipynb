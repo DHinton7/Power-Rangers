{
 "cells": [
  {
   "cell_type": "code",
   "execution_count": 1,
   "metadata": {},
   "outputs": [],
   "source": [
    "import psycopg2\n",
    "import config as creds\n",
    "import sqlalchemy\n",
    "from sqlalchemy import create_engine\n",
    "import numpy as np\n",
    "from numpy.random import randn\n",
    "import pandas as pd\n",
    "from scipy import stats\n",
    "import matplotlib as mpl\n",
    "import matplotlib.pyplot as plt\n",
    "import seaborn as sns"
   ]
  },
  {
   "cell_type": "code",
   "execution_count": 2,
   "metadata": {},
   "outputs": [],
   "source": [
    "user=creds.PGUSER\n",
    "password=creds.PGPASSWORD\n",
    "host=creds.PGHOST\n",
    "port=5432\n",
    "database=creds.PGDATABASE"
   ]
  },
  {
   "cell_type": "code",
   "execution_count": 3,
   "metadata": {},
   "outputs": [],
   "source": [
    "engine_str=f\"postgresql+psycopg2://{user}:{password}@{host}:{port}/{database}\""
   ]
  },
  {
   "cell_type": "code",
   "execution_count": 4,
   "metadata": {},
   "outputs": [],
   "source": [
    "engine = create_engine(engine_str)"
   ]
  },
  {
   "cell_type": "code",
   "execution_count": 5,
   "metadata": {},
   "outputs": [
    {
     "name": "stdout",
     "output_type": "stream",
     "text": [
      "Connected\n"
     ]
    }
   ],
   "source": [
    "#conn = engine.connect()\n",
    "conn = engine.raw_connection()\n",
    "print('Connected')"
   ]
  },
  {
   "cell_type": "code",
   "execution_count": 6,
   "metadata": {
    "scrolled": false
   },
   "outputs": [
    {
     "name": "stdout",
     "output_type": "stream",
     "text": [
      "Cursor created\n"
     ]
    }
   ],
   "source": [
    "cur = conn.cursor()\n",
    "print('Cursor created')"
   ]
  },
  {
   "cell_type": "code",
   "execution_count": 7,
   "metadata": {},
   "outputs": [],
   "source": [
    "query1='''\n",
    "SELECT *\n",
    "FROM buildings_data b\n",
    "LEFT OUTER join noaa_data n\n",
    "ON b.REPORTINGYEAR = n.WEATHERYEAR\n",
    "WHERE b.MONTH = n.MONTH;\n",
    "'''"
   ]
  },
  {
   "cell_type": "code",
   "execution_count": 8,
   "metadata": {},
   "outputs": [],
   "source": [
    "df1=pd.read_sql(query1,conn)"
   ]
  },
  {
   "cell_type": "code",
   "execution_count": 9,
   "metadata": {},
   "outputs": [],
   "source": [
    "pd.set_option('display.max_columns',None)"
   ]
  },
  {
   "cell_type": "code",
   "execution_count": 10,
   "metadata": {},
   "outputs": [
    {
     "data": {
      "text/html": [
       "<div>\n",
       "<style scoped>\n",
       "    .dataframe tbody tr th:only-of-type {\n",
       "        vertical-align: middle;\n",
       "    }\n",
       "\n",
       "    .dataframe tbody tr th {\n",
       "        vertical-align: top;\n",
       "    }\n",
       "\n",
       "    .dataframe thead th {\n",
       "        text-align: right;\n",
       "    }\n",
       "</style>\n",
       "<table border=\"1\" class=\"dataframe\">\n",
       "  <thead>\n",
       "    <tr style=\"text-align: right;\">\n",
       "      <th></th>\n",
       "      <th>id</th>\n",
       "      <th>pid</th>\n",
       "      <th>dcrealpropertyid</th>\n",
       "      <th>ward</th>\n",
       "      <th>postalcode</th>\n",
       "      <th>yearbuilt</th>\n",
       "      <th>reportingyear</th>\n",
       "      <th>reportstatus</th>\n",
       "      <th>primarypropertytype_selfselect</th>\n",
       "      <th>taxrecordfloorarea</th>\n",
       "      <th>reportedbuildinggrossfloorarea</th>\n",
       "      <th>energystarscore</th>\n",
       "      <th>month</th>\n",
       "      <th>kbtu</th>\n",
       "      <th>elegas</th>\n",
       "      <th>id</th>\n",
       "      <th>date</th>\n",
       "      <th>awnd</th>\n",
       "      <th>cldd</th>\n",
       "      <th>htdd</th>\n",
       "      <th>snow</th>\n",
       "      <th>tavg</th>\n",
       "      <th>tmax</th>\n",
       "      <th>tmin</th>\n",
       "      <th>wdf2</th>\n",
       "      <th>wdf5</th>\n",
       "      <th>wsf2</th>\n",
       "      <th>wsf5</th>\n",
       "      <th>weatheryear</th>\n",
       "      <th>month</th>\n",
       "    </tr>\n",
       "  </thead>\n",
       "  <tbody>\n",
       "    <tr>\n",
       "      <th>0</th>\n",
       "      <td>0</td>\n",
       "      <td>PM4373175</td>\n",
       "      <td>0171_0814</td>\n",
       "      <td>2</td>\n",
       "      <td>20006</td>\n",
       "      <td>1893</td>\n",
       "      <td>2016</td>\n",
       "      <td>In Compliance</td>\n",
       "      <td>2</td>\n",
       "      <td>137024.0</td>\n",
       "      <td>176170.0</td>\n",
       "      <td>0.0</td>\n",
       "      <td>1</td>\n",
       "      <td>0.0</td>\n",
       "      <td>N</td>\n",
       "      <td>72</td>\n",
       "      <td>2016-01</td>\n",
       "      <td>9.4</td>\n",
       "      <td>0.0</td>\n",
       "      <td>930.0</td>\n",
       "      <td>18.8</td>\n",
       "      <td>35.0</td>\n",
       "      <td>42.6</td>\n",
       "      <td>27.4</td>\n",
       "      <td>330.0</td>\n",
       "      <td>280.0</td>\n",
       "      <td>36.0</td>\n",
       "      <td>44.0</td>\n",
       "      <td>2016</td>\n",
       "      <td>1</td>\n",
       "    </tr>\n",
       "    <tr>\n",
       "      <th>1</th>\n",
       "      <td>3</td>\n",
       "      <td>PM1331555</td>\n",
       "      <td>0248_0812</td>\n",
       "      <td>2</td>\n",
       "      <td>20005</td>\n",
       "      <td>1921</td>\n",
       "      <td>2016</td>\n",
       "      <td>In Compliance</td>\n",
       "      <td>7</td>\n",
       "      <td>146425.0</td>\n",
       "      <td>222000.0</td>\n",
       "      <td>52.0</td>\n",
       "      <td>1</td>\n",
       "      <td>0.0</td>\n",
       "      <td>N</td>\n",
       "      <td>72</td>\n",
       "      <td>2016-01</td>\n",
       "      <td>9.4</td>\n",
       "      <td>0.0</td>\n",
       "      <td>930.0</td>\n",
       "      <td>18.8</td>\n",
       "      <td>35.0</td>\n",
       "      <td>42.6</td>\n",
       "      <td>27.4</td>\n",
       "      <td>330.0</td>\n",
       "      <td>280.0</td>\n",
       "      <td>36.0</td>\n",
       "      <td>44.0</td>\n",
       "      <td>2016</td>\n",
       "      <td>1</td>\n",
       "    </tr>\n",
       "    <tr>\n",
       "      <th>2</th>\n",
       "      <td>4</td>\n",
       "      <td>PM3299991</td>\n",
       "      <td>0139_0817</td>\n",
       "      <td>2</td>\n",
       "      <td>20036</td>\n",
       "      <td>1963</td>\n",
       "      <td>2016</td>\n",
       "      <td>In Compliance</td>\n",
       "      <td>10</td>\n",
       "      <td>101337.0</td>\n",
       "      <td>73168.0</td>\n",
       "      <td>38.0</td>\n",
       "      <td>1</td>\n",
       "      <td>0.0</td>\n",
       "      <td>N</td>\n",
       "      <td>72</td>\n",
       "      <td>2016-01</td>\n",
       "      <td>9.4</td>\n",
       "      <td>0.0</td>\n",
       "      <td>930.0</td>\n",
       "      <td>18.8</td>\n",
       "      <td>35.0</td>\n",
       "      <td>42.6</td>\n",
       "      <td>27.4</td>\n",
       "      <td>330.0</td>\n",
       "      <td>280.0</td>\n",
       "      <td>36.0</td>\n",
       "      <td>44.0</td>\n",
       "      <td>2016</td>\n",
       "      <td>1</td>\n",
       "    </tr>\n",
       "    <tr>\n",
       "      <th>3</th>\n",
       "      <td>5</td>\n",
       "      <td>PM4357992</td>\n",
       "      <td>0494_0860</td>\n",
       "      <td>6</td>\n",
       "      <td>20024</td>\n",
       "      <td>1968</td>\n",
       "      <td>2016</td>\n",
       "      <td>In Compliance</td>\n",
       "      <td>10</td>\n",
       "      <td>80612.0</td>\n",
       "      <td>60000.0</td>\n",
       "      <td>87.0</td>\n",
       "      <td>1</td>\n",
       "      <td>0.0</td>\n",
       "      <td>N</td>\n",
       "      <td>72</td>\n",
       "      <td>2016-01</td>\n",
       "      <td>9.4</td>\n",
       "      <td>0.0</td>\n",
       "      <td>930.0</td>\n",
       "      <td>18.8</td>\n",
       "      <td>35.0</td>\n",
       "      <td>42.6</td>\n",
       "      <td>27.4</td>\n",
       "      <td>330.0</td>\n",
       "      <td>280.0</td>\n",
       "      <td>36.0</td>\n",
       "      <td>44.0</td>\n",
       "      <td>2016</td>\n",
       "      <td>1</td>\n",
       "    </tr>\n",
       "    <tr>\n",
       "      <th>4</th>\n",
       "      <td>6</td>\n",
       "      <td>PM3632510</td>\n",
       "      <td>0182_0083</td>\n",
       "      <td>2</td>\n",
       "      <td>20036</td>\n",
       "      <td>2001</td>\n",
       "      <td>2016</td>\n",
       "      <td>In Compliance</td>\n",
       "      <td>2</td>\n",
       "      <td>184556.0</td>\n",
       "      <td>158819.0</td>\n",
       "      <td>49.0</td>\n",
       "      <td>1</td>\n",
       "      <td>0.0</td>\n",
       "      <td>N</td>\n",
       "      <td>72</td>\n",
       "      <td>2016-01</td>\n",
       "      <td>9.4</td>\n",
       "      <td>0.0</td>\n",
       "      <td>930.0</td>\n",
       "      <td>18.8</td>\n",
       "      <td>35.0</td>\n",
       "      <td>42.6</td>\n",
       "      <td>27.4</td>\n",
       "      <td>330.0</td>\n",
       "      <td>280.0</td>\n",
       "      <td>36.0</td>\n",
       "      <td>44.0</td>\n",
       "      <td>2016</td>\n",
       "      <td>1</td>\n",
       "    </tr>\n",
       "  </tbody>\n",
       "</table>\n",
       "</div>"
      ],
      "text/plain": [
       "   id        pid dcrealpropertyid  ward postalcode  yearbuilt  reportingyear  \\\n",
       "0   0  PM4373175        0171_0814     2      20006       1893           2016   \n",
       "1   3  PM1331555        0248_0812     2      20005       1921           2016   \n",
       "2   4  PM3299991        0139_0817     2      20036       1963           2016   \n",
       "3   5  PM4357992        0494_0860     6      20024       1968           2016   \n",
       "4   6  PM3632510        0182_0083     2      20036       2001           2016   \n",
       "\n",
       "    reportstatus primarypropertytype_selfselect  taxrecordfloorarea  \\\n",
       "0  In Compliance                              2            137024.0   \n",
       "1  In Compliance                              7            146425.0   \n",
       "2  In Compliance                             10            101337.0   \n",
       "3  In Compliance                             10             80612.0   \n",
       "4  In Compliance                              2            184556.0   \n",
       "\n",
       "   reportedbuildinggrossfloorarea  energystarscore  month  kbtu elegas  id  \\\n",
       "0                        176170.0              0.0      1   0.0      N  72   \n",
       "1                        222000.0             52.0      1   0.0      N  72   \n",
       "2                         73168.0             38.0      1   0.0      N  72   \n",
       "3                         60000.0             87.0      1   0.0      N  72   \n",
       "4                        158819.0             49.0      1   0.0      N  72   \n",
       "\n",
       "      date  awnd  cldd   htdd  snow  tavg  tmax  tmin   wdf2   wdf5  wsf2  \\\n",
       "0  2016-01   9.4   0.0  930.0  18.8  35.0  42.6  27.4  330.0  280.0  36.0   \n",
       "1  2016-01   9.4   0.0  930.0  18.8  35.0  42.6  27.4  330.0  280.0  36.0   \n",
       "2  2016-01   9.4   0.0  930.0  18.8  35.0  42.6  27.4  330.0  280.0  36.0   \n",
       "3  2016-01   9.4   0.0  930.0  18.8  35.0  42.6  27.4  330.0  280.0  36.0   \n",
       "4  2016-01   9.4   0.0  930.0  18.8  35.0  42.6  27.4  330.0  280.0  36.0   \n",
       "\n",
       "   wsf5  weatheryear  month  \n",
       "0  44.0         2016      1  \n",
       "1  44.0         2016      1  \n",
       "2  44.0         2016      1  \n",
       "3  44.0         2016      1  \n",
       "4  44.0         2016      1  "
      ]
     },
     "execution_count": 10,
     "metadata": {},
     "output_type": "execute_result"
    }
   ],
   "source": [
    "df1.head()"
   ]
  },
  {
   "cell_type": "code",
   "execution_count": 11,
   "metadata": {},
   "outputs": [],
   "source": [
    "query2='''SELECT b.PID, b.kbtu,b.reportedbuildinggrossfloorarea, b.ward, b.primarypropertytype_selfselect, b. energystarscore, b.elegas, n.awnd,\n",
    "       n.cldd, n.htdd, n.tavg, n.wdf2, n.wdf5, n.wsf2,n.wsf5, n.date \n",
    "FROM buildings_data b\n",
    "LEFT OUTER join noaa_data n\n",
    "ON b.REPORTINGYEAR = n.WEATHERYEAR\n",
    "WHERE b.MONTH = n.MONTH\n",
    "AND b.KBTU > 0\n",
    "AND b. reportedbuildinggrossfloorarea > 50000\n",
    "AND b. reportingyear=2019;\n",
    "'''"
   ]
  },
  {
   "cell_type": "code",
   "execution_count": 12,
   "metadata": {},
   "outputs": [],
   "source": [
    "df2=pd.read_sql(query2, conn)"
   ]
  },
  {
   "cell_type": "code",
   "execution_count": 13,
   "metadata": {},
   "outputs": [],
   "source": [
    "df2['kbtusqft']=df2['kbtu']/df2['reportedbuildinggrossfloorarea']"
   ]
  },
  {
   "cell_type": "code",
   "execution_count": 14,
   "metadata": {},
   "outputs": [
    {
     "data": {
      "text/html": [
       "<div>\n",
       "<style scoped>\n",
       "    .dataframe tbody tr th:only-of-type {\n",
       "        vertical-align: middle;\n",
       "    }\n",
       "\n",
       "    .dataframe tbody tr th {\n",
       "        vertical-align: top;\n",
       "    }\n",
       "\n",
       "    .dataframe thead th {\n",
       "        text-align: right;\n",
       "    }\n",
       "</style>\n",
       "<table border=\"1\" class=\"dataframe\">\n",
       "  <thead>\n",
       "    <tr style=\"text-align: right;\">\n",
       "      <th></th>\n",
       "      <th>pid</th>\n",
       "      <th>kbtu</th>\n",
       "      <th>reportedbuildinggrossfloorarea</th>\n",
       "      <th>ward</th>\n",
       "      <th>primarypropertytype_selfselect</th>\n",
       "      <th>energystarscore</th>\n",
       "      <th>elegas</th>\n",
       "      <th>awnd</th>\n",
       "      <th>cldd</th>\n",
       "      <th>htdd</th>\n",
       "      <th>tavg</th>\n",
       "      <th>wdf2</th>\n",
       "      <th>wdf5</th>\n",
       "      <th>wsf2</th>\n",
       "      <th>wsf5</th>\n",
       "      <th>date</th>\n",
       "      <th>kbtusqft</th>\n",
       "    </tr>\n",
       "  </thead>\n",
       "  <tbody>\n",
       "    <tr>\n",
       "      <th>0</th>\n",
       "      <td>PM6211783</td>\n",
       "      <td>104735.6</td>\n",
       "      <td>62306.0</td>\n",
       "      <td>0</td>\n",
       "      <td>7</td>\n",
       "      <td>19.0</td>\n",
       "      <td>N</td>\n",
       "      <td>9.6</td>\n",
       "      <td>0.0</td>\n",
       "      <td>860.0</td>\n",
       "      <td>37.2</td>\n",
       "      <td>320.0</td>\n",
       "      <td>310.0</td>\n",
       "      <td>36.0</td>\n",
       "      <td>46.0</td>\n",
       "      <td>2019-01</td>\n",
       "      <td>1.680987</td>\n",
       "    </tr>\n",
       "    <tr>\n",
       "      <th>1</th>\n",
       "      <td>PM4218474</td>\n",
       "      <td>811768.2</td>\n",
       "      <td>59931.0</td>\n",
       "      <td>0</td>\n",
       "      <td>7</td>\n",
       "      <td>57.0</td>\n",
       "      <td>N</td>\n",
       "      <td>9.6</td>\n",
       "      <td>0.0</td>\n",
       "      <td>860.0</td>\n",
       "      <td>37.2</td>\n",
       "      <td>320.0</td>\n",
       "      <td>310.0</td>\n",
       "      <td>36.0</td>\n",
       "      <td>46.0</td>\n",
       "      <td>2019-01</td>\n",
       "      <td>13.545047</td>\n",
       "    </tr>\n",
       "    <tr>\n",
       "      <th>2</th>\n",
       "      <td>PM3353545</td>\n",
       "      <td>1961400.1</td>\n",
       "      <td>326513.0</td>\n",
       "      <td>6</td>\n",
       "      <td>10</td>\n",
       "      <td>54.0</td>\n",
       "      <td>N</td>\n",
       "      <td>9.6</td>\n",
       "      <td>0.0</td>\n",
       "      <td>860.0</td>\n",
       "      <td>37.2</td>\n",
       "      <td>320.0</td>\n",
       "      <td>310.0</td>\n",
       "      <td>36.0</td>\n",
       "      <td>46.0</td>\n",
       "      <td>2019-01</td>\n",
       "      <td>6.007112</td>\n",
       "    </tr>\n",
       "    <tr>\n",
       "      <th>3</th>\n",
       "      <td>PM3994488</td>\n",
       "      <td>345569.0</td>\n",
       "      <td>50200.0</td>\n",
       "      <td>2</td>\n",
       "      <td>11</td>\n",
       "      <td>0.0</td>\n",
       "      <td>N</td>\n",
       "      <td>9.6</td>\n",
       "      <td>0.0</td>\n",
       "      <td>860.0</td>\n",
       "      <td>37.2</td>\n",
       "      <td>320.0</td>\n",
       "      <td>310.0</td>\n",
       "      <td>36.0</td>\n",
       "      <td>46.0</td>\n",
       "      <td>2019-01</td>\n",
       "      <td>6.883845</td>\n",
       "    </tr>\n",
       "    <tr>\n",
       "      <th>4</th>\n",
       "      <td>PM4005952</td>\n",
       "      <td>27342.9</td>\n",
       "      <td>337838.0</td>\n",
       "      <td>6</td>\n",
       "      <td>7</td>\n",
       "      <td>90.0</td>\n",
       "      <td>N</td>\n",
       "      <td>9.6</td>\n",
       "      <td>0.0</td>\n",
       "      <td>860.0</td>\n",
       "      <td>37.2</td>\n",
       "      <td>320.0</td>\n",
       "      <td>310.0</td>\n",
       "      <td>36.0</td>\n",
       "      <td>46.0</td>\n",
       "      <td>2019-01</td>\n",
       "      <td>0.080935</td>\n",
       "    </tr>\n",
       "  </tbody>\n",
       "</table>\n",
       "</div>"
      ],
      "text/plain": [
       "         pid       kbtu  reportedbuildinggrossfloorarea  ward  \\\n",
       "0  PM6211783   104735.6                         62306.0     0   \n",
       "1  PM4218474   811768.2                         59931.0     0   \n",
       "2  PM3353545  1961400.1                        326513.0     6   \n",
       "3  PM3994488   345569.0                         50200.0     2   \n",
       "4  PM4005952    27342.9                        337838.0     6   \n",
       "\n",
       "  primarypropertytype_selfselect  energystarscore elegas  awnd  cldd   htdd  \\\n",
       "0                              7             19.0      N   9.6   0.0  860.0   \n",
       "1                              7             57.0      N   9.6   0.0  860.0   \n",
       "2                             10             54.0      N   9.6   0.0  860.0   \n",
       "3                             11              0.0      N   9.6   0.0  860.0   \n",
       "4                              7             90.0      N   9.6   0.0  860.0   \n",
       "\n",
       "   tavg   wdf2   wdf5  wsf2  wsf5     date   kbtusqft  \n",
       "0  37.2  320.0  310.0  36.0  46.0  2019-01   1.680987  \n",
       "1  37.2  320.0  310.0  36.0  46.0  2019-01  13.545047  \n",
       "2  37.2  320.0  310.0  36.0  46.0  2019-01   6.007112  \n",
       "3  37.2  320.0  310.0  36.0  46.0  2019-01   6.883845  \n",
       "4  37.2  320.0  310.0  36.0  46.0  2019-01   0.080935  "
      ]
     },
     "execution_count": 14,
     "metadata": {},
     "output_type": "execute_result"
    }
   ],
   "source": [
    "df2.head()"
   ]
  },
  {
   "cell_type": "code",
   "execution_count": 15,
   "metadata": {
    "scrolled": true
   },
   "outputs": [
    {
     "data": {
      "text/html": [
       "<div>\n",
       "<style scoped>\n",
       "    .dataframe tbody tr th:only-of-type {\n",
       "        vertical-align: middle;\n",
       "    }\n",
       "\n",
       "    .dataframe tbody tr th {\n",
       "        vertical-align: top;\n",
       "    }\n",
       "\n",
       "    .dataframe thead th {\n",
       "        text-align: right;\n",
       "    }\n",
       "</style>\n",
       "<table border=\"1\" class=\"dataframe\">\n",
       "  <thead>\n",
       "    <tr style=\"text-align: right;\">\n",
       "      <th></th>\n",
       "      <th>kbtu</th>\n",
       "      <th>reportedbuildinggrossfloorarea</th>\n",
       "      <th>ward</th>\n",
       "      <th>energystarscore</th>\n",
       "      <th>awnd</th>\n",
       "      <th>cldd</th>\n",
       "      <th>htdd</th>\n",
       "      <th>tavg</th>\n",
       "      <th>wdf2</th>\n",
       "      <th>wdf5</th>\n",
       "      <th>wsf2</th>\n",
       "      <th>wsf5</th>\n",
       "      <th>kbtusqft</th>\n",
       "    </tr>\n",
       "  </thead>\n",
       "  <tbody>\n",
       "    <tr>\n",
       "      <th>count</th>\n",
       "      <td>3.351000e+04</td>\n",
       "      <td>3.351000e+04</td>\n",
       "      <td>33510.000000</td>\n",
       "      <td>33510.000000</td>\n",
       "      <td>33510.000000</td>\n",
       "      <td>33510.000000</td>\n",
       "      <td>33510.000000</td>\n",
       "      <td>33510.000000</td>\n",
       "      <td>33510.000000</td>\n",
       "      <td>33510.000000</td>\n",
       "      <td>33510.000000</td>\n",
       "      <td>33510.000000</td>\n",
       "      <td>33510.000000</td>\n",
       "    </tr>\n",
       "    <tr>\n",
       "      <th>mean</th>\n",
       "      <td>7.408985e+05</td>\n",
       "      <td>2.114622e+05</td>\n",
       "      <td>3.479290</td>\n",
       "      <td>53.812056</td>\n",
       "      <td>8.514166</td>\n",
       "      <td>166.469173</td>\n",
       "      <td>302.443748</td>\n",
       "      <td>60.422214</td>\n",
       "      <td>254.077887</td>\n",
       "      <td>301.697404</td>\n",
       "      <td>35.195270</td>\n",
       "      <td>48.612534</td>\n",
       "      <td>3.229806</td>\n",
       "    </tr>\n",
       "    <tr>\n",
       "      <th>std</th>\n",
       "      <td>2.208882e+06</td>\n",
       "      <td>3.009452e+05</td>\n",
       "      <td>2.081705</td>\n",
       "      <td>31.477448</td>\n",
       "      <td>0.866888</td>\n",
       "      <td>192.304315</td>\n",
       "      <td>321.677736</td>\n",
       "      <td>16.038403</td>\n",
       "      <td>110.898336</td>\n",
       "      <td>44.693141</td>\n",
       "      <td>5.481149</td>\n",
       "      <td>8.877928</td>\n",
       "      <td>3.631543</td>\n",
       "    </tr>\n",
       "    <tr>\n",
       "      <th>min</th>\n",
       "      <td>1.000000e+00</td>\n",
       "      <td>5.001800e+04</td>\n",
       "      <td>0.000000</td>\n",
       "      <td>0.000000</td>\n",
       "      <td>7.200000</td>\n",
       "      <td>0.000000</td>\n",
       "      <td>0.000000</td>\n",
       "      <td>37.200000</td>\n",
       "      <td>10.000000</td>\n",
       "      <td>200.000000</td>\n",
       "      <td>25.900000</td>\n",
       "      <td>32.000000</td>\n",
       "      <td>0.000006</td>\n",
       "    </tr>\n",
       "    <tr>\n",
       "      <th>25%</th>\n",
       "      <td>1.310463e+05</td>\n",
       "      <td>7.832200e+04</td>\n",
       "      <td>2.000000</td>\n",
       "      <td>29.000000</td>\n",
       "      <td>7.800000</td>\n",
       "      <td>0.000000</td>\n",
       "      <td>0.000000</td>\n",
       "      <td>42.200000</td>\n",
       "      <td>250.000000</td>\n",
       "      <td>290.000000</td>\n",
       "      <td>31.100000</td>\n",
       "      <td>44.000000</td>\n",
       "      <td>1.197564</td>\n",
       "    </tr>\n",
       "    <tr>\n",
       "      <th>50%</th>\n",
       "      <td>3.386742e+05</td>\n",
       "      <td>1.323280e+05</td>\n",
       "      <td>2.000000</td>\n",
       "      <td>61.000000</td>\n",
       "      <td>8.500000</td>\n",
       "      <td>53.000000</td>\n",
       "      <td>133.000000</td>\n",
       "      <td>62.300000</td>\n",
       "      <td>310.000000</td>\n",
       "      <td>320.000000</td>\n",
       "      <td>36.000000</td>\n",
       "      <td>46.000000</td>\n",
       "      <td>2.684523</td>\n",
       "    </tr>\n",
       "    <tr>\n",
       "      <th>75%</th>\n",
       "      <td>7.745515e+05</td>\n",
       "      <td>2.441600e+05</td>\n",
       "      <td>6.000000</td>\n",
       "      <td>80.000000</td>\n",
       "      <td>9.200000</td>\n",
       "      <td>340.000000</td>\n",
       "      <td>637.000000</td>\n",
       "      <td>76.300000</td>\n",
       "      <td>320.000000</td>\n",
       "      <td>330.000000</td>\n",
       "      <td>38.900000</td>\n",
       "      <td>55.000000</td>\n",
       "      <td>4.454279</td>\n",
       "    </tr>\n",
       "    <tr>\n",
       "      <th>max</th>\n",
       "      <td>6.672808e+07</td>\n",
       "      <td>5.754738e+06</td>\n",
       "      <td>8.000000</td>\n",
       "      <td>100.000000</td>\n",
       "      <td>10.100000</td>\n",
       "      <td>529.000000</td>\n",
       "      <td>860.000000</td>\n",
       "      <td>82.100000</td>\n",
       "      <td>350.000000</td>\n",
       "      <td>350.000000</td>\n",
       "      <td>45.000000</td>\n",
       "      <td>68.000000</td>\n",
       "      <td>319.756434</td>\n",
       "    </tr>\n",
       "  </tbody>\n",
       "</table>\n",
       "</div>"
      ],
      "text/plain": [
       "               kbtu  reportedbuildinggrossfloorarea          ward  \\\n",
       "count  3.351000e+04                    3.351000e+04  33510.000000   \n",
       "mean   7.408985e+05                    2.114622e+05      3.479290   \n",
       "std    2.208882e+06                    3.009452e+05      2.081705   \n",
       "min    1.000000e+00                    5.001800e+04      0.000000   \n",
       "25%    1.310463e+05                    7.832200e+04      2.000000   \n",
       "50%    3.386742e+05                    1.323280e+05      2.000000   \n",
       "75%    7.745515e+05                    2.441600e+05      6.000000   \n",
       "max    6.672808e+07                    5.754738e+06      8.000000   \n",
       "\n",
       "       energystarscore          awnd          cldd          htdd  \\\n",
       "count     33510.000000  33510.000000  33510.000000  33510.000000   \n",
       "mean         53.812056      8.514166    166.469173    302.443748   \n",
       "std          31.477448      0.866888    192.304315    321.677736   \n",
       "min           0.000000      7.200000      0.000000      0.000000   \n",
       "25%          29.000000      7.800000      0.000000      0.000000   \n",
       "50%          61.000000      8.500000     53.000000    133.000000   \n",
       "75%          80.000000      9.200000    340.000000    637.000000   \n",
       "max         100.000000     10.100000    529.000000    860.000000   \n",
       "\n",
       "               tavg          wdf2          wdf5          wsf2          wsf5  \\\n",
       "count  33510.000000  33510.000000  33510.000000  33510.000000  33510.000000   \n",
       "mean      60.422214    254.077887    301.697404     35.195270     48.612534   \n",
       "std       16.038403    110.898336     44.693141      5.481149      8.877928   \n",
       "min       37.200000     10.000000    200.000000     25.900000     32.000000   \n",
       "25%       42.200000    250.000000    290.000000     31.100000     44.000000   \n",
       "50%       62.300000    310.000000    320.000000     36.000000     46.000000   \n",
       "75%       76.300000    320.000000    330.000000     38.900000     55.000000   \n",
       "max       82.100000    350.000000    350.000000     45.000000     68.000000   \n",
       "\n",
       "           kbtusqft  \n",
       "count  33510.000000  \n",
       "mean       3.229806  \n",
       "std        3.631543  \n",
       "min        0.000006  \n",
       "25%        1.197564  \n",
       "50%        2.684523  \n",
       "75%        4.454279  \n",
       "max      319.756434  "
      ]
     },
     "execution_count": 15,
     "metadata": {},
     "output_type": "execute_result"
    }
   ],
   "source": [
    "df2.describe()"
   ]
  },
  {
   "cell_type": "code",
   "execution_count": 16,
   "metadata": {},
   "outputs": [
    {
     "data": {
      "text/plain": [
       "(0.0, 6.0)"
      ]
     },
     "execution_count": 16,
     "metadata": {},
     "output_type": "execute_result"
    },
    {
     "data": {
      "image/png": "[encoded data removed]",
      "text/plain": [
       "<Figure size 842.4x595.44 with 1 Axes>"
      ]
     },
     "metadata": {
      "needs_background": "light"
     },
     "output_type": "display_data"
    }
   ],
   "source": [
    "a4_dims = (11.7, 8.27)   \n",
    "fig, ax = plt.subplots(figsize=a4_dims)\n",
    "sns.violinplot(x=\"primarypropertytype_selfselect\",y=\"kbtusqft\", data=df2)\n",
    "fig.suptitle('Energy Intensity by Property Type')\n",
    "ax.set_xlabel('Property Type')\n",
    "ax.set_ylabel('Energy Intensity (kbtusqft)')\n",
    "ax.set_ylim(0,6)\n",
    "\n"
   ]
  },
  {
   "cell_type": "code",
   "execution_count": 17,
   "metadata": {
    "scrolled": true
   },
   "outputs": [
    {
     "data": {
      "text/plain": [
       "(0.0, 6.0)"
      ]
     },
     "execution_count": 17,
     "metadata": {},
     "output_type": "execute_result"
    },
    {
     "data": {
      "image/png": "[encoded data removed]",
      "text/plain": [
       "<Figure size 842.4x595.44 with 1 Axes>"
      ]
     },
     "metadata": {
      "needs_background": "light"
     },
     "output_type": "display_data"
    }
   ],
   "source": [
    "a4_dims = (11.7, 8.27)   \n",
    "fig, ax = plt.subplots(figsize=a4_dims)\n",
    "sns.violinplot(x=\"ward\",y=\"kbtusqft\", data=df2)\n",
    "fig.suptitle('Energy Intensity by Ward')\n",
    "ax.set_xlabel('Ward')\n",
    "ax.set_ylabel('Energy Intensity (kbtusqft)')\n",
    "ax.set_ylim(0,6)"
   ]
  },
  {
   "cell_type": "code",
   "execution_count": 18,
   "metadata": {},
   "outputs": [
    {
     "data": {
      "text/plain": [
       "(0.0, 18500.0)"
      ]
     },
     "execution_count": 18,
     "metadata": {},
     "output_type": "execute_result"
    },
    {
     "data": {
      "image/png": "[encoded data removed]",
      "text/plain": [
       "<Figure size 432x288 with 1 Axes>"
      ]
     },
     "metadata": {
      "needs_background": "light"
     },
     "output_type": "display_data"
    }
   ],
   "source": [
    "ax=sns.countplot(x='primarypropertytype_selfselect',data=df2,) \n",
    "ax.set_ylim(0,18500)"
   ]
  },
  {
   "cell_type": "code",
   "execution_count": 25,
   "metadata": {},
   "outputs": [
    {
     "data": {
      "text/plain": [
       "(0.0, 2000.0)"
      ]
     },
     "execution_count": 25,
     "metadata": {},
     "output_type": "execute_result"
    },
    {
     "data": {
      "image/png": "[encoded data removed]",
      "text/plain": [
       "<Figure size 432x288 with 1 Axes>"
      ]
     },
     "metadata": {
      "needs_background": "light"
     },
     "output_type": "display_data"
    }
   ],
   "source": [
    "ax=sns.countplot(x='primarypropertytype_selfselect',data=df2,) \n",
    "ax.set_ylim(0,2000)"
   ]
  },
  {
   "cell_type": "code",
   "execution_count": 26,
   "metadata": {},
   "outputs": [
    {
     "data": {
      "text/plain": [
       "(0.0, 18500.0)"
      ]
     },
     "execution_count": 26,
     "metadata": {},
     "output_type": "execute_result"
    },
    {
     "data": {
      "image/png": "[encoded data removed]",
      "text/plain": [
       "<Figure size 432x288 with 1 Axes>"
      ]
     },
     "metadata": {
      "needs_background": "light"
     },
     "output_type": "display_data"
    }
   ],
   "source": [
    "ax=sns.countplot(y='primarypropertytype_selfselect',data=df2,) \n",
    "ax.set_xlim(0,18500)"
   ]
  },
  {
   "cell_type": "code",
   "execution_count": 20,
   "metadata": {},
   "outputs": [
    {
     "data": {
      "text/plain": [
       "(0.0, 15.0, 0.0, 5000.0)"
      ]
     },
     "execution_count": 20,
     "metadata": {},
     "output_type": "execute_result"
    },
    {
     "data": {
      "image/png": "[encoded data removed]",
      "text/plain": [
       "<Figure size 432x288 with 1 Axes>"
      ]
     },
     "metadata": {
      "needs_background": "light"
     },
     "output_type": "display_data"
    }
   ],
   "source": [
    "df2.hist(column=\"kbtusqft\",bins=600)\n",
    "\n",
    "#plt.hist(x=\"kbtusqft\", bins=30, data=df2,facecolor='green', alpha=0.75)\n",
    "\n",
    "\n",
    "#plt.xlabel('Smarts')\n",
    "#plt.ylabel('Probability')\n",
    "#plt.title(r'$\\mathrm{Histogram\\ of\\ IQ:}\\ \\mu=100,\\ \\sigma=15$')\n",
    "\n",
    "plt.axis(xmin=0,xmax=15,ymin=0,ymax=5000)\n",
    "#plt.grid(True)\n",
    "\n",
    "\n",
    "#plt.show()\n",
    "#ax = sns.displot(x= \"kbtusqft\", data=df2,)\n",
    "\n"
   ]
  },
  {
   "cell_type": "code",
   "execution_count": 21,
   "metadata": {},
   "outputs": [
    {
     "data": {
      "text/plain": [
       "(0.0, 1000000.0, 0.0, 5000.0)"
      ]
     },
     "execution_count": 21,
     "metadata": {},
     "output_type": "execute_result"
    },
    {
     "data": {
      "image/png": "[encoded data removed]",
      "text/plain": [
       "<Figure size 432x288 with 1 Axes>"
      ]
     },
     "metadata": {
      "needs_background": "light"
     },
     "output_type": "display_data"
    }
   ],
   "source": [
    "df2.hist(column =\"kbtu\",bins=1000)\n",
    "plt.axis(xmin=0,xmax=1000000,ymin=0,ymax=5000)\n"
   ]
  },
  {
   "cell_type": "code",
   "execution_count": 22,
   "metadata": {},
   "outputs": [
    {
     "name": "stdout",
     "output_type": "stream",
     "text": [
      "Closed\n"
     ]
    }
   ],
   "source": [
    "conn.close()\n",
    "print('Closed')"
   ]
  },
  {
   "cell_type": "code",
   "execution_count": null,
   "metadata": {},
   "outputs": [],
   "source": []
  },
  {
   "cell_type": "code",
   "execution_count": null,
   "metadata": {},
   "outputs": [],
   "source": []
  }
 ],
 "metadata": {
  "kernelspec": {
   "display_name": "Python 3",
   "language": "python",
   "name": "python3"
  },
  "language_info": {
   "codemirror_mode": {
    "name": "ipython",
    "version": 3
   },
   "file_extension": ".py",
   "mimetype": "text/x-python",
   "name": "python",
   "nbconvert_exporter": "python",
   "pygments_lexer": "ipython3",
   "version": "3.8.3"
  }
 },
 "nbformat": 4,
 "nbformat_minor": 2
}
