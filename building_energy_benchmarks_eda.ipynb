{
 "cells": [
  {
   "cell_type": "code",
   "execution_count": 1,
   "metadata": {},
   "outputs": [],
   "source": [
    "import pandas as pd"
   ]
  },
  {
   "cell_type": "code",
   "execution_count": 4,
   "metadata": {},
   "outputs": [],
   "source": [
    "df = pd.read_csv('c:\\\\Users\\\\rv14996\\\\Building_Energy_Benchmarks.csv')"
   ]
  },
  {
   "cell_type": "code",
   "execution_count": 5,
   "metadata": {},
   "outputs": [
    {
     "data": {
      "text/html": [
       "<div>\n",
       "<style scoped>\n",
       "    .dataframe tbody tr th:only-of-type {\n",
       "        vertical-align: middle;\n",
       "    }\n",
       "\n",
       "    .dataframe tbody tr th {\n",
       "        vertical-align: top;\n",
       "    }\n",
       "\n",
       "    .dataframe thead th {\n",
       "        text-align: right;\n",
       "    }\n",
       "</style>\n",
       "<table border=\"1\" class=\"dataframe\">\n",
       "  <thead>\n",
       "    <tr style=\"text-align: right;\">\n",
       "      <th></th>\n",
       "      <th>Unnamed: 0</th>\n",
       "      <th>X</th>\n",
       "      <th>Y</th>\n",
       "      <th>OBJECTID</th>\n",
       "      <th>PID</th>\n",
       "      <th>DCREALPROPERTYID</th>\n",
       "      <th>PMPROPERTYID</th>\n",
       "      <th>PROPERTYNAME</th>\n",
       "      <th>PMPARENTPROPERTYID</th>\n",
       "      <th>PARENTPROPERTYNAME</th>\n",
       "      <th>...</th>\n",
       "      <th>ELECTRICITYUSE_KBTU_MARCH</th>\n",
       "      <th>ELECTRICITYUSE_KBTU_APRIL</th>\n",
       "      <th>ELECTRICITYUSE_KBTU_MAY</th>\n",
       "      <th>ELECTRICITYUSE_KBTU_JUNE</th>\n",
       "      <th>ELECTRICITYUSE_KBTU_JULY</th>\n",
       "      <th>ELECTRICITYUSE_KBTU_AUGUST</th>\n",
       "      <th>ELECTRICITYUSE_KBTU_SEPTEMBER</th>\n",
       "      <th>ELECTRICITYUSE_KBTU_OCTOBER</th>\n",
       "      <th>ELECTRICITYUSE_KBTU_NOVEMBER</th>\n",
       "      <th>ELECTRICITYUSE_KBTU_DECEMBER</th>\n",
       "    </tr>\n",
       "  </thead>\n",
       "  <tbody>\n",
       "    <tr>\n",
       "      <td>0</td>\n",
       "      <td>0</td>\n",
       "      <td>-77.025639</td>\n",
       "      <td>38.932687</td>\n",
       "      <td>1</td>\n",
       "      <td>PM3412372</td>\n",
       "      <td>2894_0896</td>\n",
       "      <td>3412372.0</td>\n",
       "      <td>Fifth District Station</td>\n",
       "      <td>NaN</td>\n",
       "      <td>NaN</td>\n",
       "      <td>...</td>\n",
       "      <td>0.0</td>\n",
       "      <td>0.0</td>\n",
       "      <td>0.0</td>\n",
       "      <td>0.0</td>\n",
       "      <td>0.0</td>\n",
       "      <td>0.0</td>\n",
       "      <td>0.0</td>\n",
       "      <td>0.0</td>\n",
       "      <td>0.0</td>\n",
       "      <td>0.0</td>\n",
       "    </tr>\n",
       "    <tr>\n",
       "      <td>1</td>\n",
       "      <td>1</td>\n",
       "      <td>-76.988002</td>\n",
       "      <td>38.856628</td>\n",
       "      <td>2</td>\n",
       "      <td>PM5811457</td>\n",
       "      <td>5872_0950</td>\n",
       "      <td>5811457.0</td>\n",
       "      <td>Douglass</td>\n",
       "      <td>NaN</td>\n",
       "      <td>NaN</td>\n",
       "      <td>...</td>\n",
       "      <td>0.0</td>\n",
       "      <td>0.0</td>\n",
       "      <td>0.0</td>\n",
       "      <td>0.0</td>\n",
       "      <td>0.0</td>\n",
       "      <td>0.0</td>\n",
       "      <td>0.0</td>\n",
       "      <td>0.0</td>\n",
       "      <td>0.0</td>\n",
       "      <td>0.0</td>\n",
       "    </tr>\n",
       "    <tr>\n",
       "      <td>2</td>\n",
       "      <td>2</td>\n",
       "      <td>-76.999189</td>\n",
       "      <td>38.829001</td>\n",
       "      <td>3</td>\n",
       "      <td>PM3365834</td>\n",
       "      <td>6207_0809</td>\n",
       "      <td>3365834.0</td>\n",
       "      <td>Hendley Elementary</td>\n",
       "      <td>NaN</td>\n",
       "      <td>NaN</td>\n",
       "      <td>...</td>\n",
       "      <td>0.0</td>\n",
       "      <td>0.0</td>\n",
       "      <td>0.0</td>\n",
       "      <td>0.0</td>\n",
       "      <td>0.0</td>\n",
       "      <td>0.0</td>\n",
       "      <td>0.0</td>\n",
       "      <td>0.0</td>\n",
       "      <td>0.0</td>\n",
       "      <td>0.0</td>\n",
       "    </tr>\n",
       "    <tr>\n",
       "      <td>3</td>\n",
       "      <td>3</td>\n",
       "      <td>-77.047668</td>\n",
       "      <td>38.902900</td>\n",
       "      <td>4</td>\n",
       "      <td>PM3996159</td>\n",
       "      <td>0073_0082</td>\n",
       "      <td>3996159.0</td>\n",
       "      <td>2131 K Street NW</td>\n",
       "      <td>NaN</td>\n",
       "      <td>NaN</td>\n",
       "      <td>...</td>\n",
       "      <td>0.0</td>\n",
       "      <td>0.0</td>\n",
       "      <td>0.0</td>\n",
       "      <td>0.0</td>\n",
       "      <td>0.0</td>\n",
       "      <td>0.0</td>\n",
       "      <td>0.0</td>\n",
       "      <td>0.0</td>\n",
       "      <td>0.0</td>\n",
       "      <td>0.0</td>\n",
       "    </tr>\n",
       "    <tr>\n",
       "      <td>4</td>\n",
       "      <td>4</td>\n",
       "      <td>-77.033067</td>\n",
       "      <td>38.932262</td>\n",
       "      <td>5</td>\n",
       "      <td>PM3412381</td>\n",
       "      <td>2678_0844</td>\n",
       "      <td>3412381.0</td>\n",
       "      <td>Engine Company #11</td>\n",
       "      <td>NaN</td>\n",
       "      <td>NaN</td>\n",
       "      <td>...</td>\n",
       "      <td>0.0</td>\n",
       "      <td>0.0</td>\n",
       "      <td>0.0</td>\n",
       "      <td>0.0</td>\n",
       "      <td>0.0</td>\n",
       "      <td>0.0</td>\n",
       "      <td>0.0</td>\n",
       "      <td>0.0</td>\n",
       "      <td>0.0</td>\n",
       "      <td>0.0</td>\n",
       "    </tr>\n",
       "  </tbody>\n",
       "</table>\n",
       "<p>5 rows × 72 columns</p>\n",
       "</div>"
      ],
      "text/plain": [
       "   Unnamed: 0          X          Y  OBJECTID        PID DCREALPROPERTYID  \\\n",
       "0           0 -77.025639  38.932687         1  PM3412372        2894_0896   \n",
       "1           1 -76.988002  38.856628         2  PM5811457        5872_0950   \n",
       "2           2 -76.999189  38.829001         3  PM3365834        6207_0809   \n",
       "3           3 -77.047668  38.902900         4  PM3996159        0073_0082   \n",
       "4           4 -77.033067  38.932262         5  PM3412381        2678_0844   \n",
       "\n",
       "   PMPROPERTYID            PROPERTYNAME  PMPARENTPROPERTYID  \\\n",
       "0     3412372.0  Fifth District Station                 NaN   \n",
       "1     5811457.0                Douglass                 NaN   \n",
       "2     3365834.0      Hendley Elementary                 NaN   \n",
       "3     3996159.0        2131 K Street NW                 NaN   \n",
       "4     3412381.0      Engine Company #11                 NaN   \n",
       "\n",
       "  PARENTPROPERTYNAME  ...  ELECTRICITYUSE_KBTU_MARCH  \\\n",
       "0                NaN  ...                        0.0   \n",
       "1                NaN  ...                        0.0   \n",
       "2                NaN  ...                        0.0   \n",
       "3                NaN  ...                        0.0   \n",
       "4                NaN  ...                        0.0   \n",
       "\n",
       "  ELECTRICITYUSE_KBTU_APRIL ELECTRICITYUSE_KBTU_MAY ELECTRICITYUSE_KBTU_JUNE  \\\n",
       "0                       0.0                     0.0                      0.0   \n",
       "1                       0.0                     0.0                      0.0   \n",
       "2                       0.0                     0.0                      0.0   \n",
       "3                       0.0                     0.0                      0.0   \n",
       "4                       0.0                     0.0                      0.0   \n",
       "\n",
       "   ELECTRICITYUSE_KBTU_JULY ELECTRICITYUSE_KBTU_AUGUST  \\\n",
       "0                       0.0                        0.0   \n",
       "1                       0.0                        0.0   \n",
       "2                       0.0                        0.0   \n",
       "3                       0.0                        0.0   \n",
       "4                       0.0                        0.0   \n",
       "\n",
       "  ELECTRICITYUSE_KBTU_SEPTEMBER ELECTRICITYUSE_KBTU_OCTOBER  \\\n",
       "0                           0.0                         0.0   \n",
       "1                           0.0                         0.0   \n",
       "2                           0.0                         0.0   \n",
       "3                           0.0                         0.0   \n",
       "4                           0.0                         0.0   \n",
       "\n",
       "  ELECTRICITYUSE_KBTU_NOVEMBER  ELECTRICITYUSE_KBTU_DECEMBER  \n",
       "0                          0.0                           0.0  \n",
       "1                          0.0                           0.0  \n",
       "2                          0.0                           0.0  \n",
       "3                          0.0                           0.0  \n",
       "4                          0.0                           0.0  \n",
       "\n",
       "[5 rows x 72 columns]"
      ]
     },
     "execution_count": 5,
     "metadata": {},
     "output_type": "execute_result"
    }
   ],
   "source": [
    "df.head()"
   ]
  },
  {
   "cell_type": "code",
   "execution_count": 5,
   "metadata": {},
   "outputs": [
    {
     "data": {
      "text/plain": [
       "(15508, 71)"
      ]
     },
     "execution_count": 5,
     "metadata": {},
     "output_type": "execute_result"
    }
   ],
   "source": [
    "df.shape"
   ]
  },
  {
   "cell_type": "code",
   "execution_count": 6,
   "metadata": {},
   "outputs": [
    {
     "data": {
      "text/plain": [
       "2757"
      ]
     },
     "execution_count": 6,
     "metadata": {},
     "output_type": "execute_result"
    }
   ],
   "source": [
    "df['ELECTRICITYUSE_KBTU_DECEMBER'].isnull().sum()"
   ]
  },
  {
   "cell_type": "code",
   "execution_count": 7,
   "metadata": {},
   "outputs": [],
   "source": [
    "#df[df.duplicated(subset=['PID'])]"
   ]
  },
  {
   "cell_type": "code",
   "execution_count": 8,
   "metadata": {},
   "outputs": [],
   "source": [
    "#df[df.duplicated(subset=['PID', 'REPORTINGYEAR'])]"
   ]
  },
  {
   "cell_type": "code",
   "execution_count": 10,
   "metadata": {},
   "outputs": [],
   "source": [
    "#def buildings_with_12_month_elec_data(integer):\n",
    "#    reportingyear_counts = df.groupby(['PID'])['REPORTINGYEAR'].count().reset_index(name='Count')"
   ]
  },
  {
   "cell_type": "code",
   "execution_count": 16,
   "metadata": {},
   "outputs": [],
   "source": [
    "#def buildings_with_12_month_elec_data(integer):\n",
    "#    reportingyear_counts = df.groupby(['PID'])['REPORTINGYEAR'].count().reset_index(name='Count')\n",
    "#    return reportingyear_counts[reportingyear_counts['Count'] >= integer].sort_values(by=['Count'], ascending=False)\n",
    "\n",
    "#buildings_with_12_month_elec_data(12)"
   ]
  },
  {
   "cell_type": "code",
   "execution_count": 12,
   "metadata": {},
   "outputs": [],
   "source": [
    "#reportingyear_counts = 1"
   ]
  },
  {
   "cell_type": "code",
   "execution_count": 33,
   "metadata": {},
   "outputs": [
    {
     "name": "stdout",
     "output_type": "stream",
     "text": [
      "1756\n"
     ]
    }
   ],
   "source": [
    "#Number of buildings with 12 months of electricity usage data > 0 in 2019\n",
    "twelve_months_elec = df[(df['ELECTRICITYUSE_KBTU_JANUARY']>0) & (df['ELECTRICITYUSE_KBTU_FEBRUARY']>0) & (df['ELECTRICITYUSE_KBTU_MARCH']>0) & (df['ELECTRICITYUSE_KBTU_APRIL']>0) & (df['ELECTRICITYUSE_KBTU_MAY']>0) & (df['ELECTRICITYUSE_KBTU_JUNE']>0) & (df['ELECTRICITYUSE_KBTU_JULY']>0) & (df['ELECTRICITYUSE_KBTU_AUGUST']>0) & (df['ELECTRICITYUSE_KBTU_SEPTEMBER']>0) & (df['ELECTRICITYUSE_KBTU_OCTOBER']>0) & (df['ELECTRICITYUSE_KBTU_NOVEMBER']>0) & (df['ELECTRICITYUSE_KBTU_DECEMBER']>0) & (df['REPORTINGYEAR']==2019)]\n",
    "print(twelve_months_elec.count()[0])"
   ]
  },
  {
   "cell_type": "code",
   "execution_count": 34,
   "metadata": {},
   "outputs": [
    {
     "name": "stdout",
     "output_type": "stream",
     "text": [
      "1699\n"
     ]
    }
   ],
   "source": [
    "#Number of buildings with 12 months of electricity usage data > 0 in 2018\n",
    "twelve_months_elec = df[(df['ELECTRICITYUSE_KBTU_JANUARY']>0) & (df['ELECTRICITYUSE_KBTU_FEBRUARY']>0) & (df['ELECTRICITYUSE_KBTU_MARCH']>0) & (df['ELECTRICITYUSE_KBTU_APRIL']>0) & (df['ELECTRICITYUSE_KBTU_MAY']>0) & (df['ELECTRICITYUSE_KBTU_JUNE']>0) & (df['ELECTRICITYUSE_KBTU_JULY']>0) & (df['ELECTRICITYUSE_KBTU_AUGUST']>0) & (df['ELECTRICITYUSE_KBTU_SEPTEMBER']>0) & (df['ELECTRICITYUSE_KBTU_OCTOBER']>0) & (df['ELECTRICITYUSE_KBTU_NOVEMBER']>0) & (df['ELECTRICITYUSE_KBTU_DECEMBER']>0) & (df['REPORTINGYEAR']==2018)]\n",
    "print(twelve_months_elec.count()[0])"
   ]
  },
  {
   "cell_type": "code",
   "execution_count": 36,
   "metadata": {},
   "outputs": [
    {
     "name": "stdout",
     "output_type": "stream",
     "text": [
      "1586\n"
     ]
    }
   ],
   "source": [
    "#Number of buildings with 12 months of electricity usage data >= 0 in 2017\n",
    "twelve_months_elec = df[(df['ELECTRICITYUSE_KBTU_JANUARY']>=0) & (df['ELECTRICITYUSE_KBTU_FEBRUARY']>=0) & (df['ELECTRICITYUSE_KBTU_MARCH']>=0) & (df['ELECTRICITYUSE_KBTU_APRIL']>=0) & (df['ELECTRICITYUSE_KBTU_MAY']>=0) & (df['ELECTRICITYUSE_KBTU_JUNE']>=0) & (df['ELECTRICITYUSE_KBTU_JULY']>=0) & (df['ELECTRICITYUSE_KBTU_AUGUST']>=0) & (df['ELECTRICITYUSE_KBTU_SEPTEMBER']>=0) & (df['ELECTRICITYUSE_KBTU_OCTOBER']>=0) & (df['ELECTRICITYUSE_KBTU_NOVEMBER']>=0) & (df['ELECTRICITYUSE_KBTU_DECEMBER']>=0) & (df['REPORTINGYEAR']==2017)]\n",
    "print(twelve_months_elec.count()[0])"
   ]
  },
  {
   "cell_type": "code",
   "execution_count": 39,
   "metadata": {},
   "outputs": [
    {
     "name": "stdout",
     "output_type": "stream",
     "text": [
      "1586\n"
     ]
    }
   ],
   "source": [
    "#Number of buildings with 12 months of electricity usage data = 0 in 2017\n",
    "twelve_months_elec = df[(df['ELECTRICITYUSE_KBTU_JANUARY']==0) & (df['ELECTRICITYUSE_KBTU_FEBRUARY']==0) & (df['ELECTRICITYUSE_KBTU_MARCH']==0) & (df['ELECTRICITYUSE_KBTU_APRIL']==0) & (df['ELECTRICITYUSE_KBTU_MAY']==0) & (df['ELECTRICITYUSE_KBTU_JUNE']==0) & (df['ELECTRICITYUSE_KBTU_JULY']==0) & (df['ELECTRICITYUSE_KBTU_AUGUST']==0) & (df['ELECTRICITYUSE_KBTU_SEPTEMBER']==0) & (df['ELECTRICITYUSE_KBTU_OCTOBER']==0) & (df['ELECTRICITYUSE_KBTU_NOVEMBER']==0) & (df['ELECTRICITYUSE_KBTU_DECEMBER']==0) & (df['REPORTINGYEAR']==2017)]\n",
    "print(twelve_months_elec.count()[0])"
   ]
  },
  {
   "cell_type": "code",
   "execution_count": 30,
   "metadata": {},
   "outputs": [],
   "source": [
    "#tme_energy_star = df[(df['ELECTRICITYUSE_KBTU_JANUARY']>0) & (df['ELECTRICITYUSE_KBTU_FEBRUARY']>0) & (df['ELECTRICITYUSE_KBTU_MARCH']>0) & (df['ELECTRICITYUSE_KBTU_APRIL']>0) & (df['ELECTRICITYUSE_KBTU_MAY']>0) & (df['ELECTRICITYUSE_KBTU_JUNE']>0) & (df['ELECTRICITYUSE_KBTU_JULY']>0) & (df['ELECTRICITYUSE_KBTU_AUGUST']>0) & (df['ELECTRICITYUSE_KBTU_SEPTEMBER']>0) & (df['ELECTRICITYUSE_KBTU_OCTOBER']>0) & (df['ELECTRICITYUSE_KBTU_NOVEMBER']>0) & (df['ELECTRICITYUSE_KBTU_DECEMBER']>0) & (df['ENERGYSTARSCORE']>0)]\n",
    "#print(tme_energy_star.count()[0])"
   ]
  },
  {
   "cell_type": "code",
   "execution_count": 31,
   "metadata": {},
   "outputs": [],
   "source": [
    "#tmeess_ghg = df[(df['ELECTRICITYUSE_KBTU_JANUARY']>0) & (df['ELECTRICITYUSE_KBTU_FEBRUARY']>0) & (df['ELECTRICITYUSE_KBTU_MARCH']>0) & (df['ELECTRICITYUSE_KBTU_APRIL']>0) & (df['ELECTRICITYUSE_KBTU_MAY']>0) & (df['ELECTRICITYUSE_KBTU_JUNE']>0) & (df['ELECTRICITYUSE_KBTU_JULY']>0) & (df['ELECTRICITYUSE_KBTU_AUGUST']>0) & (df['ELECTRICITYUSE_KBTU_SEPTEMBER']>0) & (df['ELECTRICITYUSE_KBTU_OCTOBER']>0) & (df['ELECTRICITYUSE_KBTU_NOVEMBER']>0) & (df['ELECTRICITYUSE_KBTU_DECEMBER']>0) & (df['ENERGYSTARSCORE']>0) & (df['TOTGHGEMISSIONS_METRICTONSCO2E']>0)]\n",
    "#print(tmeess_ghg.count()[0])"
   ]
  },
  {
   "cell_type": "code",
   "execution_count": 32,
   "metadata": {},
   "outputs": [],
   "source": [
    "#tmeessghg_water = df[(df['ELECTRICITYUSE_KBTU_JANUARY']>0) & (df['ELECTRICITYUSE_KBTU_FEBRUARY']>0) & (df['ELECTRICITYUSE_KBTU_MARCH']>0) & (df['ELECTRICITYUSE_KBTU_APRIL']>0) & (df['ELECTRICITYUSE_KBTU_MAY']>0) & (df['ELECTRICITYUSE_KBTU_JUNE']>0) & (df['ELECTRICITYUSE_KBTU_JULY']>0) & (df['ELECTRICITYUSE_KBTU_AUGUST']>0) & (df['ELECTRICITYUSE_KBTU_SEPTEMBER']>0) & (df['ELECTRICITYUSE_KBTU_OCTOBER']>0) & (df['ELECTRICITYUSE_KBTU_NOVEMBER']>0) & (df['ELECTRICITYUSE_KBTU_DECEMBER']>0) & (df['ENERGYSTARSCORE']>0) & (df['TOTGHGEMISSIONS_METRICTONSCO2E']>0) & (df['WATERUSE_ALLWATERSOURCES_KGAL']>0)]\n",
    "#print(tmeessghg_water.count()[0])    "
   ]
  },
  {
   "cell_type": "code",
   "execution_count": 41,
   "metadata": {},
   "outputs": [],
   "source": [
    "#tmeessghg_water_2019 = df[(df['ELECTRICITYUSE_KBTU_JANUARY']>0) & (df['ELECTRICITYUSE_KBTU_FEBRUARY']>0) & (df['ELECTRICITYUSE_KBTU_MARCH']>0) & (df['ELECTRICITYUSE_KBTU_APRIL']>0) & (df['ELECTRICITYUSE_KBTU_MAY']>0) & (df['ELECTRICITYUSE_KBTU_JUNE']>0) & (df['ELECTRICITYUSE_KBTU_JULY']>0) & (df['ELECTRICITYUSE_KBTU_AUGUST']>0) & (df['ELECTRICITYUSE_KBTU_SEPTEMBER']>0) & (df['ELECTRICITYUSE_KBTU_OCTOBER']>0) & (df['ELECTRICITYUSE_KBTU_NOVEMBER']>0) & (df['ELECTRICITYUSE_KBTU_DECEMBER']>0) & (df['ENERGYSTARSCORE']>0) & (df['TOTGHGEMISSIONS_METRICTONSCO2E']>0) & (df['WATERUSE_ALLWATERSOURCES_KGAL']>0) & (df['REPORTINGYEAR']==2019)]\n",
    "#print(tmeessghg_water_2019.count()[0])"
   ]
  },
  {
   "cell_type": "code",
   "execution_count": 58,
   "metadata": {},
   "outputs": [],
   "source": [
    "transposed = pd.melt(df, id_vars=['PID', 'REPORTINGYEAR'], value_vars=['ELECTRICITYUSE_KBTU_JANUARY','ELECTRICITYUSE_KBTU_FEBRUARY','ELECTRICITYUSE_KBTU_MARCH','ELECTRICITYUSE_KBTU_APRIL','ELECTRICITYUSE_KBTU_MAY','ELECTRICITYUSE_KBTU_JUNE','ELECTRICITYUSE_KBTU_JULY','ELECTRICITYUSE_KBTU_AUGUST','ELECTRICITYUSE_KBTU_SEPTEMBER','ELECTRICITYUSE_KBTU_OCTOBER','ELECTRICITYUSE_KBTU_NOVEMBER','ELECTRICITYUSE_KBTU_DECEMBER'], var_name='month', value_name='ekbtu', col_level=None)"
   ]
  },
  {
   "cell_type": "code",
   "execution_count": 59,
   "metadata": {},
   "outputs": [
    {
     "data": {
      "text/plain": [
       "(188772, 4)"
      ]
     },
     "execution_count": 59,
     "metadata": {},
     "output_type": "execute_result"
    }
   ],
   "source": [
    "transposed.shape"
   ]
  },
  {
   "cell_type": "code",
   "execution_count": 60,
   "metadata": {},
   "outputs": [
    {
     "data": {
      "text/html": [
       "<div>\n",
       "<style scoped>\n",
       "    .dataframe tbody tr th:only-of-type {\n",
       "        vertical-align: middle;\n",
       "    }\n",
       "\n",
       "    .dataframe tbody tr th {\n",
       "        vertical-align: top;\n",
       "    }\n",
       "\n",
       "    .dataframe thead th {\n",
       "        text-align: right;\n",
       "    }\n",
       "</style>\n",
       "<table border=\"1\" class=\"dataframe\">\n",
       "  <thead>\n",
       "    <tr style=\"text-align: right;\">\n",
       "      <th></th>\n",
       "      <th>PID</th>\n",
       "      <th>REPORTINGYEAR</th>\n",
       "      <th>month</th>\n",
       "      <th>ekbtu</th>\n",
       "    </tr>\n",
       "  </thead>\n",
       "  <tbody>\n",
       "    <tr>\n",
       "      <td>0</td>\n",
       "      <td>PM3412372</td>\n",
       "      <td>2017</td>\n",
       "      <td>ELECTRICITYUSE_KBTU_JANUARY</td>\n",
       "      <td>0.0</td>\n",
       "    </tr>\n",
       "    <tr>\n",
       "      <td>1</td>\n",
       "      <td>PM5811457</td>\n",
       "      <td>2017</td>\n",
       "      <td>ELECTRICITYUSE_KBTU_JANUARY</td>\n",
       "      <td>0.0</td>\n",
       "    </tr>\n",
       "    <tr>\n",
       "      <td>2</td>\n",
       "      <td>PM3365834</td>\n",
       "      <td>2017</td>\n",
       "      <td>ELECTRICITYUSE_KBTU_JANUARY</td>\n",
       "      <td>0.0</td>\n",
       "    </tr>\n",
       "    <tr>\n",
       "      <td>3</td>\n",
       "      <td>PM3996159</td>\n",
       "      <td>2017</td>\n",
       "      <td>ELECTRICITYUSE_KBTU_JANUARY</td>\n",
       "      <td>0.0</td>\n",
       "    </tr>\n",
       "    <tr>\n",
       "      <td>4</td>\n",
       "      <td>PM3412381</td>\n",
       "      <td>2017</td>\n",
       "      <td>ELECTRICITYUSE_KBTU_JANUARY</td>\n",
       "      <td>0.0</td>\n",
       "    </tr>\n",
       "  </tbody>\n",
       "</table>\n",
       "</div>"
      ],
      "text/plain": [
       "         PID  REPORTINGYEAR                        month  ekbtu\n",
       "0  PM3412372           2017  ELECTRICITYUSE_KBTU_JANUARY    0.0\n",
       "1  PM5811457           2017  ELECTRICITYUSE_KBTU_JANUARY    0.0\n",
       "2  PM3365834           2017  ELECTRICITYUSE_KBTU_JANUARY    0.0\n",
       "3  PM3996159           2017  ELECTRICITYUSE_KBTU_JANUARY    0.0\n",
       "4  PM3412381           2017  ELECTRICITYUSE_KBTU_JANUARY    0.0"
      ]
     },
     "execution_count": 60,
     "metadata": {},
     "output_type": "execute_result"
    }
   ],
   "source": [
    "transposed.head()"
   ]
  },
  {
   "cell_type": "code",
   "execution_count": 56,
   "metadata": {},
   "outputs": [],
   "source": [
    "transposed.to_csv('transposed.csv')"
   ]
  },
  {
   "cell_type": "code",
   "execution_count": null,
   "metadata": {},
   "outputs": [],
   "source": []
  }
 ],
 "metadata": {
  "kernelspec": {
   "display_name": "Python 3",
   "language": "python",
   "name": "python3"
  },
  "language_info": {
   "codemirror_mode": {
    "name": "ipython",
    "version": 3
   },
   "file_extension": ".py",
   "mimetype": "text/x-python",
   "name": "python",
   "nbconvert_exporter": "python",
   "pygments_lexer": "ipython3",
   "version": "3.7.4"
  }
 },
 "nbformat": 4,
 "nbformat_minor": 2
}
