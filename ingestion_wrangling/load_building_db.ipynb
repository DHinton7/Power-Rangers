{
 "cells": [
  {
   "cell_type": "code",
   "execution_count": 1,
   "metadata": {},
   "outputs": [],
   "source": [
    "import urllib3\n",
    "import certifi\n",
    "\n",
    "http = urllib3.PoolManager(\n",
    "    cert_reqs='CERT_REQUIRED',\n",
    "    ca_certs=certifi.where()\n",
    "    )"
   ]
  },
  {
   "cell_type": "code",
   "execution_count": 2,
   "metadata": {},
   "outputs": [],
   "source": [
    "#import requests\n",
    "#import json\n",
    "\n",
    "#r = http.request('GET', 'https://opendata.arcgis.com/datasets/aba010cff7fe4d4cb369a54b56cd7544_45.geojson')\n",
    "#r.status\n",
    "\n",
    "#def get_data():\n",
    "#    openweather = \"https://opendata.arcgis.com/datasets/aba010cff7fe4d4cb369a54b56cd7544_45.geojson\"\n",
    "#    request_data = requests.get(openweather)\n",
    "#    return request_data.json()\n",
    "\n",
    "#data = get_data()\n",
    "\n",
    "#with open('Building_Energy_Benchmarks.json', 'w', encoding='utf-8') as f:\n",
    "#    json.dump(data, f, ensure_ascii=False, indent=4)"
   ]
  },
  {
   "cell_type": "code",
   "execution_count": 3,
   "metadata": {},
   "outputs": [],
   "source": [
    "import pandas as pd\n",
    "\n",
    "df = pd.read_csv('https://opendata.arcgis.com/datasets/aba010cff7fe4d4cb369a54b56cd7544_45.csv')\n",
    "df.to_csv('Building_Energy_Benchmarks.csv')"
   ]
  },
  {
   "cell_type": "code",
   "execution_count": 12,
   "metadata": {},
   "outputs": [
    {
     "data": {
      "text/plain": [
       "(15731, 71)"
      ]
     },
     "execution_count": 12,
     "metadata": {},
     "output_type": "execute_result"
    }
   ],
   "source": [
    "df.shape"
   ]
  },
  {
   "cell_type": "code",
   "execution_count": 11,
   "metadata": {},
   "outputs": [
    {
     "name": "stdout",
     "output_type": "stream",
     "text": [
      "               X          Y\n",
      "0     -77.025639  38.932687\n",
      "1     -76.988002  38.856628\n",
      "2     -76.999189  38.829001\n",
      "3     -77.047668  38.902900\n",
      "4     -77.033067  38.932262\n",
      "...          ...        ...\n",
      "15726 -77.027489  38.883994\n",
      "15727 -77.039667  38.912406\n",
      "15728 -77.050519  38.898626\n",
      "15729 -77.045492  38.918604\n",
      "15730 -77.002571  38.898546\n",
      "\n",
      "[15731 rows x 2 columns]\n"
     ]
    }
   ],
   "source": [
    "f = df[['X','Y']]\n",
    "print(f)"
   ]
  },
  {
   "cell_type": "code",
   "execution_count": null,
   "metadata": {},
   "outputs": [],
   "source": []
  }
 ],
 "metadata": {
  "kernelspec": {
   "display_name": "Python 3",
   "language": "python",
   "name": "python3"
  },
  "language_info": {
   "codemirror_mode": {
    "name": "ipython",
    "version": 3
   },
   "file_extension": ".py",
   "mimetype": "text/x-python",
   "name": "python",
   "nbconvert_exporter": "python",
   "pygments_lexer": "ipython3",
   "version": "3.7.4"
  }
 },
 "nbformat": 4,
 "nbformat_minor": 2
}
