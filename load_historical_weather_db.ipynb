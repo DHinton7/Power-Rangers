{
 "cells": [
  {
   "cell_type": "code",
   "execution_count": 1,
   "metadata": {},
   "outputs": [],
   "source": [
    "import csv \n",
    "import sqlite3\n",
    "\n",
    "from datetime import datetime"
   ]
  },
  {
   "cell_type": "code",
   "execution_count": 3,
   "metadata": {},
   "outputs": [],
   "source": [
    "import pandas as pd\n",
    "\n",
    "df = pd.read_csv('openweathermap_01012010_09212020.csv', delimiter='\\t')"
   ]
  },
  {
   "cell_type": "code",
   "execution_count": 32,
   "metadata": {},
   "outputs": [
    {
     "data": {
      "text/html": [
       "<div>\n",
       "<style scoped>\n",
       "    .dataframe tbody tr th:only-of-type {\n",
       "        vertical-align: middle;\n",
       "    }\n",
       "\n",
       "    .dataframe tbody tr th {\n",
       "        vertical-align: top;\n",
       "    }\n",
       "\n",
       "    .dataframe thead th {\n",
       "        text-align: right;\n",
       "    }\n",
       "</style>\n",
       "<table border=\"1\" class=\"dataframe\">\n",
       "  <thead>\n",
       "    <tr style=\"text-align: right;\">\n",
       "      <th></th>\n",
       "      <th>dt,dt_iso,timezone,city_name,lat,lon,temp,feels_like,temp_min,temp_max,pressure,sea_level,grnd_level,humidity,wind_speed,wind_deg,rain_1h,rain_3h,snow_1h,snow_3h,clouds_all,weather_id,weather_main,weather_description,weather_icon</th>\n",
       "    </tr>\n",
       "  </thead>\n",
       "  <tbody>\n",
       "    <tr>\n",
       "      <td>0</td>\n",
       "      <td>1262304000,2010-01-01 00:00:00 +0000 UTC,-1800...</td>\n",
       "    </tr>\n",
       "    <tr>\n",
       "      <td>1</td>\n",
       "      <td>1262307600,2010-01-01 01:00:00 +0000 UTC,-1800...</td>\n",
       "    </tr>\n",
       "    <tr>\n",
       "      <td>2</td>\n",
       "      <td>1262311200,2010-01-01 02:00:00 +0000 UTC,-1800...</td>\n",
       "    </tr>\n",
       "    <tr>\n",
       "      <td>3</td>\n",
       "      <td>1262311200,2010-01-01 02:00:00 +0000 UTC,-1800...</td>\n",
       "    </tr>\n",
       "    <tr>\n",
       "      <td>4</td>\n",
       "      <td>1262314800,2010-01-01 03:00:00 +0000 UTC,-1800...</td>\n",
       "    </tr>\n",
       "  </tbody>\n",
       "</table>\n",
       "</div>"
      ],
      "text/plain": [
       "  dt,dt_iso,timezone,city_name,lat,lon,temp,feels_like,temp_min,temp_max,pressure,sea_level,grnd_level,humidity,wind_speed,wind_deg,rain_1h,rain_3h,snow_1h,snow_3h,clouds_all,weather_id,weather_main,weather_description,weather_icon\n",
       "0  1262304000,2010-01-01 00:00:00 +0000 UTC,-1800...                                                                                                                                                                                   \n",
       "1  1262307600,2010-01-01 01:00:00 +0000 UTC,-1800...                                                                                                                                                                                   \n",
       "2  1262311200,2010-01-01 02:00:00 +0000 UTC,-1800...                                                                                                                                                                                   \n",
       "3  1262311200,2010-01-01 02:00:00 +0000 UTC,-1800...                                                                                                                                                                                   \n",
       "4  1262314800,2010-01-01 03:00:00 +0000 UTC,-1800...                                                                                                                                                                                   "
      ]
     },
     "execution_count": 32,
     "metadata": {},
     "output_type": "execute_result"
    }
   ],
   "source": [
    "df.head()"
   ]
  },
  {
   "cell_type": "code",
   "execution_count": 33,
   "metadata": {},
   "outputs": [
    {
     "name": "stdout",
     "output_type": "stream",
     "text": [
      "dt\n",
      "dt_iso\n",
      "timezone\n",
      "city_name\n",
      "lat\n",
      "lon\n",
      "temp\n",
      "feels_like\n",
      "temp_min\n",
      "temp_max\n",
      "pressure\n",
      "sea_level\n",
      "grnd_level\n",
      "humidity\n",
      "wind_speed\n",
      "wind_deg\n",
      "rain_1h\n",
      "rain_3h\n",
      "snow_1h\n",
      "snow_3h\n",
      "clouds_all\n",
      "weather_id\n",
      "weather_main\n",
      "weather_description\n",
      "weather_icon\n"
     ]
    }
   ],
   "source": [
    "header = \"dt,dt_iso,timezone,city_name,lat,lon,temp,feels_like,temp_min,temp_max,pressure,sea_level,grnd_level,humidity,wind_speed,wind_deg,rain_1h,rain_3h,snow_1h,snow_3h,clouds_all,weather_id,weather_main,weather_description,weather_icon\"\n",
    "for col in header.split(\",\"):\n",
    "    print(col)"
   ]
  },
  {
   "cell_type": "code",
   "execution_count": 41,
   "metadata": {},
   "outputs": [],
   "source": [
    "SCHEMA = \"\"\"\n",
    "CREATE TABLE IF NOT EXISTS weather (\n",
    "    id INTEGER PRIMARY KEY AUTOINCREMENT,\n",
    "    dt VARCHAR(255),\n",
    "    dt_iso VARCHAR(255),\n",
    "    timezone VARCHAR(255),\n",
    "    city_name VARCHAR(255),\n",
    "    lat FLOAT,\n",
    "    lon FLOAT,\n",
    "    temp FLOAT,\n",
    "    feels_like FLOAT,\n",
    "    temp_min FLOAT,\n",
    "    temp_max FLOAT,\n",
    "    pressure FLOAT,\n",
    "    sea_level VARCHAR(255),\n",
    "    grnd_level VARCHAR(255),\n",
    "    humidity VARCHAR(255),\n",
    "    wind_speed FLOAT,\n",
    "    wind_deg FLOAT,\n",
    "    rain_1h FLOAT,\n",
    "    rain_3h FLOAT,\n",
    "    snow_1h FLOAT,\n",
    "    snow_3h FLOAT,\n",
    "    clouds_all VARCHAR(255),\n",
    "    weather_id INTEGER,\n",
    "    weather_main VARCHAR(255),\n",
    "    weather_description VARCHAR(255),\n",
    "    weather_icon VARCHAR(255),\n",
    "    UNIQUE(id)\n",
    ")\"\"\""
   ]
  },
  {
   "cell_type": "code",
   "execution_count": 35,
   "metadata": {},
   "outputs": [
    {
     "data": {
      "text/html": [
       "<div>\n",
       "<style scoped>\n",
       "    .dataframe tbody tr th:only-of-type {\n",
       "        vertical-align: middle;\n",
       "    }\n",
       "\n",
       "    .dataframe tbody tr th {\n",
       "        vertical-align: top;\n",
       "    }\n",
       "\n",
       "    .dataframe thead th {\n",
       "        text-align: right;\n",
       "    }\n",
       "</style>\n",
       "<table border=\"1\" class=\"dataframe\">\n",
       "  <thead>\n",
       "    <tr style=\"text-align: right;\">\n",
       "      <th></th>\n",
       "      <th>dt</th>\n",
       "      <th>dt_iso</th>\n",
       "      <th>timezone</th>\n",
       "      <th>city_name</th>\n",
       "      <th>lat</th>\n",
       "      <th>lon</th>\n",
       "      <th>temp</th>\n",
       "      <th>feels_like</th>\n",
       "      <th>temp_min</th>\n",
       "      <th>temp_max</th>\n",
       "      <th>...</th>\n",
       "      <th>wind_deg</th>\n",
       "      <th>rain_1h</th>\n",
       "      <th>rain_3h</th>\n",
       "      <th>snow_1h</th>\n",
       "      <th>snow_3h</th>\n",
       "      <th>clouds_all</th>\n",
       "      <th>weather_id</th>\n",
       "      <th>weather_main</th>\n",
       "      <th>weather_description</th>\n",
       "      <th>weather_icon</th>\n",
       "    </tr>\n",
       "  </thead>\n",
       "  <tbody>\n",
       "    <tr>\n",
       "      <td>0</td>\n",
       "      <td>1262304000</td>\n",
       "      <td>2010-01-01 00:00:00 +0000 UTC</td>\n",
       "      <td>-18000</td>\n",
       "      <td>Washington</td>\n",
       "      <td>38.907192</td>\n",
       "      <td>-77.036871</td>\n",
       "      <td>35.22</td>\n",
       "      <td>30.97</td>\n",
       "      <td>33.80</td>\n",
       "      <td>35.96</td>\n",
       "      <td>...</td>\n",
       "      <td>117</td>\n",
       "      <td>0.4</td>\n",
       "      <td>NaN</td>\n",
       "      <td>NaN</td>\n",
       "      <td>NaN</td>\n",
       "      <td>100</td>\n",
       "      <td>500</td>\n",
       "      <td>Rain</td>\n",
       "      <td>light rain</td>\n",
       "      <td>10n</td>\n",
       "    </tr>\n",
       "    <tr>\n",
       "      <td>1</td>\n",
       "      <td>1262307600</td>\n",
       "      <td>2010-01-01 01:00:00 +0000 UTC</td>\n",
       "      <td>-18000</td>\n",
       "      <td>Washington</td>\n",
       "      <td>38.907192</td>\n",
       "      <td>-77.036871</td>\n",
       "      <td>35.15</td>\n",
       "      <td>30.52</td>\n",
       "      <td>33.80</td>\n",
       "      <td>36.11</td>\n",
       "      <td>...</td>\n",
       "      <td>160</td>\n",
       "      <td>0.3</td>\n",
       "      <td>NaN</td>\n",
       "      <td>NaN</td>\n",
       "      <td>NaN</td>\n",
       "      <td>100</td>\n",
       "      <td>500</td>\n",
       "      <td>Rain</td>\n",
       "      <td>light rain</td>\n",
       "      <td>10n</td>\n",
       "    </tr>\n",
       "    <tr>\n",
       "      <td>2</td>\n",
       "      <td>1262311200</td>\n",
       "      <td>2010-01-01 02:00:00 +0000 UTC</td>\n",
       "      <td>-18000</td>\n",
       "      <td>Washington</td>\n",
       "      <td>38.907192</td>\n",
       "      <td>-77.036871</td>\n",
       "      <td>35.24</td>\n",
       "      <td>30.76</td>\n",
       "      <td>33.62</td>\n",
       "      <td>36.32</td>\n",
       "      <td>...</td>\n",
       "      <td>45</td>\n",
       "      <td>1.3</td>\n",
       "      <td>NaN</td>\n",
       "      <td>0.8</td>\n",
       "      <td>NaN</td>\n",
       "      <td>100</td>\n",
       "      <td>501</td>\n",
       "      <td>Rain</td>\n",
       "      <td>moderate rain</td>\n",
       "      <td>10n</td>\n",
       "    </tr>\n",
       "    <tr>\n",
       "      <td>3</td>\n",
       "      <td>1262311200</td>\n",
       "      <td>2010-01-01 02:00:00 +0000 UTC</td>\n",
       "      <td>-18000</td>\n",
       "      <td>Washington</td>\n",
       "      <td>38.907192</td>\n",
       "      <td>-77.036871</td>\n",
       "      <td>35.24</td>\n",
       "      <td>30.76</td>\n",
       "      <td>33.62</td>\n",
       "      <td>36.32</td>\n",
       "      <td>...</td>\n",
       "      <td>45</td>\n",
       "      <td>1.3</td>\n",
       "      <td>NaN</td>\n",
       "      <td>0.8</td>\n",
       "      <td>NaN</td>\n",
       "      <td>100</td>\n",
       "      <td>601</td>\n",
       "      <td>Snow</td>\n",
       "      <td>snow</td>\n",
       "      <td>13n</td>\n",
       "    </tr>\n",
       "    <tr>\n",
       "      <td>4</td>\n",
       "      <td>1262314800</td>\n",
       "      <td>2010-01-01 03:00:00 +0000 UTC</td>\n",
       "      <td>-18000</td>\n",
       "      <td>Washington</td>\n",
       "      <td>38.907192</td>\n",
       "      <td>-77.036871</td>\n",
       "      <td>35.35</td>\n",
       "      <td>30.83</td>\n",
       "      <td>33.80</td>\n",
       "      <td>36.77</td>\n",
       "      <td>...</td>\n",
       "      <td>60</td>\n",
       "      <td>NaN</td>\n",
       "      <td>3.0</td>\n",
       "      <td>0.5</td>\n",
       "      <td>1.5</td>\n",
       "      <td>100</td>\n",
       "      <td>500</td>\n",
       "      <td>Rain</td>\n",
       "      <td>light rain</td>\n",
       "      <td>10n</td>\n",
       "    </tr>\n",
       "  </tbody>\n",
       "</table>\n",
       "<p>5 rows × 25 columns</p>\n",
       "</div>"
      ],
      "text/plain": [
       "           dt                         dt_iso  timezone   city_name        lat  \\\n",
       "0  1262304000  2010-01-01 00:00:00 +0000 UTC    -18000  Washington  38.907192   \n",
       "1  1262307600  2010-01-01 01:00:00 +0000 UTC    -18000  Washington  38.907192   \n",
       "2  1262311200  2010-01-01 02:00:00 +0000 UTC    -18000  Washington  38.907192   \n",
       "3  1262311200  2010-01-01 02:00:00 +0000 UTC    -18000  Washington  38.907192   \n",
       "4  1262314800  2010-01-01 03:00:00 +0000 UTC    -18000  Washington  38.907192   \n",
       "\n",
       "         lon   temp  feels_like  temp_min  temp_max  ...  wind_deg  rain_1h  \\\n",
       "0 -77.036871  35.22       30.97     33.80     35.96  ...       117      0.4   \n",
       "1 -77.036871  35.15       30.52     33.80     36.11  ...       160      0.3   \n",
       "2 -77.036871  35.24       30.76     33.62     36.32  ...        45      1.3   \n",
       "3 -77.036871  35.24       30.76     33.62     36.32  ...        45      1.3   \n",
       "4 -77.036871  35.35       30.83     33.80     36.77  ...        60      NaN   \n",
       "\n",
       "   rain_3h  snow_1h  snow_3h  clouds_all  weather_id  weather_main  \\\n",
       "0      NaN      NaN      NaN         100         500          Rain   \n",
       "1      NaN      NaN      NaN         100         500          Rain   \n",
       "2      NaN      0.8      NaN         100         501          Rain   \n",
       "3      NaN      0.8      NaN         100         601          Snow   \n",
       "4      3.0      0.5      1.5         100         500          Rain   \n",
       "\n",
       "   weather_description  weather_icon  \n",
       "0           light rain           10n  \n",
       "1           light rain           10n  \n",
       "2        moderate rain           10n  \n",
       "3                 snow           13n  \n",
       "4           light rain           10n  \n",
       "\n",
       "[5 rows x 25 columns]"
      ]
     },
     "execution_count": 35,
     "metadata": {},
     "output_type": "execute_result"
    }
   ],
   "source": [
    "df = pd.read_csv('openweathermap_01012010_09212020.csv', delimiter=\",\")\n",
    "df.head()"
   ]
  },
  {
   "cell_type": "code",
   "execution_count": 46,
   "metadata": {},
   "outputs": [],
   "source": [
    "conn = sqlite3.connect(\"dc_historical_weather.db\")"
   ]
  },
  {
   "cell_type": "code",
   "execution_count": 45,
   "metadata": {},
   "outputs": [],
   "source": [
    "#SCHEMA = \"\"\"DROP TABLE weather\"\"\""
   ]
  },
  {
   "cell_type": "code",
   "execution_count": 47,
   "metadata": {},
   "outputs": [
    {
     "data": {
      "text/plain": [
       "<sqlite3.Cursor at 0x134419ceb90>"
      ]
     },
     "execution_count": 47,
     "metadata": {},
     "output_type": "execute_result"
    }
   ],
   "source": [
    "cur = conn.cursor()\n",
    "cur.execute(SCHEMA)"
   ]
  },
  {
   "cell_type": "code",
   "execution_count": 48,
   "metadata": {},
   "outputs": [],
   "source": [
    "df.to_sql('weather', conn, if_exists='append', index=False)\n",
    "conn.commit()\n",
    "conn.close()"
   ]
  },
  {
   "cell_type": "code",
   "execution_count": 73,
   "metadata": {},
   "outputs": [
    {
     "data": {
      "text/plain": [
       "[(35.48797043010746,)]"
      ]
     },
     "execution_count": 73,
     "metadata": {},
     "output_type": "execute_result"
    }
   ],
   "source": [
    "#January 2019 average temp\n",
    "def sum_usage():\n",
    "    cur = conn.cursor()\n",
    "    cur.execute(\"SELECT (SUM(temp_min + temp_max)/2)/(31*24) FROM weather WHERE dt >=1546300800 AND dt <=1548935999\")\n",
    "    return cur.fetchall()\n",
    "\n",
    "sum_usage()"
   ]
  },
  {
   "cell_type": "code",
   "execution_count": null,
   "metadata": {},
   "outputs": [],
   "source": []
  }
 ],
 "metadata": {
  "kernelspec": {
   "display_name": "Python 3",
   "language": "python",
   "name": "python3"
  },
  "language_info": {
   "codemirror_mode": {
    "name": "ipython",
    "version": 3
   },
   "file_extension": ".py",
   "mimetype": "text/x-python",
   "name": "python",
   "nbconvert_exporter": "python",
   "pygments_lexer": "ipython3",
   "version": "3.7.4"
  }
 },
 "nbformat": 4,
 "nbformat_minor": 2
}
