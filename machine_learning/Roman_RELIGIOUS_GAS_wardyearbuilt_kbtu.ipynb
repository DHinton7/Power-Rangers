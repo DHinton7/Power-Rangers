{
 "cells": [
  {
   "cell_type": "code",
   "execution_count": 1,
   "metadata": {},
   "outputs": [],
   "source": [
    "import psycopg2\n",
    "import config as creds\n",
    "import sqlalchemy\n",
    "from sqlalchemy import create_engine\n",
    "import numpy as np\n",
    "from numpy.random import randn\n",
    "import pandas as pd\n",
    "from scipy import stats\n",
    "from datetime import datetime"
   ]
  },
  {
   "cell_type": "markdown",
   "metadata": {},
   "source": [
    "GAS for years 2018-2019, INDIVIDUAL BUILDING TYPES \n",
    "Foreign keys: One Hot encode categorical features YEARBUILT and WARD, exclude DCREALPROPERTYID  \n",
    "Numeric features: sqft, awnd, cldd, htdd, snow\n",
    "Target feature: kbtu\n",
    "VotingRegressor - \"Religious/Worship\""
   ]
  },
  {
   "cell_type": "markdown",
   "metadata": {},
   "source": [
    "CONNECT TO DATABASE:"
   ]
  },
  {
   "cell_type": "code",
   "execution_count": 2,
   "metadata": {},
   "outputs": [
    {
     "name": "stdout",
     "output_type": "stream",
     "text": [
      "Connected\n",
      "Cursor created\n"
     ]
    }
   ],
   "source": [
    "user=creds.PGUSER\n",
    "password=creds.PGPASSWORD\n",
    "host=creds.PGHOST\n",
    "port=5432\n",
    "database=creds.PGDATABASE\n",
    "\n",
    "engine_str=f\"postgresql+psycopg2://{user}:{password}@{host}:{port}/{database}\"\n",
    "engine = create_engine(engine_str)\n",
    "conn = engine.raw_connection()\n",
    "print('Connected')\n",
    "cur = conn.cursor()\n",
    "print('Cursor created')"
   ]
  },
  {
   "cell_type": "markdown",
   "metadata": {},
   "source": [
    "EXTRACT DATASET:"
   ]
  },
  {
   "cell_type": "code",
   "execution_count": 3,
   "metadata": {},
   "outputs": [
    {
     "data": {
      "text/html": [
       "<div>\n",
       "<style scoped>\n",
       "    .dataframe tbody tr th:only-of-type {\n",
       "        vertical-align: middle;\n",
       "    }\n",
       "\n",
       "    .dataframe tbody tr th {\n",
       "        vertical-align: top;\n",
       "    }\n",
       "\n",
       "    .dataframe thead th {\n",
       "        text-align: right;\n",
       "    }\n",
       "</style>\n",
       "<table border=\"1\" class=\"dataframe\">\n",
       "  <thead>\n",
       "    <tr style=\"text-align: right;\">\n",
       "      <th></th>\n",
       "      <th>kbtu</th>\n",
       "      <th>reportedbuildinggrossfloorarea</th>\n",
       "      <th>dcrealpropertyid</th>\n",
       "      <th>ward</th>\n",
       "      <th>yearbuilt</th>\n",
       "      <th>primarypropertytype_selfselect</th>\n",
       "      <th>elegas</th>\n",
       "      <th>awnd</th>\n",
       "      <th>cldd</th>\n",
       "      <th>htdd</th>\n",
       "      <th>snow</th>\n",
       "      <th>tavg</th>\n",
       "      <th>wdf2</th>\n",
       "      <th>wdf5</th>\n",
       "      <th>wsf2</th>\n",
       "      <th>wsf5</th>\n",
       "      <th>date</th>\n",
       "    </tr>\n",
       "  </thead>\n",
       "  <tbody>\n",
       "    <tr>\n",
       "      <th>0</th>\n",
       "      <td>616089.0</td>\n",
       "      <td>68146.0</td>\n",
       "      <td>0159_0861</td>\n",
       "      <td>2</td>\n",
       "      <td>1961</td>\n",
       "      <td>14</td>\n",
       "      <td>N</td>\n",
       "      <td>9.8</td>\n",
       "      <td>0.0</td>\n",
       "      <td>906.0</td>\n",
       "      <td>1.2</td>\n",
       "      <td>35.8</td>\n",
       "      <td>300.0</td>\n",
       "      <td>310.0</td>\n",
       "      <td>36.0</td>\n",
       "      <td>49.0</td>\n",
       "      <td>2018-01</td>\n",
       "    </tr>\n",
       "    <tr>\n",
       "      <th>1</th>\n",
       "      <td>30724.8</td>\n",
       "      <td>50233.0</td>\n",
       "      <td>0181_0821</td>\n",
       "      <td>2</td>\n",
       "      <td>1918</td>\n",
       "      <td>14</td>\n",
       "      <td>N</td>\n",
       "      <td>9.8</td>\n",
       "      <td>0.0</td>\n",
       "      <td>906.0</td>\n",
       "      <td>1.2</td>\n",
       "      <td>35.8</td>\n",
       "      <td>300.0</td>\n",
       "      <td>310.0</td>\n",
       "      <td>36.0</td>\n",
       "      <td>49.0</td>\n",
       "      <td>2018-01</td>\n",
       "    </tr>\n",
       "    <tr>\n",
       "      <th>2</th>\n",
       "      <td>436275.6</td>\n",
       "      <td>58701.0</td>\n",
       "      <td>0180_0085</td>\n",
       "      <td>2</td>\n",
       "      <td>1904</td>\n",
       "      <td>14</td>\n",
       "      <td>N</td>\n",
       "      <td>9.8</td>\n",
       "      <td>0.0</td>\n",
       "      <td>906.0</td>\n",
       "      <td>1.2</td>\n",
       "      <td>35.8</td>\n",
       "      <td>300.0</td>\n",
       "      <td>310.0</td>\n",
       "      <td>36.0</td>\n",
       "      <td>49.0</td>\n",
       "      <td>2018-01</td>\n",
       "    </tr>\n",
       "    <tr>\n",
       "      <th>3</th>\n",
       "      <td>630793.7</td>\n",
       "      <td>55464.0</td>\n",
       "      <td>1601_0010</td>\n",
       "      <td>3</td>\n",
       "      <td>1921</td>\n",
       "      <td>14</td>\n",
       "      <td>N</td>\n",
       "      <td>9.8</td>\n",
       "      <td>0.0</td>\n",
       "      <td>906.0</td>\n",
       "      <td>1.2</td>\n",
       "      <td>35.8</td>\n",
       "      <td>300.0</td>\n",
       "      <td>310.0</td>\n",
       "      <td>36.0</td>\n",
       "      <td>49.0</td>\n",
       "      <td>2018-01</td>\n",
       "    </tr>\n",
       "    <tr>\n",
       "      <th>4</th>\n",
       "      <td>0.0</td>\n",
       "      <td>80976.0</td>\n",
       "      <td>2652_0805</td>\n",
       "      <td>4</td>\n",
       "      <td>1951</td>\n",
       "      <td>14</td>\n",
       "      <td>N</td>\n",
       "      <td>9.8</td>\n",
       "      <td>0.0</td>\n",
       "      <td>906.0</td>\n",
       "      <td>1.2</td>\n",
       "      <td>35.8</td>\n",
       "      <td>300.0</td>\n",
       "      <td>310.0</td>\n",
       "      <td>36.0</td>\n",
       "      <td>49.0</td>\n",
       "      <td>2018-01</td>\n",
       "    </tr>\n",
       "  </tbody>\n",
       "</table>\n",
       "</div>"
      ],
      "text/plain": [
       "       kbtu  reportedbuildinggrossfloorarea dcrealpropertyid  ward  yearbuilt  \\\n",
       "0  616089.0                         68146.0        0159_0861     2       1961   \n",
       "1   30724.8                         50233.0        0181_0821     2       1918   \n",
       "2  436275.6                         58701.0        0180_0085     2       1904   \n",
       "3  630793.7                         55464.0        1601_0010     3       1921   \n",
       "4       0.0                         80976.0        2652_0805     4       1951   \n",
       "\n",
       "  primarypropertytype_selfselect elegas  awnd  cldd   htdd  snow  tavg   wdf2  \\\n",
       "0                             14      N   9.8   0.0  906.0   1.2  35.8  300.0   \n",
       "1                             14      N   9.8   0.0  906.0   1.2  35.8  300.0   \n",
       "2                             14      N   9.8   0.0  906.0   1.2  35.8  300.0   \n",
       "3                             14      N   9.8   0.0  906.0   1.2  35.8  300.0   \n",
       "4                             14      N   9.8   0.0  906.0   1.2  35.8  300.0   \n",
       "\n",
       "    wdf5  wsf2  wsf5     date  \n",
       "0  310.0  36.0  49.0  2018-01  \n",
       "1  310.0  36.0  49.0  2018-01  \n",
       "2  310.0  36.0  49.0  2018-01  \n",
       "3  310.0  36.0  49.0  2018-01  \n",
       "4  310.0  36.0  49.0  2018-01  "
      ]
     },
     "execution_count": 3,
     "metadata": {},
     "output_type": "execute_result"
    }
   ],
   "source": [
    "query='''\n",
    "SELECT b.kbtu\n",
    "      ,b.REPORTEDBUILDINGGROSSFLOORAREA\n",
    "      ,b.dcrealpropertyid\n",
    "      ,b.ward\n",
    "      ,b.yearbuilt\n",
    "      ,b.primarypropertytype_selfselect\n",
    "      ,b.elegas\n",
    "      ,n.awnd\n",
    "      ,n.cldd\n",
    "      ,n.htdd\n",
    "      ,n.snow\n",
    "      ,n.tavg\n",
    "      ,n.wdf2\n",
    "      ,n.wdf5\n",
    "      ,n.wsf2\n",
    "      ,n.wsf5\n",
    "      ,n.date \n",
    "FROM buildings_data b\n",
    "LEFT OUTER join noaa_data n\n",
    "ON b.REPORTINGYEAR = n.WEATHERYEAR\n",
    "WHERE b.MONTH = n.MONTH\n",
    "AND b.ELEGAS = 'N'\n",
    "AND b.PRIMARYPROPERTYTYPE_SELFSELECT = '14'\n",
    "AND b.REPORTINGYEAR BETWEEN 2018 AND 2019\n",
    "AND b.YEARBUILT > 0\n",
    "AND b.REPORTEDBUILDINGGROSSFLOORAREA > 50000;\n",
    "'''\n",
    "\n",
    "data=pd.read_sql(query,conn)\n",
    "data.head()"
   ]
  },
  {
   "cell_type": "code",
   "execution_count": 4,
   "metadata": {},
   "outputs": [
    {
     "data": {
      "text/plain": [
       "False"
      ]
     },
     "execution_count": 4,
     "metadata": {},
     "output_type": "execute_result"
    }
   ],
   "source": [
    "data.isnull().values.any()"
   ]
  },
  {
   "cell_type": "markdown",
   "metadata": {},
   "source": [
    "FORMAT COLUMNS:"
   ]
  },
  {
   "cell_type": "code",
   "execution_count": 5,
   "metadata": {},
   "outputs": [],
   "source": [
    "#CONVERT 'Date' COLUMN TO datetime format\n",
    "\n",
    "#data[\"reportingyear\"] = data[\"reportingyear\"].astype(str)\n",
    "#data['month']=data['month'].apply(lambda x: '{0:0>2}'.format(x))\n",
    "#data['date_time'] = data[['reportingyear', 'month']].agg('-'.join, axis=1)\n",
    "#data['date_time'] = (data.date_time + \"-01\")\n",
    "#data['date_time'] = datetime.strptime('date_time', \"%Y-%m-%d\")\n",
    "data['datetime']=pd.to_datetime(data['date'])"
   ]
  },
  {
   "cell_type": "code",
   "execution_count": 6,
   "metadata": {},
   "outputs": [
    {
     "data": {
      "text/plain": [
       "dtype('O')"
      ]
     },
     "execution_count": 6,
     "metadata": {},
     "output_type": "execute_result"
    }
   ],
   "source": [
    "data['primarypropertytype_selfselect'].dtype"
   ]
  },
  {
   "cell_type": "code",
   "execution_count": 7,
   "metadata": {},
   "outputs": [],
   "source": [
    "data['primarypropertytype_selfselect']=data['primarypropertytype_selfselect'].astype('int32')"
   ]
  },
  {
   "cell_type": "code",
   "execution_count": 8,
   "metadata": {},
   "outputs": [
    {
     "data": {
      "text/html": [
       "<div>\n",
       "<style scoped>\n",
       "    .dataframe tbody tr th:only-of-type {\n",
       "        vertical-align: middle;\n",
       "    }\n",
       "\n",
       "    .dataframe tbody tr th {\n",
       "        vertical-align: top;\n",
       "    }\n",
       "\n",
       "    .dataframe thead th {\n",
       "        text-align: right;\n",
       "    }\n",
       "</style>\n",
       "<table border=\"1\" class=\"dataframe\">\n",
       "  <thead>\n",
       "    <tr style=\"text-align: right;\">\n",
       "      <th></th>\n",
       "      <th>kbtu</th>\n",
       "      <th>reportedbuildinggrossfloorarea</th>\n",
       "      <th>dcrealpropertyid</th>\n",
       "      <th>ward</th>\n",
       "      <th>yearbuilt</th>\n",
       "      <th>primarypropertytype_selfselect</th>\n",
       "      <th>elegas</th>\n",
       "      <th>awnd</th>\n",
       "      <th>cldd</th>\n",
       "      <th>htdd</th>\n",
       "      <th>snow</th>\n",
       "      <th>tavg</th>\n",
       "      <th>wdf2</th>\n",
       "      <th>wdf5</th>\n",
       "      <th>wsf2</th>\n",
       "      <th>wsf5</th>\n",
       "      <th>date</th>\n",
       "    </tr>\n",
       "    <tr>\n",
       "      <th>datetime</th>\n",
       "      <th></th>\n",
       "      <th></th>\n",
       "      <th></th>\n",
       "      <th></th>\n",
       "      <th></th>\n",
       "      <th></th>\n",
       "      <th></th>\n",
       "      <th></th>\n",
       "      <th></th>\n",
       "      <th></th>\n",
       "      <th></th>\n",
       "      <th></th>\n",
       "      <th></th>\n",
       "      <th></th>\n",
       "      <th></th>\n",
       "      <th></th>\n",
       "      <th></th>\n",
       "    </tr>\n",
       "  </thead>\n",
       "  <tbody>\n",
       "    <tr>\n",
       "      <th>2018-01-01</th>\n",
       "      <td>616089.0</td>\n",
       "      <td>68146.0</td>\n",
       "      <td>0159_0861</td>\n",
       "      <td>2</td>\n",
       "      <td>1961</td>\n",
       "      <td>14</td>\n",
       "      <td>N</td>\n",
       "      <td>9.8</td>\n",
       "      <td>0.0</td>\n",
       "      <td>906.0</td>\n",
       "      <td>1.2</td>\n",
       "      <td>35.8</td>\n",
       "      <td>300.0</td>\n",
       "      <td>310.0</td>\n",
       "      <td>36.0</td>\n",
       "      <td>49.0</td>\n",
       "      <td>2018-01</td>\n",
       "    </tr>\n",
       "    <tr>\n",
       "      <th>2018-01-01</th>\n",
       "      <td>30724.8</td>\n",
       "      <td>50233.0</td>\n",
       "      <td>0181_0821</td>\n",
       "      <td>2</td>\n",
       "      <td>1918</td>\n",
       "      <td>14</td>\n",
       "      <td>N</td>\n",
       "      <td>9.8</td>\n",
       "      <td>0.0</td>\n",
       "      <td>906.0</td>\n",
       "      <td>1.2</td>\n",
       "      <td>35.8</td>\n",
       "      <td>300.0</td>\n",
       "      <td>310.0</td>\n",
       "      <td>36.0</td>\n",
       "      <td>49.0</td>\n",
       "      <td>2018-01</td>\n",
       "    </tr>\n",
       "    <tr>\n",
       "      <th>2018-01-01</th>\n",
       "      <td>436275.6</td>\n",
       "      <td>58701.0</td>\n",
       "      <td>0180_0085</td>\n",
       "      <td>2</td>\n",
       "      <td>1904</td>\n",
       "      <td>14</td>\n",
       "      <td>N</td>\n",
       "      <td>9.8</td>\n",
       "      <td>0.0</td>\n",
       "      <td>906.0</td>\n",
       "      <td>1.2</td>\n",
       "      <td>35.8</td>\n",
       "      <td>300.0</td>\n",
       "      <td>310.0</td>\n",
       "      <td>36.0</td>\n",
       "      <td>49.0</td>\n",
       "      <td>2018-01</td>\n",
       "    </tr>\n",
       "    <tr>\n",
       "      <th>2018-01-01</th>\n",
       "      <td>630793.7</td>\n",
       "      <td>55464.0</td>\n",
       "      <td>1601_0010</td>\n",
       "      <td>3</td>\n",
       "      <td>1921</td>\n",
       "      <td>14</td>\n",
       "      <td>N</td>\n",
       "      <td>9.8</td>\n",
       "      <td>0.0</td>\n",
       "      <td>906.0</td>\n",
       "      <td>1.2</td>\n",
       "      <td>35.8</td>\n",
       "      <td>300.0</td>\n",
       "      <td>310.0</td>\n",
       "      <td>36.0</td>\n",
       "      <td>49.0</td>\n",
       "      <td>2018-01</td>\n",
       "    </tr>\n",
       "    <tr>\n",
       "      <th>2018-01-01</th>\n",
       "      <td>0.0</td>\n",
       "      <td>80976.0</td>\n",
       "      <td>2652_0805</td>\n",
       "      <td>4</td>\n",
       "      <td>1951</td>\n",
       "      <td>14</td>\n",
       "      <td>N</td>\n",
       "      <td>9.8</td>\n",
       "      <td>0.0</td>\n",
       "      <td>906.0</td>\n",
       "      <td>1.2</td>\n",
       "      <td>35.8</td>\n",
       "      <td>300.0</td>\n",
       "      <td>310.0</td>\n",
       "      <td>36.0</td>\n",
       "      <td>49.0</td>\n",
       "      <td>2018-01</td>\n",
       "    </tr>\n",
       "  </tbody>\n",
       "</table>\n",
       "</div>"
      ],
      "text/plain": [
       "                kbtu  reportedbuildinggrossfloorarea dcrealpropertyid  ward  \\\n",
       "datetime                                                                      \n",
       "2018-01-01  616089.0                         68146.0        0159_0861     2   \n",
       "2018-01-01   30724.8                         50233.0        0181_0821     2   \n",
       "2018-01-01  436275.6                         58701.0        0180_0085     2   \n",
       "2018-01-01  630793.7                         55464.0        1601_0010     3   \n",
       "2018-01-01       0.0                         80976.0        2652_0805     4   \n",
       "\n",
       "            yearbuilt  primarypropertytype_selfselect elegas  awnd  cldd  \\\n",
       "datetime                                                                   \n",
       "2018-01-01       1961                              14      N   9.8   0.0   \n",
       "2018-01-01       1918                              14      N   9.8   0.0   \n",
       "2018-01-01       1904                              14      N   9.8   0.0   \n",
       "2018-01-01       1921                              14      N   9.8   0.0   \n",
       "2018-01-01       1951                              14      N   9.8   0.0   \n",
       "\n",
       "             htdd  snow  tavg   wdf2   wdf5  wsf2  wsf5     date  \n",
       "datetime                                                          \n",
       "2018-01-01  906.0   1.2  35.8  300.0  310.0  36.0  49.0  2018-01  \n",
       "2018-01-01  906.0   1.2  35.8  300.0  310.0  36.0  49.0  2018-01  \n",
       "2018-01-01  906.0   1.2  35.8  300.0  310.0  36.0  49.0  2018-01  \n",
       "2018-01-01  906.0   1.2  35.8  300.0  310.0  36.0  49.0  2018-01  \n",
       "2018-01-01  906.0   1.2  35.8  300.0  310.0  36.0  49.0  2018-01  "
      ]
     },
     "execution_count": 8,
     "metadata": {},
     "output_type": "execute_result"
    }
   ],
   "source": [
    "data.set_index('datetime', inplace=True)\n",
    "data.head()"
   ]
  },
  {
   "cell_type": "code",
   "execution_count": 9,
   "metadata": {},
   "outputs": [
    {
     "data": {
      "text/plain": [
       "Index(['kbtu', 'reportedbuildinggrossfloorarea', 'dcrealpropertyid', 'ward',\n",
       "       'yearbuilt', 'primarypropertytype_selfselect', 'elegas', 'awnd', 'cldd',\n",
       "       'htdd', 'snow', 'tavg', 'wdf2', 'wdf5', 'wsf2', 'wsf5', 'date'],\n",
       "      dtype='object')"
      ]
     },
     "execution_count": 9,
     "metadata": {},
     "output_type": "execute_result"
    }
   ],
   "source": [
    "data.columns"
   ]
  },
  {
   "cell_type": "code",
   "execution_count": 10,
   "metadata": {},
   "outputs": [
    {
     "data": {
      "text/plain": [
       "kbtu                              float64\n",
       "reportedbuildinggrossfloorarea    float64\n",
       "dcrealpropertyid                   object\n",
       "ward                                int64\n",
       "yearbuilt                           int64\n",
       "primarypropertytype_selfselect      int32\n",
       "elegas                             object\n",
       "awnd                              float64\n",
       "cldd                              float64\n",
       "htdd                              float64\n",
       "snow                              float64\n",
       "tavg                              float64\n",
       "wdf2                              float64\n",
       "wdf5                              float64\n",
       "wsf2                              float64\n",
       "wsf5                              float64\n",
       "date                               object\n",
       "dtype: object"
      ]
     },
     "execution_count": 10,
     "metadata": {},
     "output_type": "execute_result"
    }
   ],
   "source": [
    "data.dtypes"
   ]
  },
  {
   "cell_type": "code",
   "execution_count": 11,
   "metadata": {},
   "outputs": [
    {
     "data": {
      "text/plain": [
       "<AxesSubplot:>"
      ]
     },
     "execution_count": 11,
     "metadata": {},
     "output_type": "execute_result"
    },
    {
     "data": {
      "image/png": "[encoded data removed]",
      "text/plain": [
       "<Figure size 1800x1080 with 2 Axes>"
      ]
     },
     "metadata": {
      "needs_background": "light"
     },
     "output_type": "display_data"
    }
   ],
   "source": [
    "import matplotlib.pyplot as plt\n",
    "import seaborn as sns\n",
    "plt.figure(figsize=(25,15))\n",
    "ftr = list([\"kbtu\", \"reportedbuildinggrossfloorarea\", \"ward\", \"yearbuilt\", \"awnd\", \"cldd\", \"htdd\", \"snow\"])\n",
    "corrMatrix = data[ftr].corr()\n",
    "sns.heatmap(corrMatrix, annot=True, fmt='.1f', linewidths=.5)"
   ]
  },
  {
   "cell_type": "markdown",
   "metadata": {},
   "source": [
    "DEFINE FEATURES:"
   ]
  },
  {
   "cell_type": "code",
   "execution_count": 12,
   "metadata": {},
   "outputs": [],
   "source": [
    "TARGET = \"kbtu\"\n",
    "COLS = ['reportedbuildinggrossfloorarea', 'ward', 'yearbuilt', 'awnd', 'cldd', 'htdd', 'snow', 'datetime']\n",
    "\n",
    "def make_sklearn_data(df=data, target=TARGET, cols=COLS):\n",
    "    df = df.reset_index()\n",
    "    X, y = df[cols], df[target]\n",
    "    return X, y"
   ]
  },
  {
   "cell_type": "code",
   "execution_count": 13,
   "metadata": {},
   "outputs": [],
   "source": [
    "features = ['reportedbuildinggrossfloorarea', 'ward', 'yearbuilt', 'awnd', 'cldd', 'htdd', 'snow']\n",
    "X, y = make_sklearn_data(cols=features)"
   ]
  },
  {
   "cell_type": "code",
   "execution_count": 14,
   "metadata": {},
   "outputs": [
    {
     "data": {
      "image/png": "[encoded data removed]",
      "text/plain": [
       "<Figure size 1080x720 with 2 Axes>"
      ]
     },
     "metadata": {},
     "output_type": "display_data"
    },
    {
     "data": {
      "text/plain": [
       "<AxesSubplot:title={'center':'Pearson Ranking of 7 Features'}>"
      ]
     },
     "execution_count": 14,
     "metadata": {},
     "output_type": "execute_result"
    }
   ],
   "source": [
    "#Rank2D\n",
    "from yellowbrick.features import Rank2D\n",
    "\n",
    "# Instantiate the visualizer with the Pearson ranking algorithm\n",
    "visualizer = Rank2D(algorithm='pearson', features=features, size=(1080, 720))\n",
    "\n",
    "visualizer.fit(X, y)\n",
    "visualizer.transform(X)\n",
    "visualizer.show()"
   ]
  },
  {
   "cell_type": "code",
   "execution_count": 15,
   "metadata": {},
   "outputs": [
    {
     "data": {
      "image/png": "[encoded data removed]",
      "text/plain": [
       "<Figure size 1080x720 with 2 Axes>"
      ]
     },
     "metadata": {},
     "output_type": "display_data"
    },
    {
     "data": {
      "text/plain": [
       "<AxesSubplot:title={'center':'Covariance Ranking of 7 Features'}>"
      ]
     },
     "execution_count": 15,
     "metadata": {},
     "output_type": "execute_result"
    }
   ],
   "source": [
    "# Instantiate the visualizer with the Covariance algorithm\n",
    "visualizer = Rank2D(algorithm='covariance', features=features, size=(1080, 720))\n",
    "\n",
    "visualizer.fit(X, y)\n",
    "visualizer.transform(X)\n",
    "visualizer.show()"
   ]
  },
  {
   "cell_type": "code",
   "execution_count": 16,
   "metadata": {},
   "outputs": [
    {
     "name": "stderr",
     "output_type": "stream",
     "text": [
      "C:\\Users\\rv14996\\Anaconda3\\lib\\site-packages\\sklearn\\base.py:213: FutureWarning: From version 0.24, get_params will raise an AttributeError if a parameter cannot be retrieved as an instance attribute. Previously it would return None.\n",
      "  FutureWarning)\n"
     ]
    },
    {
     "data": {
      "image/png": "[encoded data removed]",
      "text/plain": [
       "<Figure size 1080x720 with 1 Axes>"
      ]
     },
     "metadata": {},
     "output_type": "display_data"
    },
    {
     "data": {
      "text/plain": [
       "<AxesSubplot:title={'center':'Feature Importances of 7 Features using RandomForestRegressor'}, xlabel='relative importance'>"
      ]
     },
     "execution_count": 16,
     "metadata": {},
     "output_type": "execute_result"
    }
   ],
   "source": [
    "#Feature Importances\n",
    "import yellowbrick as yb\n",
    "from sklearn.ensemble import RandomForestRegressor\n",
    "from yellowbrick.features import RadViz\n",
    "from yellowbrick.features import FeatureImportances\n",
    "\n",
    "\n",
    "model = RandomForestRegressor(n_estimators=10)\n",
    "viz = FeatureImportances(model, labels=features, size=(1080, 720))\n",
    "\n",
    "viz.fit(X, y)\n",
    "viz.show()"
   ]
  },
  {
   "cell_type": "code",
   "execution_count": 17,
   "metadata": {},
   "outputs": [
    {
     "name": "stderr",
     "output_type": "stream",
     "text": [
      "C:\\Users\\rv14996\\Anaconda3\\lib\\site-packages\\sklearn\\base.py:213: FutureWarning: From version 0.24, get_params will raise an AttributeError if a parameter cannot be retrieved as an instance attribute. Previously it would return None.\n",
      "  FutureWarning)\n"
     ]
    },
    {
     "data": {
      "image/png": "[encoded data removed]",
      "text/plain": [
       "<Figure size 1080x720 with 1 Axes>"
      ]
     },
     "metadata": {},
     "output_type": "display_data"
    },
    {
     "data": {
      "text/plain": [
       "<AxesSubplot:title={'center':'Feature Importances of 7 Features using Lasso'}, xlabel='relative coefficient magnitude'>"
      ]
     },
     "execution_count": 17,
     "metadata": {},
     "output_type": "execute_result"
    }
   ],
   "source": [
    "#Feature Importances\n",
    "import yellowbrick as yb\n",
    "from sklearn.linear_model import Lasso\n",
    "from yellowbrick.features import RadViz\n",
    "from yellowbrick.features import FeatureImportances\n",
    "\n",
    "\n",
    "model = Lasso()\n",
    "viz = FeatureImportances(model, labels=features, size=(1080, 720))\n",
    "\n",
    "viz.fit(X, y)\n",
    "viz.show()"
   ]
  },
  {
   "cell_type": "code",
   "execution_count": 18,
   "metadata": {},
   "outputs": [
    {
     "name": "stderr",
     "output_type": "stream",
     "text": [
      "*c* argument looks like a single numeric RGB or RGBA sequence, which should be avoided as value-mapping will have precedence in case its length matches with *x* & *y*.  Please use the *color* keyword-argument or provide a 2-D array with a single row if you intend to specify the same RGB or RGBA value for all points.\n"
     ]
    },
    {
     "data": {
      "text/plain": [
       "<AxesSubplot:xlabel='datetime_cos', ylabel='datetime_sin'>"
      ]
     },
     "execution_count": 18,
     "metadata": {},
     "output_type": "execute_result"
    },
    {
     "data": {
      "image/png": "[encoded data removed]",
      "text/plain": [
       "<Figure size 576x396 with 1 Axes>"
      ]
     },
     "metadata": {},
     "output_type": "display_data"
    }
   ],
   "source": [
    "#CYCLIC ENCODER:  to capture temporal cycles (yearly).\n",
    "from sklearn.base import BaseEstimator, TransformerMixin\n",
    "\n",
    "\n",
    "class CyclicEncoder(BaseEstimator, TransformerMixin):\n",
    "    \n",
    "    def __init__(self, date_extract=\"month\"):\n",
    "        if date_extract not in {\"minute\", \"hour\", \"week\", \"month\", \"year\"}:\n",
    "            raise ValueError(f\"specify correct date component to extract, not {date_extract}\")\n",
    "        self.date_extract = date_extract\n",
    "    \n",
    "    def get_date_component(self, x):\n",
    "        if self.date_extract == \"month\":\n",
    "            return x.dt.month\n",
    "        elif self.date_extract == \"year\":\n",
    "            return x.dt.year\n",
    "        else:\n",
    "            raise NotImplementedError(f\"{self.date_extract} date component not implemented yet\")\n",
    "            \n",
    "    def fit(self, X, y=None):\n",
    "        self.cycle_max_ = self.get_date_component(X).max()\n",
    "        return self\n",
    "\n",
    "    def transform(self, X,  y=None):\n",
    "        cols = []\n",
    "        names = []\n",
    "        x = self.get_date_component(X)\n",
    "        xn = 2 * np.pi * x / self.cycle_max_\n",
    "        cols.append(np.cos(xn))\n",
    "        names.append(f\"{X.name}_cos\")\n",
    "        cols.append(np.sin(xn))\n",
    "        names.append(f\"{X.name}_sin\")\n",
    "        return pd.DataFrame(np.asarray(cols).T, columns=names)\n",
    "\n",
    "    \n",
    "ce = CyclicEncoder().fit_transform(data.reset_index()[\"datetime\"])\n",
    "ce.plot(x=\"datetime_cos\", y=\"datetime_sin\", kind=\"scatter\")"
   ]
  },
  {
   "cell_type": "code",
   "execution_count": 19,
   "metadata": {},
   "outputs": [],
   "source": [
    "#FEATURE EXTRACTION\n",
    "from sklearn.base import clone\n",
    "from sklearn.compose import ColumnTransformer\n",
    "from sklearn.pipeline import FeatureUnion, Pipeline\n",
    "from sklearn.preprocessing import OneHotEncoder\n",
    "\n",
    "extraction = Pipeline([\n",
    "    ('column_selection', ColumnTransformer([\n",
    "        ('time_components', FeatureUnion([\n",
    "            ('month', CyclicEncoder(date_extract='month')), \n",
    "            ('year', CyclicEncoder(date_extract='year')), \n",
    "        ]), 'datetime'),\n",
    "        ('ward_one_hot', OneHotEncoder(handle_unknown='ignore'), ['ward']),\n",
    "        ('yearbuilt_one_hot', OneHotEncoder(handle_unknown='ignore'), ['yearbuilt']),\n",
    "    ], remainder=\"passthrough\")),\n",
    "])\n",
    "\n",
    "def make_energy_pipeline(model, append_transformers=None, fe=extraction):\n",
    "    pipe = clone(fe)\n",
    "    \n",
    "    if append_transformers:\n",
    "        for step in append_transformers:\n",
    "            pipe.steps.append(step)\n",
    "    \n",
    "    pipe.steps.append([\"model\", clone(model)])\n",
    "    return pipe"
   ]
  },
  {
   "cell_type": "code",
   "execution_count": 20,
   "metadata": {},
   "outputs": [
    {
     "data": {
      "text/plain": [
       "0.602843617019038"
      ]
     },
     "execution_count": 20,
     "metadata": {},
     "output_type": "execute_result"
    }
   ],
   "source": [
    "#Test the Feature Extraction Pipeline\n",
    "from sklearn.linear_model import LinearRegression\n",
    "from sklearn.model_selection import train_test_split as tts\n",
    "\n",
    "X_train, X_test, y_train, y_test = tts(*make_sklearn_data(), test_size=0.2)\n",
    "\n",
    "model = make_energy_pipeline(LinearRegression())\n",
    "model.fit(X_train, y_train)\n",
    "model.score(X_test, y_test)"
   ]
  },
  {
   "cell_type": "code",
   "execution_count": 21,
   "metadata": {},
   "outputs": [],
   "source": [
    "#TIME SERIES CROSS VALIDATION\n",
    "from functools import partial\n",
    "from sklearn.metrics import make_scorer\n",
    "from sklearn.model_selection import cross_val_score\n",
    "from sklearn.model_selection import TimeSeriesSplit\n",
    "from sklearn.metrics import r2_score, mean_squared_error, mean_absolute_error\n",
    "\n",
    "rmse = partial(mean_squared_error, squared=False)\n",
    "\n",
    "\n",
    "def time_series_evaluate(model, X, y):\n",
    "    \"\"\"\n",
    "    Performs time series cross validation on the model, returning the\n",
    "    cross validated r2, mse, and mae of the regressor, along with the \n",
    "    final fitted model, fitted on all of the data.\n",
    "    \"\"\"\n",
    "    cv = TimeSeriesSplit(12)\n",
    "    scores = {}\n",
    "    \n",
    "    scores[\"r2\"] = cross_val_score(model, X, y, cv=cv, scoring=make_scorer(r2_score))\n",
    "    scores[\"mse\"] = cross_val_score(model, X, y, cv=cv, scoring=make_scorer(mean_squared_error))\n",
    "#     scores[\"rmse\"] = cross_val_score(model, X, y, cv=cv, scoring=make_scorer(rmse))\n",
    "    scores[\"mae\"] = cross_val_score(model, X, y, cv=cv, scoring=make_scorer(mean_absolute_error))\n",
    "    \n",
    "    model.fit(X, y)\n",
    "    return model, scores"
   ]
  },
  {
   "cell_type": "code",
   "execution_count": 22,
   "metadata": {},
   "outputs": [
    {
     "data": {
      "text/plain": [
       "(Pipeline(steps=[('column_selection',\n",
       "                  ColumnTransformer(remainder='passthrough',\n",
       "                                    transformers=[('time_components',\n",
       "                                                   FeatureUnion(transformer_list=[('month',\n",
       "                                                                                   CyclicEncoder()),\n",
       "                                                                                  ('year',\n",
       "                                                                                   CyclicEncoder(date_extract='year'))]),\n",
       "                                                   'datetime'),\n",
       "                                                  ('ward_one_hot',\n",
       "                                                   OneHotEncoder(handle_unknown='ignore'),\n",
       "                                                   ['ward']),\n",
       "                                                  ('yearbuilt_one_hot',\n",
       "                                                   OneHotEncoder(handle_unknown='ignore'),\n",
       "                                                   ['yearbuilt'])])),\n",
       "                 ['model', LinearRegression()]]),\n",
       " {'r2': array([  0.83760868, -11.44326663, -21.61663195,   0.6087057 ,\n",
       "           0.16573046, -18.5535506 ,  -1.6916335 ,  -0.17366143,\n",
       "          -8.26543018,   0.04452976,   0.5384805 ,   0.67294644]),\n",
       "  'mse': array([2.60462525e+10, 1.77963914e+12, 1.15940153e+11, 4.47276236e+10,\n",
       "         2.74692081e+10, 6.53265138e+10, 4.02645226e+10, 2.94944454e+10,\n",
       "         3.21367049e+10, 2.05099458e+10, 8.77465873e+10, 6.92726772e+10]),\n",
       "  'mae': array([140242.07382456, 871985.83589574, 286769.83832691, 149706.97200066,\n",
       "         138052.24811296, 203608.77248831, 151923.66869398, 133824.43059306,\n",
       "         155084.59521344, 124089.41989836, 185634.12256335, 211700.85774236])})"
      ]
     },
     "execution_count": 22,
     "metadata": {},
     "output_type": "execute_result"
    }
   ],
   "source": [
    "# LINEAR MODEL\n",
    "X, y = make_sklearn_data()\n",
    "lm = make_energy_pipeline(LinearRegression())\n",
    "time_series_evaluate(lm, X, y)"
   ]
  },
  {
   "cell_type": "code",
   "execution_count": 23,
   "metadata": {},
   "outputs": [
    {
     "data": {
      "text/plain": [
       "(Pipeline(steps=[('column_selection',\n",
       "                  ColumnTransformer(remainder='passthrough',\n",
       "                                    transformers=[('time_components',\n",
       "                                                   FeatureUnion(transformer_list=[('month',\n",
       "                                                                                   CyclicEncoder()),\n",
       "                                                                                  ('year',\n",
       "                                                                                   CyclicEncoder(date_extract='year'))]),\n",
       "                                                   'datetime'),\n",
       "                                                  ('ward_one_hot',\n",
       "                                                   OneHotEncoder(handle_unknown='ignore'),\n",
       "                                                   ['ward']),\n",
       "                                                  ('yearbuilt_one_hot',\n",
       "                                                   OneHotEncoder(handle_unknown='ignore'),\n",
       "                                                   ['yearbuilt'])])),\n",
       "                 ('quad', PolynomialFeatures()), ['model', SGDRegressor()]]),\n",
       " {'r2': array([-9.16023084e+47, -4.91563143e+47, -1.23306842e+50, -1.85508777e+50,\n",
       "         -3.34908301e+52, -2.00927026e+53, -2.40482581e+52, -2.40279080e+49,\n",
       "         -3.36834929e+50, -5.58035007e+48, -9.85822466e+48, -1.46812143e+50]),\n",
       "  'mse': array([4.75046261e+62, 4.80497733e+62, 9.23411001e+62, 3.65148038e+59,\n",
       "         3.04192584e+60, 1.76228278e+63, 3.66735763e+62, 2.45852419e+62,\n",
       "         2.75477650e+57, 4.06197481e+60, 7.27157376e+58, 5.65011629e+62]),\n",
       "  'mae': array([7.34617713e+28, 8.42481974e+30, 1.37090680e+30, 5.20710783e+29,\n",
       "         7.50984213e+29, 5.23828020e+30, 4.44691726e+27, 5.56593420e+30,\n",
       "         1.80586521e+29, 8.29720785e+30, 5.56287418e+30, 2.40056893e+29])})"
      ]
     },
     "execution_count": 23,
     "metadata": {},
     "output_type": "execute_result"
    }
   ],
   "source": [
    "#Second order polynomial regression\n",
    "from sklearn.linear_model import SGDRegressor\n",
    "from sklearn.preprocessing import PolynomialFeatures\n",
    "\n",
    "qm = make_energy_pipeline(SGDRegressor(), [('quad', PolynomialFeatures(2))])\n",
    "time_series_evaluate(qm, X, y)"
   ]
  },
  {
   "cell_type": "code",
   "execution_count": 24,
   "metadata": {},
   "outputs": [
    {
     "data": {
      "text/plain": [
       "(Pipeline(steps=[('column_selection',\n",
       "                  ColumnTransformer(remainder='passthrough',\n",
       "                                    transformers=[('time_components',\n",
       "                                                   FeatureUnion(transformer_list=[('month',\n",
       "                                                                                   CyclicEncoder()),\n",
       "                                                                                  ('year',\n",
       "                                                                                   CyclicEncoder(date_extract='year'))]),\n",
       "                                                   'datetime'),\n",
       "                                                  ('ward_one_hot',\n",
       "                                                   OneHotEncoder(handle_unknown='ignore'),\n",
       "                                                   ['ward']),\n",
       "                                                  ('yearbuilt_one_hot',\n",
       "                                                   OneHotEncoder(handle_unknown='ignore'),\n",
       "                                                   ['yearbuilt'])])),\n",
       "                 ['model', RandomForestRegressor(max_depth=3, n_estimators=10)]]),\n",
       " {'r2': array([  0.73522673,   0.46301071, -34.58570426,   0.79724407,\n",
       "           0.69204648,  -0.0439305 ,  -1.50405487,   0.27547695,\n",
       "           0.59348013,   0.65763182,   0.66928765,   0.65244917]),\n",
       "  'mse': array([2.98764634e+10, 5.95805549e+10, 1.87928388e+11, 3.71791148e+10,\n",
       "         6.92732516e+09, 6.13272467e+09, 1.71756828e+10, 1.48574781e+10,\n",
       "         1.10314598e+09, 6.32019508e+09, 5.33696671e+10, 9.04865880e+10]),\n",
       "  'mae': array([132963.20209731, 222298.89436953, 316521.39217884, 139996.08579872,\n",
       "          70319.32169472,  79178.36193765,  75878.29325876,  68475.49674941,\n",
       "          41533.46359037,  48794.56609421, 170976.77791706, 187773.83682047])})"
      ]
     },
     "execution_count": 24,
     "metadata": {},
     "output_type": "execute_result"
    }
   ],
   "source": [
    "from sklearn.ensemble import RandomForestRegressor\n",
    "\n",
    "rfm = make_energy_pipeline(RandomForestRegressor(n_estimators=10, max_depth=3))\n",
    "time_series_evaluate(rfm, X, y)"
   ]
  },
  {
   "cell_type": "code",
   "execution_count": 25,
   "metadata": {},
   "outputs": [
    {
     "name": "stdout",
     "output_type": "stream",
     "text": [
      "(Pipeline(steps=[('column_selection',\n",
      "                 ColumnTransformer(remainder='passthrough',\n",
      "                                   transformers=[('time_components',\n",
      "                                                  FeatureUnion(transformer_list=[('month',\n",
      "                                                                                  CyclicEncoder()),\n",
      "                                                                                 ('year',\n",
      "                                                                                  CyclicEncoder(date_extract='year'))]),\n",
      "                                                  'datetime'),\n",
      "                                                 ('ward_one_hot',\n",
      "                                                  OneHotEncoder(handle_unknown='ignore'),\n",
      "                                                  ['ward']),\n",
      "                                                 ('yearbuilt_one_hot',\n",
      "                                                  OneHotEncoder(handle_unknown='ignore'),\n",
      "                                                  ['yearbuilt'])])),\n",
      "                ['model',\n",
      "                 VotingRegressor(estimators=[('lr', LinearRegression()),\n",
      "                                             ('rf',\n",
      "                                              RandomForestRegressor(n_estimators=10,\n",
      "                                                                    random_state=1))])]]), {'r2': array([  0.95173108,  -1.41809578, -21.90673666,   0.78505517,\n",
      "         0.79494201,  -6.32727852,  -1.2589718 ,   0.37332514,\n",
      "        -1.45177921,   0.75352785,   0.67464466,   0.79163727]), 'mse': array([7.74194433e+09, 3.45836669e+11, 1.17427323e+11, 2.45696691e+10,\n",
      "       6.75175139e+09, 2.44797260e+10, 3.37922757e+10, 1.57485173e+10,\n",
      "       8.50387983e+09, 5.29072511e+09, 6.18583199e+10, 4.41329680e+10]), 'mae': array([ 78700.21396301, 385864.44387189, 246780.92503021, 110226.48622598,\n",
      "        70322.49832823, 121069.08874416, 129687.88987529,  79632.9471945 ,\n",
      "        79542.3454601 ,  63875.2263463 , 130452.53282237, 150304.6594481 ])})\n",
      "Time = 1.690 seconds\n"
     ]
    }
   ],
   "source": [
    "import time\n",
    "from sklearn.linear_model import LinearRegression\n",
    "from sklearn.ensemble import RandomForestRegressor\n",
    "from sklearn.ensemble import VotingRegressor\n",
    "\n",
    "start  = time.time()\n",
    "\n",
    "r1 = LinearRegression()\n",
    "r2 = RandomForestRegressor(n_estimators=10, random_state=1)\n",
    "\n",
    "X, y = make_sklearn_data()\n",
    "er = make_energy_pipeline(VotingRegressor([('lr', r1), ('rf', r2)]))\n",
    "print(time_series_evaluate(er, X, y))\n",
    "print(\"Time = {:0.3f} seconds\".format(time.time()-start))"
   ]
  },
  {
   "cell_type": "code",
   "execution_count": 27,
   "metadata": {},
   "outputs": [
    {
     "name": "stdout",
     "output_type": "stream",
     "text": [
      "Closed\n"
     ]
    }
   ],
   "source": [
    "conn.close()\n",
    "print('Closed')"
   ]
  }
 ],
 "metadata": {
  "kernelspec": {
   "display_name": "Python 3",
   "language": "python",
   "name": "python3"
  },
  "language_info": {
   "codemirror_mode": {
    "name": "ipython",
    "version": 3
   },
   "file_extension": ".py",
   "mimetype": "text/x-python",
   "name": "python",
   "nbconvert_exporter": "python",
   "pygments_lexer": "ipython3",
   "version": "3.7.4"
  }
 },
 "nbformat": 4,
 "nbformat_minor": 2
}
