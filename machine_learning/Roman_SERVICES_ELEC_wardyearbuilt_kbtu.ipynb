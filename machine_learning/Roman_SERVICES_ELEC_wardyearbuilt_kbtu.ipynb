{
 "cells": [
  {
   "cell_type": "code",
   "execution_count": 1,
   "metadata": {},
   "outputs": [],
   "source": [
    "import psycopg2\n",
    "import config as creds\n",
    "import sqlalchemy\n",
    "from sqlalchemy import create_engine\n",
    "import numpy as np\n",
    "from numpy.random import randn\n",
    "import pandas as pd\n",
    "from scipy import stats\n",
    "from datetime import datetime"
   ]
  },
  {
   "cell_type": "raw",
   "metadata": {},
   "source": [
    "ELECTRICITY for years 2018-2019, INDIVIDUAL BUILDING TYPES \n",
    "Foreign keys: One Hot encode categorical features YEARBUILT and WARD, exclude DCREALPROPERTYID  \n",
    "Numeric features: sqft, awnd, cldd, htdd, snow\n",
    "Target feature: kbtu\n",
    "VotingRegressor - \"Services\""
   ]
  },
  {
   "cell_type": "markdown",
   "metadata": {},
   "source": [
    "CONNECT TO DATABASE:"
   ]
  },
  {
   "cell_type": "code",
   "execution_count": 2,
   "metadata": {},
   "outputs": [
    {
     "name": "stdout",
     "output_type": "stream",
     "text": [
      "Connected\n",
      "Cursor created\n"
     ]
    }
   ],
   "source": [
    "user=creds.PGUSER\n",
    "password=creds.PGPASSWORD\n",
    "host=creds.PGHOST\n",
    "port=5432\n",
    "database=creds.PGDATABASE\n",
    "\n",
    "engine_str=f\"postgresql+psycopg2://{user}:{password}@{host}:{port}/{database}\"\n",
    "engine = create_engine(engine_str)\n",
    "conn = engine.raw_connection()\n",
    "print('Connected')\n",
    "cur = conn.cursor()\n",
    "print('Cursor created')"
   ]
  },
  {
   "cell_type": "markdown",
   "metadata": {},
   "source": [
    "EXTRACT DATASET:"
   ]
  },
  {
   "cell_type": "code",
   "execution_count": 3,
   "metadata": {},
   "outputs": [
    {
     "data": {
      "text/html": [
       "<div>\n",
       "<style scoped>\n",
       "    .dataframe tbody tr th:only-of-type {\n",
       "        vertical-align: middle;\n",
       "    }\n",
       "\n",
       "    .dataframe tbody tr th {\n",
       "        vertical-align: top;\n",
       "    }\n",
       "\n",
       "    .dataframe thead th {\n",
       "        text-align: right;\n",
       "    }\n",
       "</style>\n",
       "<table border=\"1\" class=\"dataframe\">\n",
       "  <thead>\n",
       "    <tr style=\"text-align: right;\">\n",
       "      <th></th>\n",
       "      <th>kbtu</th>\n",
       "      <th>reportedbuildinggrossfloorarea</th>\n",
       "      <th>dcrealpropertyid</th>\n",
       "      <th>ward</th>\n",
       "      <th>yearbuilt</th>\n",
       "      <th>primarypropertytype_selfselect</th>\n",
       "      <th>elegas</th>\n",
       "      <th>awnd</th>\n",
       "      <th>cldd</th>\n",
       "      <th>htdd</th>\n",
       "      <th>snow</th>\n",
       "      <th>tavg</th>\n",
       "      <th>wdf2</th>\n",
       "      <th>wdf5</th>\n",
       "      <th>wsf2</th>\n",
       "      <th>wsf5</th>\n",
       "      <th>date</th>\n",
       "    </tr>\n",
       "  </thead>\n",
       "  <tbody>\n",
       "    <tr>\n",
       "      <th>0</th>\n",
       "      <td>415988.4</td>\n",
       "      <td>107738.0</td>\n",
       "      <td>4092_0809</td>\n",
       "      <td>5</td>\n",
       "      <td>1950</td>\n",
       "      <td>16</td>\n",
       "      <td>E</td>\n",
       "      <td>9.6</td>\n",
       "      <td>0.0</td>\n",
       "      <td>860.0</td>\n",
       "      <td>11.5</td>\n",
       "      <td>37.2</td>\n",
       "      <td>320.0</td>\n",
       "      <td>310.0</td>\n",
       "      <td>36.0</td>\n",
       "      <td>46.0</td>\n",
       "      <td>2019-01</td>\n",
       "    </tr>\n",
       "    <tr>\n",
       "      <th>1</th>\n",
       "      <td>1536667.5</td>\n",
       "      <td>343250.0</td>\n",
       "      <td>4350_0006</td>\n",
       "      <td>5</td>\n",
       "      <td>1962</td>\n",
       "      <td>16</td>\n",
       "      <td>E</td>\n",
       "      <td>9.8</td>\n",
       "      <td>0.0</td>\n",
       "      <td>906.0</td>\n",
       "      <td>1.2</td>\n",
       "      <td>35.8</td>\n",
       "      <td>300.0</td>\n",
       "      <td>310.0</td>\n",
       "      <td>36.0</td>\n",
       "      <td>49.0</td>\n",
       "      <td>2018-01</td>\n",
       "    </tr>\n",
       "    <tr>\n",
       "      <th>2</th>\n",
       "      <td>1470445.6</td>\n",
       "      <td>343250.0</td>\n",
       "      <td>4350_0006</td>\n",
       "      <td>5</td>\n",
       "      <td>1962</td>\n",
       "      <td>16</td>\n",
       "      <td>E</td>\n",
       "      <td>9.6</td>\n",
       "      <td>0.0</td>\n",
       "      <td>860.0</td>\n",
       "      <td>11.5</td>\n",
       "      <td>37.2</td>\n",
       "      <td>320.0</td>\n",
       "      <td>310.0</td>\n",
       "      <td>36.0</td>\n",
       "      <td>46.0</td>\n",
       "      <td>2019-01</td>\n",
       "    </tr>\n",
       "    <tr>\n",
       "      <th>3</th>\n",
       "      <td>226963.2</td>\n",
       "      <td>53300.0</td>\n",
       "      <td>4092_0005</td>\n",
       "      <td>5</td>\n",
       "      <td>1950</td>\n",
       "      <td>16</td>\n",
       "      <td>E</td>\n",
       "      <td>9.6</td>\n",
       "      <td>0.0</td>\n",
       "      <td>860.0</td>\n",
       "      <td>11.5</td>\n",
       "      <td>37.2</td>\n",
       "      <td>320.0</td>\n",
       "      <td>310.0</td>\n",
       "      <td>36.0</td>\n",
       "      <td>46.0</td>\n",
       "      <td>2019-01</td>\n",
       "    </tr>\n",
       "    <tr>\n",
       "      <th>4</th>\n",
       "      <td>1344307.4</td>\n",
       "      <td>343250.0</td>\n",
       "      <td>4350_0006</td>\n",
       "      <td>5</td>\n",
       "      <td>1962</td>\n",
       "      <td>16</td>\n",
       "      <td>E</td>\n",
       "      <td>8.7</td>\n",
       "      <td>4.0</td>\n",
       "      <td>554.0</td>\n",
       "      <td>0.2</td>\n",
       "      <td>45.3</td>\n",
       "      <td>290.0</td>\n",
       "      <td>290.0</td>\n",
       "      <td>30.0</td>\n",
       "      <td>39.0</td>\n",
       "      <td>2018-02</td>\n",
       "    </tr>\n",
       "  </tbody>\n",
       "</table>\n",
       "</div>"
      ],
      "text/plain": [
       "        kbtu  reportedbuildinggrossfloorarea dcrealpropertyid  ward  \\\n",
       "0   415988.4                        107738.0        4092_0809     5   \n",
       "1  1536667.5                        343250.0        4350_0006     5   \n",
       "2  1470445.6                        343250.0        4350_0006     5   \n",
       "3   226963.2                         53300.0        4092_0005     5   \n",
       "4  1344307.4                        343250.0        4350_0006     5   \n",
       "\n",
       "   yearbuilt primarypropertytype_selfselect elegas  awnd  cldd   htdd  snow  \\\n",
       "0       1950                             16      E   9.6   0.0  860.0  11.5   \n",
       "1       1962                             16      E   9.8   0.0  906.0   1.2   \n",
       "2       1962                             16      E   9.6   0.0  860.0  11.5   \n",
       "3       1950                             16      E   9.6   0.0  860.0  11.5   \n",
       "4       1962                             16      E   8.7   4.0  554.0   0.2   \n",
       "\n",
       "   tavg   wdf2   wdf5  wsf2  wsf5     date  \n",
       "0  37.2  320.0  310.0  36.0  46.0  2019-01  \n",
       "1  35.8  300.0  310.0  36.0  49.0  2018-01  \n",
       "2  37.2  320.0  310.0  36.0  46.0  2019-01  \n",
       "3  37.2  320.0  310.0  36.0  46.0  2019-01  \n",
       "4  45.3  290.0  290.0  30.0  39.0  2018-02  "
      ]
     },
     "execution_count": 3,
     "metadata": {},
     "output_type": "execute_result"
    }
   ],
   "source": [
    "query='''\n",
    "SELECT b.kbtu\n",
    "      ,b.REPORTEDBUILDINGGROSSFLOORAREA\n",
    "      ,b.dcrealpropertyid\n",
    "      ,b.ward\n",
    "      ,b.yearbuilt\n",
    "      ,b.primarypropertytype_selfselect\n",
    "      ,b.elegas\n",
    "      ,n.awnd\n",
    "      ,n.cldd\n",
    "      ,n.htdd\n",
    "      ,n.snow\n",
    "      ,n.tavg\n",
    "      ,n.wdf2\n",
    "      ,n.wdf5\n",
    "      ,n.wsf2\n",
    "      ,n.wsf5\n",
    "      ,n.date \n",
    "FROM buildings_data b\n",
    "LEFT OUTER join noaa_data n\n",
    "ON b.REPORTINGYEAR = n.WEATHERYEAR\n",
    "WHERE b.MONTH = n.MONTH\n",
    "AND b.ELEGAS = 'E'\n",
    "AND b.PRIMARYPROPERTYTYPE_SELFSELECT = '16'\n",
    "AND b.REPORTINGYEAR BETWEEN 2018 AND 2019\n",
    "AND b.YEARBUILT > 0\n",
    "AND b.REPORTEDBUILDINGGROSSFLOORAREA > 50000;\n",
    "'''\n",
    "\n",
    "data=pd.read_sql(query,conn)\n",
    "data.head()"
   ]
  },
  {
   "cell_type": "code",
   "execution_count": 4,
   "metadata": {},
   "outputs": [
    {
     "data": {
      "text/plain": [
       "False"
      ]
     },
     "execution_count": 4,
     "metadata": {},
     "output_type": "execute_result"
    }
   ],
   "source": [
    "data.isnull().values.any()"
   ]
  },
  {
   "cell_type": "markdown",
   "metadata": {},
   "source": [
    "FORMAT COLUMNS:"
   ]
  },
  {
   "cell_type": "code",
   "execution_count": 5,
   "metadata": {},
   "outputs": [],
   "source": [
    "#CONVERT 'Date' COLUMN TO datetime format\n",
    "\n",
    "#data[\"reportingyear\"] = data[\"reportingyear\"].astype(str)\n",
    "#data['month']=data['month'].apply(lambda x: '{0:0>2}'.format(x))\n",
    "#data['date_time'] = data[['reportingyear', 'month']].agg('-'.join, axis=1)\n",
    "#data['date_time'] = (data.date_time + \"-01\")\n",
    "#data['date_time'] = datetime.strptime('date_time', \"%Y-%m-%d\")\n",
    "data['datetime']=pd.to_datetime(data['date'])"
   ]
  },
  {
   "cell_type": "code",
   "execution_count": 6,
   "metadata": {},
   "outputs": [
    {
     "data": {
      "text/plain": [
       "dtype('O')"
      ]
     },
     "execution_count": 6,
     "metadata": {},
     "output_type": "execute_result"
    }
   ],
   "source": [
    "data['primarypropertytype_selfselect'].dtype"
   ]
  },
  {
   "cell_type": "code",
   "execution_count": 7,
   "metadata": {},
   "outputs": [],
   "source": [
    "data['primarypropertytype_selfselect']=data['primarypropertytype_selfselect'].astype('int32')"
   ]
  },
  {
   "cell_type": "code",
   "execution_count": 8,
   "metadata": {},
   "outputs": [
    {
     "data": {
      "text/html": [
       "<div>\n",
       "<style scoped>\n",
       "    .dataframe tbody tr th:only-of-type {\n",
       "        vertical-align: middle;\n",
       "    }\n",
       "\n",
       "    .dataframe tbody tr th {\n",
       "        vertical-align: top;\n",
       "    }\n",
       "\n",
       "    .dataframe thead th {\n",
       "        text-align: right;\n",
       "    }\n",
       "</style>\n",
       "<table border=\"1\" class=\"dataframe\">\n",
       "  <thead>\n",
       "    <tr style=\"text-align: right;\">\n",
       "      <th></th>\n",
       "      <th>kbtu</th>\n",
       "      <th>reportedbuildinggrossfloorarea</th>\n",
       "      <th>dcrealpropertyid</th>\n",
       "      <th>ward</th>\n",
       "      <th>yearbuilt</th>\n",
       "      <th>primarypropertytype_selfselect</th>\n",
       "      <th>elegas</th>\n",
       "      <th>awnd</th>\n",
       "      <th>cldd</th>\n",
       "      <th>htdd</th>\n",
       "      <th>snow</th>\n",
       "      <th>tavg</th>\n",
       "      <th>wdf2</th>\n",
       "      <th>wdf5</th>\n",
       "      <th>wsf2</th>\n",
       "      <th>wsf5</th>\n",
       "      <th>date</th>\n",
       "    </tr>\n",
       "    <tr>\n",
       "      <th>datetime</th>\n",
       "      <th></th>\n",
       "      <th></th>\n",
       "      <th></th>\n",
       "      <th></th>\n",
       "      <th></th>\n",
       "      <th></th>\n",
       "      <th></th>\n",
       "      <th></th>\n",
       "      <th></th>\n",
       "      <th></th>\n",
       "      <th></th>\n",
       "      <th></th>\n",
       "      <th></th>\n",
       "      <th></th>\n",
       "      <th></th>\n",
       "      <th></th>\n",
       "      <th></th>\n",
       "    </tr>\n",
       "  </thead>\n",
       "  <tbody>\n",
       "    <tr>\n",
       "      <th>2019-01-01</th>\n",
       "      <td>415988.4</td>\n",
       "      <td>107738.0</td>\n",
       "      <td>4092_0809</td>\n",
       "      <td>5</td>\n",
       "      <td>1950</td>\n",
       "      <td>16</td>\n",
       "      <td>E</td>\n",
       "      <td>9.6</td>\n",
       "      <td>0.0</td>\n",
       "      <td>860.0</td>\n",
       "      <td>11.5</td>\n",
       "      <td>37.2</td>\n",
       "      <td>320.0</td>\n",
       "      <td>310.0</td>\n",
       "      <td>36.0</td>\n",
       "      <td>46.0</td>\n",
       "      <td>2019-01</td>\n",
       "    </tr>\n",
       "    <tr>\n",
       "      <th>2018-01-01</th>\n",
       "      <td>1536667.5</td>\n",
       "      <td>343250.0</td>\n",
       "      <td>4350_0006</td>\n",
       "      <td>5</td>\n",
       "      <td>1962</td>\n",
       "      <td>16</td>\n",
       "      <td>E</td>\n",
       "      <td>9.8</td>\n",
       "      <td>0.0</td>\n",
       "      <td>906.0</td>\n",
       "      <td>1.2</td>\n",
       "      <td>35.8</td>\n",
       "      <td>300.0</td>\n",
       "      <td>310.0</td>\n",
       "      <td>36.0</td>\n",
       "      <td>49.0</td>\n",
       "      <td>2018-01</td>\n",
       "    </tr>\n",
       "    <tr>\n",
       "      <th>2019-01-01</th>\n",
       "      <td>1470445.6</td>\n",
       "      <td>343250.0</td>\n",
       "      <td>4350_0006</td>\n",
       "      <td>5</td>\n",
       "      <td>1962</td>\n",
       "      <td>16</td>\n",
       "      <td>E</td>\n",
       "      <td>9.6</td>\n",
       "      <td>0.0</td>\n",
       "      <td>860.0</td>\n",
       "      <td>11.5</td>\n",
       "      <td>37.2</td>\n",
       "      <td>320.0</td>\n",
       "      <td>310.0</td>\n",
       "      <td>36.0</td>\n",
       "      <td>46.0</td>\n",
       "      <td>2019-01</td>\n",
       "    </tr>\n",
       "    <tr>\n",
       "      <th>2019-01-01</th>\n",
       "      <td>226963.2</td>\n",
       "      <td>53300.0</td>\n",
       "      <td>4092_0005</td>\n",
       "      <td>5</td>\n",
       "      <td>1950</td>\n",
       "      <td>16</td>\n",
       "      <td>E</td>\n",
       "      <td>9.6</td>\n",
       "      <td>0.0</td>\n",
       "      <td>860.0</td>\n",
       "      <td>11.5</td>\n",
       "      <td>37.2</td>\n",
       "      <td>320.0</td>\n",
       "      <td>310.0</td>\n",
       "      <td>36.0</td>\n",
       "      <td>46.0</td>\n",
       "      <td>2019-01</td>\n",
       "    </tr>\n",
       "    <tr>\n",
       "      <th>2018-02-01</th>\n",
       "      <td>1344307.4</td>\n",
       "      <td>343250.0</td>\n",
       "      <td>4350_0006</td>\n",
       "      <td>5</td>\n",
       "      <td>1962</td>\n",
       "      <td>16</td>\n",
       "      <td>E</td>\n",
       "      <td>8.7</td>\n",
       "      <td>4.0</td>\n",
       "      <td>554.0</td>\n",
       "      <td>0.2</td>\n",
       "      <td>45.3</td>\n",
       "      <td>290.0</td>\n",
       "      <td>290.0</td>\n",
       "      <td>30.0</td>\n",
       "      <td>39.0</td>\n",
       "      <td>2018-02</td>\n",
       "    </tr>\n",
       "  </tbody>\n",
       "</table>\n",
       "</div>"
      ],
      "text/plain": [
       "                 kbtu  reportedbuildinggrossfloorarea dcrealpropertyid  ward  \\\n",
       "datetime                                                                       \n",
       "2019-01-01   415988.4                        107738.0        4092_0809     5   \n",
       "2018-01-01  1536667.5                        343250.0        4350_0006     5   \n",
       "2019-01-01  1470445.6                        343250.0        4350_0006     5   \n",
       "2019-01-01   226963.2                         53300.0        4092_0005     5   \n",
       "2018-02-01  1344307.4                        343250.0        4350_0006     5   \n",
       "\n",
       "            yearbuilt  primarypropertytype_selfselect elegas  awnd  cldd  \\\n",
       "datetime                                                                   \n",
       "2019-01-01       1950                              16      E   9.6   0.0   \n",
       "2018-01-01       1962                              16      E   9.8   0.0   \n",
       "2019-01-01       1962                              16      E   9.6   0.0   \n",
       "2019-01-01       1950                              16      E   9.6   0.0   \n",
       "2018-02-01       1962                              16      E   8.7   4.0   \n",
       "\n",
       "             htdd  snow  tavg   wdf2   wdf5  wsf2  wsf5     date  \n",
       "datetime                                                          \n",
       "2019-01-01  860.0  11.5  37.2  320.0  310.0  36.0  46.0  2019-01  \n",
       "2018-01-01  906.0   1.2  35.8  300.0  310.0  36.0  49.0  2018-01  \n",
       "2019-01-01  860.0  11.5  37.2  320.0  310.0  36.0  46.0  2019-01  \n",
       "2019-01-01  860.0  11.5  37.2  320.0  310.0  36.0  46.0  2019-01  \n",
       "2018-02-01  554.0   0.2  45.3  290.0  290.0  30.0  39.0  2018-02  "
      ]
     },
     "execution_count": 8,
     "metadata": {},
     "output_type": "execute_result"
    }
   ],
   "source": [
    "data.set_index('datetime', inplace=True)\n",
    "data.head()"
   ]
  },
  {
   "cell_type": "code",
   "execution_count": 9,
   "metadata": {},
   "outputs": [
    {
     "data": {
      "text/plain": [
       "Index(['kbtu', 'reportedbuildinggrossfloorarea', 'dcrealpropertyid', 'ward',\n",
       "       'yearbuilt', 'primarypropertytype_selfselect', 'elegas', 'awnd', 'cldd',\n",
       "       'htdd', 'snow', 'tavg', 'wdf2', 'wdf5', 'wsf2', 'wsf5', 'date'],\n",
       "      dtype='object')"
      ]
     },
     "execution_count": 9,
     "metadata": {},
     "output_type": "execute_result"
    }
   ],
   "source": [
    "data.columns"
   ]
  },
  {
   "cell_type": "code",
   "execution_count": 10,
   "metadata": {},
   "outputs": [
    {
     "data": {
      "text/plain": [
       "kbtu                              float64\n",
       "reportedbuildinggrossfloorarea    float64\n",
       "dcrealpropertyid                   object\n",
       "ward                                int64\n",
       "yearbuilt                           int64\n",
       "primarypropertytype_selfselect      int32\n",
       "elegas                             object\n",
       "awnd                              float64\n",
       "cldd                              float64\n",
       "htdd                              float64\n",
       "snow                              float64\n",
       "tavg                              float64\n",
       "wdf2                              float64\n",
       "wdf5                              float64\n",
       "wsf2                              float64\n",
       "wsf5                              float64\n",
       "date                               object\n",
       "dtype: object"
      ]
     },
     "execution_count": 10,
     "metadata": {},
     "output_type": "execute_result"
    }
   ],
   "source": [
    "data.dtypes"
   ]
  },
  {
   "cell_type": "code",
   "execution_count": 11,
   "metadata": {},
   "outputs": [
    {
     "data": {
      "text/plain": [
       "<AxesSubplot:>"
      ]
     },
     "execution_count": 11,
     "metadata": {},
     "output_type": "execute_result"
    },
    {
     "data": {
      "image/png": "[encoded data removed]",
      "text/plain": [
       "<Figure size 1800x1080 with 2 Axes>"
      ]
     },
     "metadata": {
      "needs_background": "light"
     },
     "output_type": "display_data"
    }
   ],
   "source": [
    "import matplotlib.pyplot as plt\n",
    "import seaborn as sns\n",
    "plt.figure(figsize=(25,15))\n",
    "ftr = list([\"kbtu\", \"reportedbuildinggrossfloorarea\", \"ward\", \"yearbuilt\", \"awnd\", \"cldd\", \"htdd\", \"snow\"])\n",
    "corrMatrix = data[ftr].corr()\n",
    "sns.heatmap(corrMatrix, annot=True, fmt='.1f', linewidths=.5)"
   ]
  },
  {
   "cell_type": "markdown",
   "metadata": {},
   "source": [
    "DEFINE FEATURES:"
   ]
  },
  {
   "cell_type": "code",
   "execution_count": 12,
   "metadata": {},
   "outputs": [],
   "source": [
    "TARGET = \"kbtu\"\n",
    "COLS = ['reportedbuildinggrossfloorarea', 'ward', 'yearbuilt', 'awnd', 'cldd', 'htdd', 'snow', 'datetime']\n",
    "\n",
    "def make_sklearn_data(df=data, target=TARGET, cols=COLS):\n",
    "    df = df.reset_index()\n",
    "    X, y = df[cols], df[target]\n",
    "    return X, y"
   ]
  },
  {
   "cell_type": "code",
   "execution_count": 13,
   "metadata": {},
   "outputs": [],
   "source": [
    "features = ['reportedbuildinggrossfloorarea', 'ward', 'yearbuilt', 'awnd', 'cldd', 'htdd', 'snow']\n",
    "X, y = make_sklearn_data(cols=features)"
   ]
  },
  {
   "cell_type": "code",
   "execution_count": 14,
   "metadata": {},
   "outputs": [
    {
     "name": "stderr",
     "output_type": "stream",
     "text": [
      "C:\\Users\\rv14996\\Anaconda3\\lib\\site-packages\\numpy\\lib\\function_base.py:2559: RuntimeWarning: invalid value encountered in true_divide\n",
      "  c /= stddev[:, None]\n",
      "C:\\Users\\rv14996\\Anaconda3\\lib\\site-packages\\numpy\\lib\\function_base.py:2560: RuntimeWarning: invalid value encountered in true_divide\n",
      "  c /= stddev[None, :]\n"
     ]
    },
    {
     "data": {
      "image/png": "[encoded data removed]",
      "text/plain": [
       "<Figure size 1080x720 with 2 Axes>"
      ]
     },
     "metadata": {},
     "output_type": "display_data"
    },
    {
     "data": {
      "text/plain": [
       "<AxesSubplot:title={'center':'Pearson Ranking of 7 Features'}>"
      ]
     },
     "execution_count": 14,
     "metadata": {},
     "output_type": "execute_result"
    }
   ],
   "source": [
    "#Rank2D\n",
    "from yellowbrick.features import Rank2D\n",
    "\n",
    "# Instantiate the visualizer with the Pearson ranking algorithm\n",
    "visualizer = Rank2D(algorithm='pearson', features=features, size=(1080, 720))\n",
    "\n",
    "visualizer.fit(X, y)\n",
    "visualizer.transform(X)\n",
    "visualizer.show()"
   ]
  },
  {
   "cell_type": "code",
   "execution_count": 15,
   "metadata": {},
   "outputs": [
    {
     "data": {
      "image/png": "[encoded data removed]",
      "text/plain": [
       "<Figure size 1080x720 with 2 Axes>"
      ]
     },
     "metadata": {},
     "output_type": "display_data"
    },
    {
     "data": {
      "text/plain": [
       "<AxesSubplot:title={'center':'Covariance Ranking of 7 Features'}>"
      ]
     },
     "execution_count": 15,
     "metadata": {},
     "output_type": "execute_result"
    }
   ],
   "source": [
    "# Instantiate the visualizer with the Covariance algorithm\n",
    "visualizer = Rank2D(algorithm='covariance', features=features, size=(1080, 720))\n",
    "\n",
    "visualizer.fit(X, y)\n",
    "visualizer.transform(X)\n",
    "visualizer.show()"
   ]
  },
  {
   "cell_type": "code",
   "execution_count": 16,
   "metadata": {},
   "outputs": [
    {
     "name": "stderr",
     "output_type": "stream",
     "text": [
      "C:\\Users\\rv14996\\Anaconda3\\lib\\site-packages\\sklearn\\base.py:213: FutureWarning: From version 0.24, get_params will raise an AttributeError if a parameter cannot be retrieved as an instance attribute. Previously it would return None.\n",
      "  FutureWarning)\n"
     ]
    },
    {
     "data": {
      "image/png": "[encoded data removed]",
      "text/plain": [
       "<Figure size 1080x720 with 1 Axes>"
      ]
     },
     "metadata": {},
     "output_type": "display_data"
    },
    {
     "data": {
      "text/plain": [
       "<AxesSubplot:title={'center':'Feature Importances of 7 Features using RandomForestRegressor'}, xlabel='relative importance'>"
      ]
     },
     "execution_count": 16,
     "metadata": {},
     "output_type": "execute_result"
    }
   ],
   "source": [
    "#Feature Importances\n",
    "import yellowbrick as yb\n",
    "from sklearn.ensemble import RandomForestRegressor\n",
    "from yellowbrick.features import RadViz\n",
    "from yellowbrick.features import FeatureImportances\n",
    "\n",
    "\n",
    "model = RandomForestRegressor(n_estimators=10)\n",
    "viz = FeatureImportances(model, labels=features, size=(1080, 720))\n",
    "\n",
    "viz.fit(X, y)\n",
    "viz.show()"
   ]
  },
  {
   "cell_type": "code",
   "execution_count": 17,
   "metadata": {},
   "outputs": [
    {
     "name": "stderr",
     "output_type": "stream",
     "text": [
      "C:\\Users\\rv14996\\Anaconda3\\lib\\site-packages\\sklearn\\base.py:213: FutureWarning: From version 0.24, get_params will raise an AttributeError if a parameter cannot be retrieved as an instance attribute. Previously it would return None.\n",
      "  FutureWarning)\n",
      "C:\\Users\\rv14996\\Anaconda3\\lib\\site-packages\\sklearn\\linear_model\\_coordinate_descent.py:531: ConvergenceWarning: Objective did not converge. You might want to increase the number of iterations. Duality gap: 6328782533.108765, tolerance: 1275306038.4868817\n",
      "  positive)\n"
     ]
    },
    {
     "data": {
      "image/png": "[encoded data removed]",
      "text/plain": [
       "<Figure size 1080x720 with 1 Axes>"
      ]
     },
     "metadata": {},
     "output_type": "display_data"
    },
    {
     "data": {
      "text/plain": [
       "<AxesSubplot:title={'center':'Feature Importances of 7 Features using Lasso'}, xlabel='relative coefficient magnitude'>"
      ]
     },
     "execution_count": 17,
     "metadata": {},
     "output_type": "execute_result"
    }
   ],
   "source": [
    "#Feature Importances\n",
    "import yellowbrick as yb\n",
    "from sklearn.linear_model import Lasso\n",
    "from yellowbrick.features import RadViz\n",
    "from yellowbrick.features import FeatureImportances\n",
    "\n",
    "\n",
    "model = Lasso()\n",
    "viz = FeatureImportances(model, labels=features, size=(1080, 720))\n",
    "\n",
    "viz.fit(X, y)\n",
    "viz.show()"
   ]
  },
  {
   "cell_type": "code",
   "execution_count": 18,
   "metadata": {},
   "outputs": [
    {
     "name": "stderr",
     "output_type": "stream",
     "text": [
      "*c* argument looks like a single numeric RGB or RGBA sequence, which should be avoided as value-mapping will have precedence in case its length matches with *x* & *y*.  Please use the *color* keyword-argument or provide a 2-D array with a single row if you intend to specify the same RGB or RGBA value for all points.\n"
     ]
    },
    {
     "data": {
      "text/plain": [
       "<AxesSubplot:xlabel='datetime_cos', ylabel='datetime_sin'>"
      ]
     },
     "execution_count": 18,
     "metadata": {},
     "output_type": "execute_result"
    },
    {
     "data": {
      "image/png": "[encoded data removed]",
      "text/plain": [
       "<Figure size 576x396 with 1 Axes>"
      ]
     },
     "metadata": {},
     "output_type": "display_data"
    }
   ],
   "source": [
    "#CYCLIC ENCODER:  to capture temporal cycles (yearly).\n",
    "from sklearn.base import BaseEstimator, TransformerMixin\n",
    "\n",
    "\n",
    "class CyclicEncoder(BaseEstimator, TransformerMixin):\n",
    "    \n",
    "    def __init__(self, date_extract=\"month\"):\n",
    "        if date_extract not in {\"minute\", \"hour\", \"week\", \"month\", \"year\"}:\n",
    "            raise ValueError(f\"specify correct date component to extract, not {date_extract}\")\n",
    "        self.date_extract = date_extract\n",
    "    \n",
    "    def get_date_component(self, x):\n",
    "        if self.date_extract == \"month\":\n",
    "            return x.dt.month\n",
    "        elif self.date_extract == \"year\":\n",
    "            return x.dt.year\n",
    "        else:\n",
    "            raise NotImplementedError(f\"{self.date_extract} date component not implemented yet\")\n",
    "            \n",
    "    def fit(self, X, y=None):\n",
    "        self.cycle_max_ = self.get_date_component(X).max()\n",
    "        return self\n",
    "\n",
    "    def transform(self, X,  y=None):\n",
    "        cols = []\n",
    "        names = []\n",
    "        x = self.get_date_component(X)\n",
    "        xn = 2 * np.pi * x / self.cycle_max_\n",
    "        cols.append(np.cos(xn))\n",
    "        names.append(f\"{X.name}_cos\")\n",
    "        cols.append(np.sin(xn))\n",
    "        names.append(f\"{X.name}_sin\")\n",
    "        return pd.DataFrame(np.asarray(cols).T, columns=names)\n",
    "\n",
    "    \n",
    "ce = CyclicEncoder().fit_transform(data.reset_index()[\"datetime\"])\n",
    "ce.plot(x=\"datetime_cos\", y=\"datetime_sin\", kind=\"scatter\")"
   ]
  },
  {
   "cell_type": "code",
   "execution_count": 19,
   "metadata": {},
   "outputs": [],
   "source": [
    "#FEATURE EXTRACTION\n",
    "from sklearn.base import clone\n",
    "from sklearn.compose import ColumnTransformer\n",
    "from sklearn.pipeline import FeatureUnion, Pipeline\n",
    "from sklearn.preprocessing import OneHotEncoder\n",
    "\n",
    "extraction = Pipeline([\n",
    "    ('column_selection', ColumnTransformer([\n",
    "        ('time_components', FeatureUnion([\n",
    "            ('month', CyclicEncoder(date_extract='month')), \n",
    "            ('year', CyclicEncoder(date_extract='year')), \n",
    "        ]), 'datetime'),\n",
    "        ('ward_one_hot', OneHotEncoder(handle_unknown='ignore'), ['ward']),\n",
    "        ('yearbuilt_one_hot', OneHotEncoder(handle_unknown='ignore'), ['yearbuilt']),\n",
    "    ], remainder=\"passthrough\")),\n",
    "])\n",
    "\n",
    "def make_energy_pipeline(model, append_transformers=None, fe=extraction):\n",
    "    pipe = clone(fe)\n",
    "    \n",
    "    if append_transformers:\n",
    "        for step in append_transformers:\n",
    "            pipe.steps.append(step)\n",
    "    \n",
    "    pipe.steps.append([\"model\", clone(model)])\n",
    "    return pipe"
   ]
  },
  {
   "cell_type": "code",
   "execution_count": 21,
   "metadata": {},
   "outputs": [
    {
     "data": {
      "text/plain": [
       "0.9245164055428835"
      ]
     },
     "execution_count": 21,
     "metadata": {},
     "output_type": "execute_result"
    }
   ],
   "source": [
    "#Test the Feature Extraction Pipeline\n",
    "from sklearn.linear_model import LinearRegression\n",
    "from sklearn.model_selection import train_test_split as tts\n",
    "\n",
    "X_train, X_test, y_train, y_test = tts(*make_sklearn_data(), test_size=0.2)\n",
    "\n",
    "model = make_energy_pipeline(LinearRegression())\n",
    "model.fit(X_train, y_train)\n",
    "model.score(X_test, y_test)"
   ]
  },
  {
   "cell_type": "code",
   "execution_count": 22,
   "metadata": {},
   "outputs": [],
   "source": [
    "#TIME SERIES CROSS VALIDATION\n",
    "from functools import partial\n",
    "from sklearn.metrics import make_scorer\n",
    "from sklearn.model_selection import cross_val_score\n",
    "from sklearn.model_selection import TimeSeriesSplit\n",
    "from sklearn.metrics import r2_score, mean_squared_error, mean_absolute_error\n",
    "\n",
    "rmse = partial(mean_squared_error, squared=False)\n",
    "\n",
    "\n",
    "def time_series_evaluate(model, X, y):\n",
    "    \"\"\"\n",
    "    Performs time series cross validation on the model, returning the\n",
    "    cross validated r2, mse, and mae of the regressor, along with the \n",
    "    final fitted model, fitted on all of the data.\n",
    "    \"\"\"\n",
    "    cv = TimeSeriesSplit(12)\n",
    "    scores = {}\n",
    "    \n",
    "    scores[\"r2\"] = cross_val_score(model, X, y, cv=cv, scoring=make_scorer(r2_score))\n",
    "    scores[\"mse\"] = cross_val_score(model, X, y, cv=cv, scoring=make_scorer(mean_squared_error))\n",
    "#     scores[\"rmse\"] = cross_val_score(model, X, y, cv=cv, scoring=make_scorer(rmse))\n",
    "    scores[\"mae\"] = cross_val_score(model, X, y, cv=cv, scoring=make_scorer(mean_absolute_error))\n",
    "    \n",
    "    model.fit(X, y)\n",
    "    return model, scores"
   ]
  },
  {
   "cell_type": "code",
   "execution_count": 23,
   "metadata": {},
   "outputs": [
    {
     "data": {
      "text/plain": [
       "(Pipeline(steps=[('column_selection',\n",
       "                  ColumnTransformer(remainder='passthrough',\n",
       "                                    transformers=[('time_components',\n",
       "                                                   FeatureUnion(transformer_list=[('month',\n",
       "                                                                                   CyclicEncoder()),\n",
       "                                                                                  ('year',\n",
       "                                                                                   CyclicEncoder(date_extract='year'))]),\n",
       "                                                   'datetime'),\n",
       "                                                  ('ward_one_hot',\n",
       "                                                   OneHotEncoder(handle_unknown='ignore'),\n",
       "                                                   ['ward']),\n",
       "                                                  ('yearbuilt_one_hot',\n",
       "                                                   OneHotEncoder(handle_unknown='ignore'),\n",
       "                                                   ['yearbuilt'])])),\n",
       "                 ['model', LinearRegression()]]),\n",
       " {'r2': array([0.92144997, 0.89950383, 0.98213643, 0.28709567, 0.96848948,\n",
       "         0.9346881 , 0.81699219, 0.86924294, 0.82353285, 0.83971034,\n",
       "         0.95935383, 0.88439643]),\n",
       "  'mse': array([1.94319528e+10, 3.23229744e+10, 3.22509851e+09, 1.52979713e+10,\n",
       "         8.74209203e+09, 1.40025337e+10, 2.13037170e+10, 2.95492731e+10,\n",
       "         2.88480254e+10, 5.09416604e+10, 1.63394315e+10, 1.24816284e+10]),\n",
       "  'mae': array([132103.25472734, 174104.9440131 ,  54653.0104437 , 105646.70804661,\n",
       "          83739.97609959, 107196.82451866,  97574.28799051, 117421.76679427,\n",
       "         138469.99595023, 217991.51844536,  91659.23745246,  89598.45488816])})"
      ]
     },
     "execution_count": 23,
     "metadata": {},
     "output_type": "execute_result"
    }
   ],
   "source": [
    "# LINEAR MODEL\n",
    "X, y = make_sklearn_data()\n",
    "lm = make_energy_pipeline(LinearRegression())\n",
    "time_series_evaluate(lm, X, y)"
   ]
  },
  {
   "cell_type": "code",
   "execution_count": 24,
   "metadata": {},
   "outputs": [
    {
     "data": {
      "text/plain": [
       "(Pipeline(steps=[('column_selection',\n",
       "                  ColumnTransformer(remainder='passthrough',\n",
       "                                    transformers=[('time_components',\n",
       "                                                   FeatureUnion(transformer_list=[('month',\n",
       "                                                                                   CyclicEncoder()),\n",
       "                                                                                  ('year',\n",
       "                                                                                   CyclicEncoder(date_extract='year'))]),\n",
       "                                                   'datetime'),\n",
       "                                                  ('ward_one_hot',\n",
       "                                                   OneHotEncoder(handle_unknown='ignore'),\n",
       "                                                   ['ward']),\n",
       "                                                  ('yearbuilt_one_hot',\n",
       "                                                   OneHotEncoder(handle_unknown='ignore'),\n",
       "                                                   ['yearbuilt'])])),\n",
       "                 ('quad', PolynomialFeatures()), ['model', SGDRegressor()]]),\n",
       " {'r2': array([-1.91100671e+47, -1.60312534e+49, -3.16159107e+50, -1.04850408e+50,\n",
       "         -2.65234768e+50, -7.32071152e+50, -2.64610843e+51, -4.33049760e+50,\n",
       "         -3.78189067e+51, -1.87050040e+50, -8.72300953e+48, -5.02356682e+50]),\n",
       "  'mse': array([1.66925345e+62, 2.01229001e+61, 3.08622723e+61, 1.70888827e+58,\n",
       "         9.27915447e+59, 9.33068036e+60, 2.27157263e+62, 1.40058764e+59,\n",
       "         1.68731991e+62, 1.89272858e+60, 4.17667842e+58, 4.64626760e+60]),\n",
       "  'mae': array([3.96703203e+30, 2.65168101e+30, 5.70294877e+29, 2.45660137e+29,\n",
       "         9.29598212e+30, 1.98520765e+30, 2.70674080e+30, 4.45197573e+30,\n",
       "         3.65928086e+29, 1.60583915e+31, 7.77751298e+30, 6.28395744e+30])})"
      ]
     },
     "execution_count": 24,
     "metadata": {},
     "output_type": "execute_result"
    }
   ],
   "source": [
    "#Second order polynomial regression\n",
    "from sklearn.linear_model import SGDRegressor\n",
    "from sklearn.preprocessing import PolynomialFeatures\n",
    "\n",
    "qm = make_energy_pipeline(SGDRegressor(), [('quad', PolynomialFeatures(2))])\n",
    "time_series_evaluate(qm, X, y)"
   ]
  },
  {
   "cell_type": "code",
   "execution_count": 25,
   "metadata": {},
   "outputs": [
    {
     "data": {
      "text/plain": [
       "(Pipeline(steps=[('column_selection',\n",
       "                  ColumnTransformer(remainder='passthrough',\n",
       "                                    transformers=[('time_components',\n",
       "                                                   FeatureUnion(transformer_list=[('month',\n",
       "                                                                                   CyclicEncoder()),\n",
       "                                                                                  ('year',\n",
       "                                                                                   CyclicEncoder(date_extract='year'))]),\n",
       "                                                   'datetime'),\n",
       "                                                  ('ward_one_hot',\n",
       "                                                   OneHotEncoder(handle_unknown='ignore'),\n",
       "                                                   ['ward']),\n",
       "                                                  ('yearbuilt_one_hot',\n",
       "                                                   OneHotEncoder(handle_unknown='ignore'),\n",
       "                                                   ['yearbuilt'])])),\n",
       "                 ['model', RandomForestRegressor(max_depth=3, n_estimators=10)]]),\n",
       " {'r2': array([0.93551682, 0.99744386, 0.98398924, 0.88721631, 0.97727333,\n",
       "         0.97731732, 0.86538345, 0.82150863, 0.51890138, 0.82422096,\n",
       "         0.98196253, 0.81553116]),\n",
       "  'mse': array([6.79322979e+09, 8.09081119e+09, 2.97394073e+09, 1.60781160e+09,\n",
       "         7.56108760e+09, 6.18846571e+09, 1.89150533e+10, 4.30424276e+10,\n",
       "         5.38686480e+10, 3.07230583e+10, 9.12640707e+09, 1.33970224e+10]),\n",
       "  'mae': array([ 57576.44666667,  27967.25      ,  41579.92494444,  38312.18388889,\n",
       "          67832.90538889,  71767.93944444, 101447.75246825, 158768.99827381,\n",
       "         165623.15000794, 138046.16205556,  78533.99024217,  77839.33787374])})"
      ]
     },
     "execution_count": 25,
     "metadata": {},
     "output_type": "execute_result"
    }
   ],
   "source": [
    "from sklearn.ensemble import RandomForestRegressor\n",
    "\n",
    "rfm = make_energy_pipeline(RandomForestRegressor(n_estimators=10, max_depth=3))\n",
    "time_series_evaluate(rfm, X, y)"
   ]
  },
  {
   "cell_type": "code",
   "execution_count": 26,
   "metadata": {},
   "outputs": [
    {
     "name": "stdout",
     "output_type": "stream",
     "text": [
      "(Pipeline(steps=[('column_selection',\n",
      "                 ColumnTransformer(remainder='passthrough',\n",
      "                                   transformers=[('time_components',\n",
      "                                                  FeatureUnion(transformer_list=[('month',\n",
      "                                                                                  CyclicEncoder()),\n",
      "                                                                                 ('year',\n",
      "                                                                                  CyclicEncoder(date_extract='year'))]),\n",
      "                                                  'datetime'),\n",
      "                                                 ('ward_one_hot',\n",
      "                                                  OneHotEncoder(handle_unknown='ignore'),\n",
      "                                                  ['ward']),\n",
      "                                                 ('yearbuilt_one_hot',\n",
      "                                                  OneHotEncoder(handle_unknown='ignore'),\n",
      "                                                  ['yearbuilt'])])),\n",
      "                ['model',\n",
      "                 VotingRegressor(estimators=[('lr', LinearRegression()),\n",
      "                                             ('rf',\n",
      "                                              RandomForestRegressor(n_estimators=10,\n",
      "                                                                    random_state=1))])]]), {'r2': array([0.97289363, 0.97143378, 0.99368322, 0.77877756, 0.97739659,\n",
      "       0.9577684 , 0.83516819, 0.85925629, 0.77854738, 0.87272214,\n",
      "       0.96700816, 0.89196192]), 'mse': array([6.70566016e+09, 9.18786493e+09, 1.14043508e+09, 4.74713698e+09,\n",
      "       6.27095548e+09, 9.05423533e+09, 1.91878704e+10, 3.18061172e+10,\n",
      "       3.62020407e+10, 4.04501786e+10, 1.32624536e+10, 1.16647882e+10]), 'mae': array([ 69660.63069317,  90251.26033988,  29942.58522185,  52612.60918004,\n",
      "        69305.2180498 ,  75363.17151541,  87916.01872007, 116513.52910264,\n",
      "       142641.41839821, 179241.74922268,  71396.20280386,  75799.54077741])})\n",
      "Time = 1.054 seconds\n"
     ]
    }
   ],
   "source": [
    "import time\n",
    "from sklearn.linear_model import LinearRegression\n",
    "from sklearn.ensemble import RandomForestRegressor\n",
    "from sklearn.ensemble import VotingRegressor\n",
    "\n",
    "start  = time.time()\n",
    "\n",
    "r1 = LinearRegression()\n",
    "r2 = RandomForestRegressor(n_estimators=10, random_state=1)\n",
    "\n",
    "X, y = make_sklearn_data()\n",
    "er = make_energy_pipeline(VotingRegressor([('lr', r1), ('rf', r2)]))\n",
    "print(time_series_evaluate(er, X, y))\n",
    "print(\"Time = {:0.3f} seconds\".format(time.time()-start))"
   ]
  },
  {
   "cell_type": "code",
   "execution_count": 27,
   "metadata": {},
   "outputs": [
    {
     "name": "stdout",
     "output_type": "stream",
     "text": [
      "Closed\n"
     ]
    }
   ],
   "source": [
    "conn.close()\n",
    "print('Closed')"
   ]
  }
 ],
 "metadata": {
  "kernelspec": {
   "display_name": "Python 3",
   "language": "python",
   "name": "python3"
  },
  "language_info": {
   "codemirror_mode": {
    "name": "ipython",
    "version": 3
   },
   "file_extension": ".py",
   "mimetype": "text/x-python",
   "name": "python",
   "nbconvert_exporter": "python",
   "pygments_lexer": "ipython3",
   "version": "3.7.4"
  }
 },
 "nbformat": 4,
 "nbformat_minor": 2
}
