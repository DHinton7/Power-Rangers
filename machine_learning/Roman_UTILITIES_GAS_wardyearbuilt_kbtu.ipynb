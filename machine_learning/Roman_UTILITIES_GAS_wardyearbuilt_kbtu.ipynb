{
 "cells": [
  {
   "cell_type": "code",
   "execution_count": 1,
   "metadata": {},
   "outputs": [],
   "source": [
    "import psycopg2\n",
    "import config as creds\n",
    "import sqlalchemy\n",
    "from sqlalchemy import create_engine\n",
    "import numpy as np\n",
    "from numpy.random import randn\n",
    "import pandas as pd\n",
    "from scipy import stats\n",
    "from datetime import datetime"
   ]
  },
  {
   "cell_type": "raw",
   "metadata": {},
   "source": [
    "GAS for years 2018-2019, INDIVIDUAL BUILDING TYPES \n",
    "Foreign keys: One Hot encode categorical features YEARBUILT and WARD, exclude DCREALPROPERTYID  \n",
    "Numeric features: sqft, awnd, cldd, htdd, snow\n",
    "Target feature: kbtu\n",
    "VotingRegressor - \"Utilities\""
   ]
  },
  {
   "cell_type": "markdown",
   "metadata": {},
   "source": [
    "CONNECT TO DATABASE:"
   ]
  },
  {
   "cell_type": "code",
   "execution_count": 2,
   "metadata": {},
   "outputs": [
    {
     "name": "stdout",
     "output_type": "stream",
     "text": [
      "Connected\n",
      "Cursor created\n"
     ]
    }
   ],
   "source": [
    "user=creds.PGUSER\n",
    "password=creds.PGPASSWORD\n",
    "host=creds.PGHOST\n",
    "port=5432\n",
    "database=creds.PGDATABASE\n",
    "\n",
    "engine_str=f\"postgresql+psycopg2://{user}:{password}@{host}:{port}/{database}\"\n",
    "engine = create_engine(engine_str)\n",
    "conn = engine.raw_connection()\n",
    "print('Connected')\n",
    "cur = conn.cursor()\n",
    "print('Cursor created')"
   ]
  },
  {
   "cell_type": "markdown",
   "metadata": {},
   "source": [
    "EXTRACT DATASET:"
   ]
  },
  {
   "cell_type": "code",
   "execution_count": 3,
   "metadata": {},
   "outputs": [
    {
     "data": {
      "text/html": [
       "<div>\n",
       "<style scoped>\n",
       "    .dataframe tbody tr th:only-of-type {\n",
       "        vertical-align: middle;\n",
       "    }\n",
       "\n",
       "    .dataframe tbody tr th {\n",
       "        vertical-align: top;\n",
       "    }\n",
       "\n",
       "    .dataframe thead th {\n",
       "        text-align: right;\n",
       "    }\n",
       "</style>\n",
       "<table border=\"1\" class=\"dataframe\">\n",
       "  <thead>\n",
       "    <tr style=\"text-align: right;\">\n",
       "      <th></th>\n",
       "      <th>kbtu</th>\n",
       "      <th>reportedbuildinggrossfloorarea</th>\n",
       "      <th>dcrealpropertyid</th>\n",
       "      <th>ward</th>\n",
       "      <th>yearbuilt</th>\n",
       "      <th>primarypropertytype_selfselect</th>\n",
       "      <th>elegas</th>\n",
       "      <th>awnd</th>\n",
       "      <th>cldd</th>\n",
       "      <th>htdd</th>\n",
       "      <th>snow</th>\n",
       "      <th>tavg</th>\n",
       "      <th>wdf2</th>\n",
       "      <th>wdf5</th>\n",
       "      <th>wsf2</th>\n",
       "      <th>wsf5</th>\n",
       "      <th>date</th>\n",
       "    </tr>\n",
       "  </thead>\n",
       "  <tbody>\n",
       "    <tr>\n",
       "      <th>0</th>\n",
       "      <td>3405759.2</td>\n",
       "      <td>229914.0</td>\n",
       "      <td>0744S_0814</td>\n",
       "      <td>6</td>\n",
       "      <td>1908</td>\n",
       "      <td>18</td>\n",
       "      <td>N</td>\n",
       "      <td>9.8</td>\n",
       "      <td>0.0</td>\n",
       "      <td>906.0</td>\n",
       "      <td>1.2</td>\n",
       "      <td>35.8</td>\n",
       "      <td>300.0</td>\n",
       "      <td>310.0</td>\n",
       "      <td>36.0</td>\n",
       "      <td>49.0</td>\n",
       "      <td>2018-01</td>\n",
       "    </tr>\n",
       "    <tr>\n",
       "      <th>1</th>\n",
       "      <td>3000200.2</td>\n",
       "      <td>229914.0</td>\n",
       "      <td>0744S_0807</td>\n",
       "      <td>3</td>\n",
       "      <td>1964</td>\n",
       "      <td>18</td>\n",
       "      <td>N</td>\n",
       "      <td>9.6</td>\n",
       "      <td>0.0</td>\n",
       "      <td>860.0</td>\n",
       "      <td>11.5</td>\n",
       "      <td>37.2</td>\n",
       "      <td>320.0</td>\n",
       "      <td>310.0</td>\n",
       "      <td>36.0</td>\n",
       "      <td>46.0</td>\n",
       "      <td>2019-01</td>\n",
       "    </tr>\n",
       "    <tr>\n",
       "      <th>2</th>\n",
       "      <td>2183730.1</td>\n",
       "      <td>229914.0</td>\n",
       "      <td>0744S_0814</td>\n",
       "      <td>6</td>\n",
       "      <td>1908</td>\n",
       "      <td>18</td>\n",
       "      <td>N</td>\n",
       "      <td>8.7</td>\n",
       "      <td>4.0</td>\n",
       "      <td>554.0</td>\n",
       "      <td>0.2</td>\n",
       "      <td>45.3</td>\n",
       "      <td>290.0</td>\n",
       "      <td>290.0</td>\n",
       "      <td>30.0</td>\n",
       "      <td>39.0</td>\n",
       "      <td>2018-02</td>\n",
       "    </tr>\n",
       "    <tr>\n",
       "      <th>3</th>\n",
       "      <td>1916740.0</td>\n",
       "      <td>229914.0</td>\n",
       "      <td>0744S_0807</td>\n",
       "      <td>3</td>\n",
       "      <td>1964</td>\n",
       "      <td>18</td>\n",
       "      <td>N</td>\n",
       "      <td>8.3</td>\n",
       "      <td>0.0</td>\n",
       "      <td>637.0</td>\n",
       "      <td>3.7</td>\n",
       "      <td>42.2</td>\n",
       "      <td>310.0</td>\n",
       "      <td>320.0</td>\n",
       "      <td>36.0</td>\n",
       "      <td>52.0</td>\n",
       "      <td>2019-02</td>\n",
       "    </tr>\n",
       "    <tr>\n",
       "      <th>4</th>\n",
       "      <td>687480.0</td>\n",
       "      <td>229914.0</td>\n",
       "      <td>0744S_0807</td>\n",
       "      <td>3</td>\n",
       "      <td>1964</td>\n",
       "      <td>18</td>\n",
       "      <td>N</td>\n",
       "      <td>9.2</td>\n",
       "      <td>53.0</td>\n",
       "      <td>133.0</td>\n",
       "      <td>0.0</td>\n",
       "      <td>62.3</td>\n",
       "      <td>200.0</td>\n",
       "      <td>200.0</td>\n",
       "      <td>38.9</td>\n",
       "      <td>55.0</td>\n",
       "      <td>2019-04</td>\n",
       "    </tr>\n",
       "  </tbody>\n",
       "</table>\n",
       "</div>"
      ],
      "text/plain": [
       "        kbtu  reportedbuildinggrossfloorarea dcrealpropertyid  ward  \\\n",
       "0  3405759.2                        229914.0       0744S_0814     6   \n",
       "1  3000200.2                        229914.0       0744S_0807     3   \n",
       "2  2183730.1                        229914.0       0744S_0814     6   \n",
       "3  1916740.0                        229914.0       0744S_0807     3   \n",
       "4   687480.0                        229914.0       0744S_0807     3   \n",
       "\n",
       "   yearbuilt primarypropertytype_selfselect elegas  awnd  cldd   htdd  snow  \\\n",
       "0       1908                             18      N   9.8   0.0  906.0   1.2   \n",
       "1       1964                             18      N   9.6   0.0  860.0  11.5   \n",
       "2       1908                             18      N   8.7   4.0  554.0   0.2   \n",
       "3       1964                             18      N   8.3   0.0  637.0   3.7   \n",
       "4       1964                             18      N   9.2  53.0  133.0   0.0   \n",
       "\n",
       "   tavg   wdf2   wdf5  wsf2  wsf5     date  \n",
       "0  35.8  300.0  310.0  36.0  49.0  2018-01  \n",
       "1  37.2  320.0  310.0  36.0  46.0  2019-01  \n",
       "2  45.3  290.0  290.0  30.0  39.0  2018-02  \n",
       "3  42.2  310.0  320.0  36.0  52.0  2019-02  \n",
       "4  62.3  200.0  200.0  38.9  55.0  2019-04  "
      ]
     },
     "execution_count": 3,
     "metadata": {},
     "output_type": "execute_result"
    }
   ],
   "source": [
    "query='''\n",
    "SELECT b.kbtu\n",
    "      ,b.REPORTEDBUILDINGGROSSFLOORAREA\n",
    "      ,b.dcrealpropertyid\n",
    "      ,b.ward\n",
    "      ,b.yearbuilt\n",
    "      ,b.primarypropertytype_selfselect\n",
    "      ,b.elegas\n",
    "      ,n.awnd\n",
    "      ,n.cldd\n",
    "      ,n.htdd\n",
    "      ,n.snow\n",
    "      ,n.tavg\n",
    "      ,n.wdf2\n",
    "      ,n.wdf5\n",
    "      ,n.wsf2\n",
    "      ,n.wsf5\n",
    "      ,n.date \n",
    "FROM buildings_data b\n",
    "LEFT OUTER join noaa_data n\n",
    "ON b.REPORTINGYEAR = n.WEATHERYEAR\n",
    "WHERE b.MONTH = n.MONTH\n",
    "AND b.ELEGAS = 'N'\n",
    "AND b.PRIMARYPROPERTYTYPE_SELFSELECT = '18'\n",
    "AND b.REPORTINGYEAR BETWEEN 2018 AND 2019\n",
    "AND b.YEARBUILT > 0\n",
    "AND b.REPORTEDBUILDINGGROSSFLOORAREA > 50000;\n",
    "'''\n",
    "\n",
    "data=pd.read_sql(query,conn)\n",
    "data.head()"
   ]
  },
  {
   "cell_type": "code",
   "execution_count": 4,
   "metadata": {},
   "outputs": [
    {
     "data": {
      "text/plain": [
       "False"
      ]
     },
     "execution_count": 4,
     "metadata": {},
     "output_type": "execute_result"
    }
   ],
   "source": [
    "data.isnull().values.any()"
   ]
  },
  {
   "cell_type": "markdown",
   "metadata": {},
   "source": [
    "FORMAT COLUMNS:"
   ]
  },
  {
   "cell_type": "code",
   "execution_count": 5,
   "metadata": {},
   "outputs": [],
   "source": [
    "#CONVERT 'Date' COLUMN TO datetime format\n",
    "\n",
    "#data[\"reportingyear\"] = data[\"reportingyear\"].astype(str)\n",
    "#data['month']=data['month'].apply(lambda x: '{0:0>2}'.format(x))\n",
    "#data['date_time'] = data[['reportingyear', 'month']].agg('-'.join, axis=1)\n",
    "#data['date_time'] = (data.date_time + \"-01\")\n",
    "#data['date_time'] = datetime.strptime('date_time', \"%Y-%m-%d\")\n",
    "data['datetime']=pd.to_datetime(data['date'])"
   ]
  },
  {
   "cell_type": "code",
   "execution_count": 6,
   "metadata": {},
   "outputs": [
    {
     "data": {
      "text/plain": [
       "dtype('O')"
      ]
     },
     "execution_count": 6,
     "metadata": {},
     "output_type": "execute_result"
    }
   ],
   "source": [
    "data['primarypropertytype_selfselect'].dtype"
   ]
  },
  {
   "cell_type": "code",
   "execution_count": 7,
   "metadata": {},
   "outputs": [],
   "source": [
    "data['primarypropertytype_selfselect']=data['primarypropertytype_selfselect'].astype('int32')"
   ]
  },
  {
   "cell_type": "code",
   "execution_count": 8,
   "metadata": {},
   "outputs": [
    {
     "data": {
      "text/html": [
       "<div>\n",
       "<style scoped>\n",
       "    .dataframe tbody tr th:only-of-type {\n",
       "        vertical-align: middle;\n",
       "    }\n",
       "\n",
       "    .dataframe tbody tr th {\n",
       "        vertical-align: top;\n",
       "    }\n",
       "\n",
       "    .dataframe thead th {\n",
       "        text-align: right;\n",
       "    }\n",
       "</style>\n",
       "<table border=\"1\" class=\"dataframe\">\n",
       "  <thead>\n",
       "    <tr style=\"text-align: right;\">\n",
       "      <th></th>\n",
       "      <th>kbtu</th>\n",
       "      <th>reportedbuildinggrossfloorarea</th>\n",
       "      <th>dcrealpropertyid</th>\n",
       "      <th>ward</th>\n",
       "      <th>yearbuilt</th>\n",
       "      <th>primarypropertytype_selfselect</th>\n",
       "      <th>elegas</th>\n",
       "      <th>awnd</th>\n",
       "      <th>cldd</th>\n",
       "      <th>htdd</th>\n",
       "      <th>snow</th>\n",
       "      <th>tavg</th>\n",
       "      <th>wdf2</th>\n",
       "      <th>wdf5</th>\n",
       "      <th>wsf2</th>\n",
       "      <th>wsf5</th>\n",
       "      <th>date</th>\n",
       "    </tr>\n",
       "    <tr>\n",
       "      <th>datetime</th>\n",
       "      <th></th>\n",
       "      <th></th>\n",
       "      <th></th>\n",
       "      <th></th>\n",
       "      <th></th>\n",
       "      <th></th>\n",
       "      <th></th>\n",
       "      <th></th>\n",
       "      <th></th>\n",
       "      <th></th>\n",
       "      <th></th>\n",
       "      <th></th>\n",
       "      <th></th>\n",
       "      <th></th>\n",
       "      <th></th>\n",
       "      <th></th>\n",
       "      <th></th>\n",
       "    </tr>\n",
       "  </thead>\n",
       "  <tbody>\n",
       "    <tr>\n",
       "      <th>2018-01-01</th>\n",
       "      <td>3405759.2</td>\n",
       "      <td>229914.0</td>\n",
       "      <td>0744S_0814</td>\n",
       "      <td>6</td>\n",
       "      <td>1908</td>\n",
       "      <td>18</td>\n",
       "      <td>N</td>\n",
       "      <td>9.8</td>\n",
       "      <td>0.0</td>\n",
       "      <td>906.0</td>\n",
       "      <td>1.2</td>\n",
       "      <td>35.8</td>\n",
       "      <td>300.0</td>\n",
       "      <td>310.0</td>\n",
       "      <td>36.0</td>\n",
       "      <td>49.0</td>\n",
       "      <td>2018-01</td>\n",
       "    </tr>\n",
       "    <tr>\n",
       "      <th>2019-01-01</th>\n",
       "      <td>3000200.2</td>\n",
       "      <td>229914.0</td>\n",
       "      <td>0744S_0807</td>\n",
       "      <td>3</td>\n",
       "      <td>1964</td>\n",
       "      <td>18</td>\n",
       "      <td>N</td>\n",
       "      <td>9.6</td>\n",
       "      <td>0.0</td>\n",
       "      <td>860.0</td>\n",
       "      <td>11.5</td>\n",
       "      <td>37.2</td>\n",
       "      <td>320.0</td>\n",
       "      <td>310.0</td>\n",
       "      <td>36.0</td>\n",
       "      <td>46.0</td>\n",
       "      <td>2019-01</td>\n",
       "    </tr>\n",
       "    <tr>\n",
       "      <th>2018-02-01</th>\n",
       "      <td>2183730.1</td>\n",
       "      <td>229914.0</td>\n",
       "      <td>0744S_0814</td>\n",
       "      <td>6</td>\n",
       "      <td>1908</td>\n",
       "      <td>18</td>\n",
       "      <td>N</td>\n",
       "      <td>8.7</td>\n",
       "      <td>4.0</td>\n",
       "      <td>554.0</td>\n",
       "      <td>0.2</td>\n",
       "      <td>45.3</td>\n",
       "      <td>290.0</td>\n",
       "      <td>290.0</td>\n",
       "      <td>30.0</td>\n",
       "      <td>39.0</td>\n",
       "      <td>2018-02</td>\n",
       "    </tr>\n",
       "    <tr>\n",
       "      <th>2019-02-01</th>\n",
       "      <td>1916740.0</td>\n",
       "      <td>229914.0</td>\n",
       "      <td>0744S_0807</td>\n",
       "      <td>3</td>\n",
       "      <td>1964</td>\n",
       "      <td>18</td>\n",
       "      <td>N</td>\n",
       "      <td>8.3</td>\n",
       "      <td>0.0</td>\n",
       "      <td>637.0</td>\n",
       "      <td>3.7</td>\n",
       "      <td>42.2</td>\n",
       "      <td>310.0</td>\n",
       "      <td>320.0</td>\n",
       "      <td>36.0</td>\n",
       "      <td>52.0</td>\n",
       "      <td>2019-02</td>\n",
       "    </tr>\n",
       "    <tr>\n",
       "      <th>2019-04-01</th>\n",
       "      <td>687480.0</td>\n",
       "      <td>229914.0</td>\n",
       "      <td>0744S_0807</td>\n",
       "      <td>3</td>\n",
       "      <td>1964</td>\n",
       "      <td>18</td>\n",
       "      <td>N</td>\n",
       "      <td>9.2</td>\n",
       "      <td>53.0</td>\n",
       "      <td>133.0</td>\n",
       "      <td>0.0</td>\n",
       "      <td>62.3</td>\n",
       "      <td>200.0</td>\n",
       "      <td>200.0</td>\n",
       "      <td>38.9</td>\n",
       "      <td>55.0</td>\n",
       "      <td>2019-04</td>\n",
       "    </tr>\n",
       "  </tbody>\n",
       "</table>\n",
       "</div>"
      ],
      "text/plain": [
       "                 kbtu  reportedbuildinggrossfloorarea dcrealpropertyid  ward  \\\n",
       "datetime                                                                       \n",
       "2018-01-01  3405759.2                        229914.0       0744S_0814     6   \n",
       "2019-01-01  3000200.2                        229914.0       0744S_0807     3   \n",
       "2018-02-01  2183730.1                        229914.0       0744S_0814     6   \n",
       "2019-02-01  1916740.0                        229914.0       0744S_0807     3   \n",
       "2019-04-01   687480.0                        229914.0       0744S_0807     3   \n",
       "\n",
       "            yearbuilt  primarypropertytype_selfselect elegas  awnd  cldd  \\\n",
       "datetime                                                                   \n",
       "2018-01-01       1908                              18      N   9.8   0.0   \n",
       "2019-01-01       1964                              18      N   9.6   0.0   \n",
       "2018-02-01       1908                              18      N   8.7   4.0   \n",
       "2019-02-01       1964                              18      N   8.3   0.0   \n",
       "2019-04-01       1964                              18      N   9.2  53.0   \n",
       "\n",
       "             htdd  snow  tavg   wdf2   wdf5  wsf2  wsf5     date  \n",
       "datetime                                                          \n",
       "2018-01-01  906.0   1.2  35.8  300.0  310.0  36.0  49.0  2018-01  \n",
       "2019-01-01  860.0  11.5  37.2  320.0  310.0  36.0  46.0  2019-01  \n",
       "2018-02-01  554.0   0.2  45.3  290.0  290.0  30.0  39.0  2018-02  \n",
       "2019-02-01  637.0   3.7  42.2  310.0  320.0  36.0  52.0  2019-02  \n",
       "2019-04-01  133.0   0.0  62.3  200.0  200.0  38.9  55.0  2019-04  "
      ]
     },
     "execution_count": 8,
     "metadata": {},
     "output_type": "execute_result"
    }
   ],
   "source": [
    "data.set_index('datetime', inplace=True)\n",
    "data.head()"
   ]
  },
  {
   "cell_type": "code",
   "execution_count": 9,
   "metadata": {},
   "outputs": [
    {
     "data": {
      "text/plain": [
       "(24, 17)"
      ]
     },
     "execution_count": 9,
     "metadata": {},
     "output_type": "execute_result"
    }
   ],
   "source": [
    "data.shape"
   ]
  },
  {
   "cell_type": "code",
   "execution_count": 10,
   "metadata": {},
   "outputs": [
    {
     "data": {
      "text/plain": [
       "Index(['kbtu', 'reportedbuildinggrossfloorarea', 'dcrealpropertyid', 'ward',\n",
       "       'yearbuilt', 'primarypropertytype_selfselect', 'elegas', 'awnd', 'cldd',\n",
       "       'htdd', 'snow', 'tavg', 'wdf2', 'wdf5', 'wsf2', 'wsf5', 'date'],\n",
       "      dtype='object')"
      ]
     },
     "execution_count": 10,
     "metadata": {},
     "output_type": "execute_result"
    }
   ],
   "source": [
    "data.columns"
   ]
  },
  {
   "cell_type": "code",
   "execution_count": 11,
   "metadata": {},
   "outputs": [
    {
     "data": {
      "text/plain": [
       "kbtu                              float64\n",
       "reportedbuildinggrossfloorarea    float64\n",
       "dcrealpropertyid                   object\n",
       "ward                                int64\n",
       "yearbuilt                           int64\n",
       "primarypropertytype_selfselect      int32\n",
       "elegas                             object\n",
       "awnd                              float64\n",
       "cldd                              float64\n",
       "htdd                              float64\n",
       "snow                              float64\n",
       "tavg                              float64\n",
       "wdf2                              float64\n",
       "wdf5                              float64\n",
       "wsf2                              float64\n",
       "wsf5                              float64\n",
       "date                               object\n",
       "dtype: object"
      ]
     },
     "execution_count": 11,
     "metadata": {},
     "output_type": "execute_result"
    }
   ],
   "source": [
    "data.dtypes"
   ]
  },
  {
   "cell_type": "code",
   "execution_count": 12,
   "metadata": {},
   "outputs": [
    {
     "data": {
      "text/plain": [
       "<AxesSubplot:>"
      ]
     },
     "execution_count": 12,
     "metadata": {},
     "output_type": "execute_result"
    },
    {
     "data": {
      "image/png": "[encoded data removed]",
      "text/plain": [
       "<Figure size 1800x1080 with 2 Axes>"
      ]
     },
     "metadata": {
      "needs_background": "light"
     },
     "output_type": "display_data"
    }
   ],
   "source": [
    "import matplotlib.pyplot as plt\n",
    "import seaborn as sns\n",
    "plt.figure(figsize=(25,15))\n",
    "ftr = list([\"kbtu\", \"reportedbuildinggrossfloorarea\", \"ward\", \"yearbuilt\", \"awnd\", \"cldd\", \"htdd\", \"snow\"])\n",
    "corrMatrix = data[ftr].corr()\n",
    "sns.heatmap(corrMatrix, annot=True, fmt='.1f', linewidths=.5)"
   ]
  },
  {
   "cell_type": "markdown",
   "metadata": {},
   "source": [
    "DEFINE FEATURES:"
   ]
  },
  {
   "cell_type": "code",
   "execution_count": 13,
   "metadata": {},
   "outputs": [],
   "source": [
    "TARGET = \"kbtu\"\n",
    "COLS = ['reportedbuildinggrossfloorarea', 'ward', 'yearbuilt', 'awnd', 'cldd', 'htdd', 'snow', 'datetime']\n",
    "\n",
    "def make_sklearn_data(df=data, target=TARGET, cols=COLS):\n",
    "    df = df.reset_index()\n",
    "    X, y = df[cols], df[target]\n",
    "    return X, y"
   ]
  },
  {
   "cell_type": "code",
   "execution_count": 14,
   "metadata": {},
   "outputs": [],
   "source": [
    "features = ['reportedbuildinggrossfloorarea', 'ward', 'yearbuilt', 'awnd', 'cldd', 'htdd', 'snow']\n",
    "X, y = make_sklearn_data(cols=features)"
   ]
  },
  {
   "cell_type": "code",
   "execution_count": 15,
   "metadata": {},
   "outputs": [
    {
     "name": "stderr",
     "output_type": "stream",
     "text": [
      "C:\\Users\\rv14996\\Anaconda3\\lib\\site-packages\\numpy\\lib\\function_base.py:2559: RuntimeWarning: invalid value encountered in true_divide\n",
      "  c /= stddev[:, None]\n",
      "C:\\Users\\rv14996\\Anaconda3\\lib\\site-packages\\numpy\\lib\\function_base.py:2560: RuntimeWarning: invalid value encountered in true_divide\n",
      "  c /= stddev[None, :]\n"
     ]
    },
    {
     "data": {
      "image/png": "[encoded data removed]",
      "text/plain": [
       "<Figure size 1080x720 with 2 Axes>"
      ]
     },
     "metadata": {},
     "output_type": "display_data"
    },
    {
     "data": {
      "text/plain": [
       "<AxesSubplot:title={'center':'Pearson Ranking of 7 Features'}>"
      ]
     },
     "execution_count": 15,
     "metadata": {},
     "output_type": "execute_result"
    }
   ],
   "source": [
    "#Rank2D\n",
    "from yellowbrick.features import Rank2D\n",
    "\n",
    "# Instantiate the visualizer with the Pearson ranking algorithm\n",
    "visualizer = Rank2D(algorithm='pearson', features=features, size=(1080, 720))\n",
    "\n",
    "visualizer.fit(X, y)\n",
    "visualizer.transform(X)\n",
    "visualizer.show()"
   ]
  },
  {
   "cell_type": "code",
   "execution_count": 16,
   "metadata": {},
   "outputs": [
    {
     "data": {
      "image/png": "[encoded data removed]",
      "text/plain": [
       "<Figure size 1080x720 with 2 Axes>"
      ]
     },
     "metadata": {},
     "output_type": "display_data"
    },
    {
     "data": {
      "text/plain": [
       "<AxesSubplot:title={'center':'Covariance Ranking of 7 Features'}>"
      ]
     },
     "execution_count": 16,
     "metadata": {},
     "output_type": "execute_result"
    }
   ],
   "source": [
    "# Instantiate the visualizer with the Covariance algorithm\n",
    "visualizer = Rank2D(algorithm='covariance', features=features, size=(1080, 720))\n",
    "\n",
    "visualizer.fit(X, y)\n",
    "visualizer.transform(X)\n",
    "visualizer.show()"
   ]
  },
  {
   "cell_type": "code",
   "execution_count": 17,
   "metadata": {},
   "outputs": [
    {
     "name": "stderr",
     "output_type": "stream",
     "text": [
      "C:\\Users\\rv14996\\Anaconda3\\lib\\site-packages\\sklearn\\base.py:213: FutureWarning: From version 0.24, get_params will raise an AttributeError if a parameter cannot be retrieved as an instance attribute. Previously it would return None.\n",
      "  FutureWarning)\n"
     ]
    },
    {
     "data": {
      "image/png": "[encoded data removed]",
      "text/plain": [
       "<Figure size 1080x720 with 1 Axes>"
      ]
     },
     "metadata": {},
     "output_type": "display_data"
    },
    {
     "data": {
      "text/plain": [
       "<AxesSubplot:title={'center':'Feature Importances of 7 Features using RandomForestRegressor'}, xlabel='relative importance'>"
      ]
     },
     "execution_count": 17,
     "metadata": {},
     "output_type": "execute_result"
    }
   ],
   "source": [
    "#Feature Importances\n",
    "import yellowbrick as yb\n",
    "from sklearn.ensemble import RandomForestRegressor\n",
    "from yellowbrick.features import RadViz\n",
    "from yellowbrick.features import FeatureImportances\n",
    "\n",
    "\n",
    "model = RandomForestRegressor(n_estimators=10)\n",
    "viz = FeatureImportances(model, labels=features, size=(1080, 720))\n",
    "\n",
    "viz.fit(X, y)\n",
    "viz.show()"
   ]
  },
  {
   "cell_type": "code",
   "execution_count": 18,
   "metadata": {},
   "outputs": [
    {
     "name": "stderr",
     "output_type": "stream",
     "text": [
      "C:\\Users\\rv14996\\Anaconda3\\lib\\site-packages\\sklearn\\base.py:213: FutureWarning: From version 0.24, get_params will raise an AttributeError if a parameter cannot be retrieved as an instance attribute. Previously it would return None.\n",
      "  FutureWarning)\n"
     ]
    },
    {
     "data": {
      "image/png": "[encoded data removed]",
      "text/plain": [
       "<Figure size 1080x720 with 1 Axes>"
      ]
     },
     "metadata": {},
     "output_type": "display_data"
    },
    {
     "data": {
      "text/plain": [
       "<AxesSubplot:title={'center':'Feature Importances of 7 Features using Lasso'}, xlabel='relative coefficient magnitude'>"
      ]
     },
     "execution_count": 18,
     "metadata": {},
     "output_type": "execute_result"
    }
   ],
   "source": [
    "#Feature Importances\n",
    "import yellowbrick as yb\n",
    "from sklearn.linear_model import Lasso\n",
    "from yellowbrick.features import RadViz\n",
    "from yellowbrick.features import FeatureImportances\n",
    "\n",
    "\n",
    "model = Lasso()\n",
    "viz = FeatureImportances(model, labels=features, size=(1080, 720))\n",
    "\n",
    "viz.fit(X, y)\n",
    "viz.show()"
   ]
  },
  {
   "cell_type": "code",
   "execution_count": 19,
   "metadata": {},
   "outputs": [
    {
     "name": "stderr",
     "output_type": "stream",
     "text": [
      "*c* argument looks like a single numeric RGB or RGBA sequence, which should be avoided as value-mapping will have precedence in case its length matches with *x* & *y*.  Please use the *color* keyword-argument or provide a 2-D array with a single row if you intend to specify the same RGB or RGBA value for all points.\n"
     ]
    },
    {
     "data": {
      "text/plain": [
       "<AxesSubplot:xlabel='datetime_cos', ylabel='datetime_sin'>"
      ]
     },
     "execution_count": 19,
     "metadata": {},
     "output_type": "execute_result"
    },
    {
     "data": {
      "image/png": "[encoded data removed]",
      "text/plain": [
       "<Figure size 576x396 with 1 Axes>"
      ]
     },
     "metadata": {},
     "output_type": "display_data"
    }
   ],
   "source": [
    "#CYCLIC ENCODER:  to capture temporal cycles (yearly).\n",
    "from sklearn.base import BaseEstimator, TransformerMixin\n",
    "\n",
    "\n",
    "class CyclicEncoder(BaseEstimator, TransformerMixin):\n",
    "    \n",
    "    def __init__(self, date_extract=\"month\"):\n",
    "        if date_extract not in {\"minute\", \"hour\", \"week\", \"month\", \"year\"}:\n",
    "            raise ValueError(f\"specify correct date component to extract, not {date_extract}\")\n",
    "        self.date_extract = date_extract\n",
    "    \n",
    "    def get_date_component(self, x):\n",
    "        if self.date_extract == \"month\":\n",
    "            return x.dt.month\n",
    "        elif self.date_extract == \"year\":\n",
    "            return x.dt.year\n",
    "        else:\n",
    "            raise NotImplementedError(f\"{self.date_extract} date component not implemented yet\")\n",
    "            \n",
    "    def fit(self, X, y=None):\n",
    "        self.cycle_max_ = self.get_date_component(X).max()\n",
    "        return self\n",
    "\n",
    "    def transform(self, X,  y=None):\n",
    "        cols = []\n",
    "        names = []\n",
    "        x = self.get_date_component(X)\n",
    "        xn = 2 * np.pi * x / self.cycle_max_\n",
    "        cols.append(np.cos(xn))\n",
    "        names.append(f\"{X.name}_cos\")\n",
    "        cols.append(np.sin(xn))\n",
    "        names.append(f\"{X.name}_sin\")\n",
    "        return pd.DataFrame(np.asarray(cols).T, columns=names)\n",
    "\n",
    "    \n",
    "ce = CyclicEncoder().fit_transform(data.reset_index()[\"datetime\"])\n",
    "ce.plot(x=\"datetime_cos\", y=\"datetime_sin\", kind=\"scatter\")"
   ]
  },
  {
   "cell_type": "code",
   "execution_count": 20,
   "metadata": {},
   "outputs": [],
   "source": [
    "#FEATURE EXTRACTION\n",
    "from sklearn.base import clone\n",
    "from sklearn.compose import ColumnTransformer\n",
    "from sklearn.pipeline import FeatureUnion, Pipeline\n",
    "from sklearn.preprocessing import OneHotEncoder\n",
    "\n",
    "extraction = Pipeline([\n",
    "    ('column_selection', ColumnTransformer([\n",
    "        ('time_components', FeatureUnion([\n",
    "            ('month', CyclicEncoder(date_extract='month')), \n",
    "            ('year', CyclicEncoder(date_extract='year')), \n",
    "        ]), 'datetime'),\n",
    "        ('ward_one_hot', OneHotEncoder(handle_unknown='ignore'), ['ward']),\n",
    "        ('yearbuilt_one_hot', OneHotEncoder(handle_unknown='ignore'), ['yearbuilt']),\n",
    "    ], remainder=\"passthrough\")),\n",
    "])\n",
    "\n",
    "def make_energy_pipeline(model, append_transformers=None, fe=extraction):\n",
    "    pipe = clone(fe)\n",
    "    \n",
    "    if append_transformers:\n",
    "        for step in append_transformers:\n",
    "            pipe.steps.append(step)\n",
    "    \n",
    "    pipe.steps.append([\"model\", clone(model)])\n",
    "    return pipe"
   ]
  },
  {
   "cell_type": "code",
   "execution_count": 21,
   "metadata": {},
   "outputs": [
    {
     "data": {
      "text/plain": [
       "-0.5379685489497048"
      ]
     },
     "execution_count": 21,
     "metadata": {},
     "output_type": "execute_result"
    }
   ],
   "source": [
    "#Test the Feature Extraction Pipeline\n",
    "from sklearn.linear_model import LinearRegression\n",
    "from sklearn.model_selection import train_test_split as tts\n",
    "\n",
    "X_train, X_test, y_train, y_test = tts(*make_sklearn_data(), test_size=0.2)\n",
    "\n",
    "model = make_energy_pipeline(LinearRegression())\n",
    "model.fit(X_train, y_train)\n",
    "model.score(X_test, y_test)"
   ]
  },
  {
   "cell_type": "code",
   "execution_count": 22,
   "metadata": {},
   "outputs": [],
   "source": [
    "#TIME SERIES CROSS VALIDATION\n",
    "from functools import partial\n",
    "from sklearn.metrics import make_scorer\n",
    "from sklearn.model_selection import cross_val_score\n",
    "from sklearn.model_selection import TimeSeriesSplit\n",
    "from sklearn.metrics import r2_score, mean_squared_error, mean_absolute_error\n",
    "\n",
    "rmse = partial(mean_squared_error, squared=False)\n",
    "\n",
    "\n",
    "def time_series_evaluate(model, X, y):\n",
    "    \"\"\"\n",
    "    Performs time series cross validation on the model, returning the\n",
    "    cross validated r2, mse, and mae of the regressor, along with the \n",
    "    final fitted model, fitted on all of the data.\n",
    "    \"\"\"\n",
    "    cv = TimeSeriesSplit(12)\n",
    "    scores = {}\n",
    "    \n",
    "    scores[\"r2\"] = cross_val_score(model, X, y, cv=cv, scoring=make_scorer(r2_score))\n",
    "    scores[\"mse\"] = cross_val_score(model, X, y, cv=cv, scoring=make_scorer(mean_squared_error))\n",
    "#     scores[\"rmse\"] = cross_val_score(model, X, y, cv=cv, scoring=make_scorer(rmse))\n",
    "    scores[\"mae\"] = cross_val_score(model, X, y, cv=cv, scoring=make_scorer(mean_absolute_error))\n",
    "    \n",
    "    model.fit(X, y)\n",
    "    return model, scores"
   ]
  },
  {
   "cell_type": "code",
   "execution_count": 23,
   "metadata": {},
   "outputs": [
    {
     "name": "stderr",
     "output_type": "stream",
     "text": [
      "C:\\Users\\rv14996\\Anaconda3\\lib\\site-packages\\sklearn\\metrics\\_regression.py:589: UndefinedMetricWarning: R^2 score is not well-defined with less than two samples.\n",
      "  warnings.warn(msg, UndefinedMetricWarning)\n",
      "C:\\Users\\rv14996\\Anaconda3\\lib\\site-packages\\sklearn\\metrics\\_regression.py:589: UndefinedMetricWarning: R^2 score is not well-defined with less than two samples.\n",
      "  warnings.warn(msg, UndefinedMetricWarning)\n",
      "C:\\Users\\rv14996\\Anaconda3\\lib\\site-packages\\sklearn\\metrics\\_regression.py:589: UndefinedMetricWarning: R^2 score is not well-defined with less than two samples.\n",
      "  warnings.warn(msg, UndefinedMetricWarning)\n",
      "C:\\Users\\rv14996\\Anaconda3\\lib\\site-packages\\sklearn\\metrics\\_regression.py:589: UndefinedMetricWarning: R^2 score is not well-defined with less than two samples.\n",
      "  warnings.warn(msg, UndefinedMetricWarning)\n",
      "C:\\Users\\rv14996\\Anaconda3\\lib\\site-packages\\sklearn\\metrics\\_regression.py:589: UndefinedMetricWarning: R^2 score is not well-defined with less than two samples.\n",
      "  warnings.warn(msg, UndefinedMetricWarning)\n",
      "C:\\Users\\rv14996\\Anaconda3\\lib\\site-packages\\sklearn\\metrics\\_regression.py:589: UndefinedMetricWarning: R^2 score is not well-defined with less than two samples.\n",
      "  warnings.warn(msg, UndefinedMetricWarning)\n",
      "C:\\Users\\rv14996\\Anaconda3\\lib\\site-packages\\sklearn\\metrics\\_regression.py:589: UndefinedMetricWarning: R^2 score is not well-defined with less than two samples.\n",
      "  warnings.warn(msg, UndefinedMetricWarning)\n",
      "C:\\Users\\rv14996\\Anaconda3\\lib\\site-packages\\sklearn\\metrics\\_regression.py:589: UndefinedMetricWarning: R^2 score is not well-defined with less than two samples.\n",
      "  warnings.warn(msg, UndefinedMetricWarning)\n",
      "C:\\Users\\rv14996\\Anaconda3\\lib\\site-packages\\sklearn\\metrics\\_regression.py:589: UndefinedMetricWarning: R^2 score is not well-defined with less than two samples.\n",
      "  warnings.warn(msg, UndefinedMetricWarning)\n",
      "C:\\Users\\rv14996\\Anaconda3\\lib\\site-packages\\sklearn\\metrics\\_regression.py:589: UndefinedMetricWarning: R^2 score is not well-defined with less than two samples.\n",
      "  warnings.warn(msg, UndefinedMetricWarning)\n",
      "C:\\Users\\rv14996\\Anaconda3\\lib\\site-packages\\sklearn\\metrics\\_regression.py:589: UndefinedMetricWarning: R^2 score is not well-defined with less than two samples.\n",
      "  warnings.warn(msg, UndefinedMetricWarning)\n",
      "C:\\Users\\rv14996\\Anaconda3\\lib\\site-packages\\sklearn\\metrics\\_regression.py:589: UndefinedMetricWarning: R^2 score is not well-defined with less than two samples.\n",
      "  warnings.warn(msg, UndefinedMetricWarning)\n"
     ]
    },
    {
     "data": {
      "text/plain": [
       "(Pipeline(steps=[('column_selection',\n",
       "                  ColumnTransformer(remainder='passthrough',\n",
       "                                    transformers=[('time_components',\n",
       "                                                   FeatureUnion(transformer_list=[('month',\n",
       "                                                                                   CyclicEncoder()),\n",
       "                                                                                  ('year',\n",
       "                                                                                   CyclicEncoder(date_extract='year'))]),\n",
       "                                                   'datetime'),\n",
       "                                                  ('ward_one_hot',\n",
       "                                                   OneHotEncoder(handle_unknown='ignore'),\n",
       "                                                   ['ward']),\n",
       "                                                  ('yearbuilt_one_hot',\n",
       "                                                   OneHotEncoder(handle_unknown='ignore'),\n",
       "                                                   ['yearbuilt'])])),\n",
       "                 ['model', LinearRegression()]]),\n",
       " {'r2': array([nan, nan, nan, nan, nan, nan, nan, nan, nan, nan, nan, nan]),\n",
       "  'mse': array([1.67733216e+10, 9.91093154e+05, 1.83790986e+11, 4.22508108e+11,\n",
       "         8.89227676e+10, 8.01590669e+08, 1.01067798e+12, 1.36557114e+11,\n",
       "         2.52311622e+12, 3.09362150e+11, 5.63874893e+11, 8.91121028e+12]),\n",
       "  'mae': array([1.29511859e+05, 9.95536616e+02, 4.28708510e+05, 6.50006237e+05,\n",
       "         2.98199208e+05, 2.83123766e+04, 1.00532482e+06, 3.69536350e+05,\n",
       "         1.58843200e+06, 5.56203335e+05, 7.50916036e+05, 2.98516503e+06])})"
      ]
     },
     "execution_count": 23,
     "metadata": {},
     "output_type": "execute_result"
    }
   ],
   "source": [
    "# LINEAR MODEL\n",
    "X, y = make_sklearn_data()\n",
    "lm = make_energy_pipeline(LinearRegression())\n",
    "time_series_evaluate(lm, X, y)"
   ]
  },
  {
   "cell_type": "code",
   "execution_count": 24,
   "metadata": {},
   "outputs": [
    {
     "name": "stderr",
     "output_type": "stream",
     "text": [
      "C:\\Users\\rv14996\\Anaconda3\\lib\\site-packages\\sklearn\\linear_model\\_stochastic_gradient.py:1211: ConvergenceWarning: Maximum number of iteration reached before convergence. Consider increasing max_iter to improve the fit.\n",
      "  ConvergenceWarning)\n",
      "C:\\Users\\rv14996\\Anaconda3\\lib\\site-packages\\sklearn\\metrics\\_regression.py:589: UndefinedMetricWarning: R^2 score is not well-defined with less than two samples.\n",
      "  warnings.warn(msg, UndefinedMetricWarning)\n",
      "C:\\Users\\rv14996\\Anaconda3\\lib\\site-packages\\sklearn\\linear_model\\_stochastic_gradient.py:1211: ConvergenceWarning: Maximum number of iteration reached before convergence. Consider increasing max_iter to improve the fit.\n",
      "  ConvergenceWarning)\n",
      "C:\\Users\\rv14996\\Anaconda3\\lib\\site-packages\\sklearn\\metrics\\_regression.py:589: UndefinedMetricWarning: R^2 score is not well-defined with less than two samples.\n",
      "  warnings.warn(msg, UndefinedMetricWarning)\n",
      "C:\\Users\\rv14996\\Anaconda3\\lib\\site-packages\\sklearn\\linear_model\\_stochastic_gradient.py:1211: ConvergenceWarning: Maximum number of iteration reached before convergence. Consider increasing max_iter to improve the fit.\n",
      "  ConvergenceWarning)\n",
      "C:\\Users\\rv14996\\Anaconda3\\lib\\site-packages\\sklearn\\metrics\\_regression.py:589: UndefinedMetricWarning: R^2 score is not well-defined with less than two samples.\n",
      "  warnings.warn(msg, UndefinedMetricWarning)\n",
      "C:\\Users\\rv14996\\Anaconda3\\lib\\site-packages\\sklearn\\linear_model\\_stochastic_gradient.py:1211: ConvergenceWarning: Maximum number of iteration reached before convergence. Consider increasing max_iter to improve the fit.\n",
      "  ConvergenceWarning)\n",
      "C:\\Users\\rv14996\\Anaconda3\\lib\\site-packages\\sklearn\\metrics\\_regression.py:589: UndefinedMetricWarning: R^2 score is not well-defined with less than two samples.\n",
      "  warnings.warn(msg, UndefinedMetricWarning)\n",
      "C:\\Users\\rv14996\\Anaconda3\\lib\\site-packages\\sklearn\\linear_model\\_stochastic_gradient.py:1211: ConvergenceWarning: Maximum number of iteration reached before convergence. Consider increasing max_iter to improve the fit.\n",
      "  ConvergenceWarning)\n",
      "C:\\Users\\rv14996\\Anaconda3\\lib\\site-packages\\sklearn\\metrics\\_regression.py:589: UndefinedMetricWarning: R^2 score is not well-defined with less than two samples.\n",
      "  warnings.warn(msg, UndefinedMetricWarning)\n",
      "C:\\Users\\rv14996\\Anaconda3\\lib\\site-packages\\sklearn\\linear_model\\_stochastic_gradient.py:1211: ConvergenceWarning: Maximum number of iteration reached before convergence. Consider increasing max_iter to improve the fit.\n",
      "  ConvergenceWarning)\n",
      "C:\\Users\\rv14996\\Anaconda3\\lib\\site-packages\\sklearn\\metrics\\_regression.py:589: UndefinedMetricWarning: R^2 score is not well-defined with less than two samples.\n",
      "  warnings.warn(msg, UndefinedMetricWarning)\n",
      "C:\\Users\\rv14996\\Anaconda3\\lib\\site-packages\\sklearn\\linear_model\\_stochastic_gradient.py:1211: ConvergenceWarning: Maximum number of iteration reached before convergence. Consider increasing max_iter to improve the fit.\n",
      "  ConvergenceWarning)\n",
      "C:\\Users\\rv14996\\Anaconda3\\lib\\site-packages\\sklearn\\metrics\\_regression.py:589: UndefinedMetricWarning: R^2 score is not well-defined with less than two samples.\n",
      "  warnings.warn(msg, UndefinedMetricWarning)\n",
      "C:\\Users\\rv14996\\Anaconda3\\lib\\site-packages\\sklearn\\linear_model\\_stochastic_gradient.py:1211: ConvergenceWarning: Maximum number of iteration reached before convergence. Consider increasing max_iter to improve the fit.\n",
      "  ConvergenceWarning)\n",
      "C:\\Users\\rv14996\\Anaconda3\\lib\\site-packages\\sklearn\\metrics\\_regression.py:589: UndefinedMetricWarning: R^2 score is not well-defined with less than two samples.\n",
      "  warnings.warn(msg, UndefinedMetricWarning)\n",
      "C:\\Users\\rv14996\\Anaconda3\\lib\\site-packages\\sklearn\\linear_model\\_stochastic_gradient.py:1211: ConvergenceWarning: Maximum number of iteration reached before convergence. Consider increasing max_iter to improve the fit.\n",
      "  ConvergenceWarning)\n",
      "C:\\Users\\rv14996\\Anaconda3\\lib\\site-packages\\sklearn\\metrics\\_regression.py:589: UndefinedMetricWarning: R^2 score is not well-defined with less than two samples.\n",
      "  warnings.warn(msg, UndefinedMetricWarning)\n",
      "C:\\Users\\rv14996\\Anaconda3\\lib\\site-packages\\sklearn\\linear_model\\_stochastic_gradient.py:1211: ConvergenceWarning: Maximum number of iteration reached before convergence. Consider increasing max_iter to improve the fit.\n",
      "  ConvergenceWarning)\n",
      "C:\\Users\\rv14996\\Anaconda3\\lib\\site-packages\\sklearn\\metrics\\_regression.py:589: UndefinedMetricWarning: R^2 score is not well-defined with less than two samples.\n",
      "  warnings.warn(msg, UndefinedMetricWarning)\n",
      "C:\\Users\\rv14996\\Anaconda3\\lib\\site-packages\\sklearn\\linear_model\\_stochastic_gradient.py:1211: ConvergenceWarning: Maximum number of iteration reached before convergence. Consider increasing max_iter to improve the fit.\n",
      "  ConvergenceWarning)\n",
      "C:\\Users\\rv14996\\Anaconda3\\lib\\site-packages\\sklearn\\metrics\\_regression.py:589: UndefinedMetricWarning: R^2 score is not well-defined with less than two samples.\n",
      "  warnings.warn(msg, UndefinedMetricWarning)\n",
      "C:\\Users\\rv14996\\Anaconda3\\lib\\site-packages\\sklearn\\linear_model\\_stochastic_gradient.py:1211: ConvergenceWarning: Maximum number of iteration reached before convergence. Consider increasing max_iter to improve the fit.\n",
      "  ConvergenceWarning)\n",
      "C:\\Users\\rv14996\\Anaconda3\\lib\\site-packages\\sklearn\\metrics\\_regression.py:589: UndefinedMetricWarning: R^2 score is not well-defined with less than two samples.\n",
      "  warnings.warn(msg, UndefinedMetricWarning)\n",
      "C:\\Users\\rv14996\\Anaconda3\\lib\\site-packages\\sklearn\\linear_model\\_stochastic_gradient.py:1211: ConvergenceWarning: Maximum number of iteration reached before convergence. Consider increasing max_iter to improve the fit.\n",
      "  ConvergenceWarning)\n",
      "C:\\Users\\rv14996\\Anaconda3\\lib\\site-packages\\sklearn\\linear_model\\_stochastic_gradient.py:1211: ConvergenceWarning: Maximum number of iteration reached before convergence. Consider increasing max_iter to improve the fit.\n",
      "  ConvergenceWarning)\n",
      "C:\\Users\\rv14996\\Anaconda3\\lib\\site-packages\\sklearn\\linear_model\\_stochastic_gradient.py:1211: ConvergenceWarning: Maximum number of iteration reached before convergence. Consider increasing max_iter to improve the fit.\n",
      "  ConvergenceWarning)\n",
      "C:\\Users\\rv14996\\Anaconda3\\lib\\site-packages\\sklearn\\linear_model\\_stochastic_gradient.py:1211: ConvergenceWarning: Maximum number of iteration reached before convergence. Consider increasing max_iter to improve the fit.\n",
      "  ConvergenceWarning)\n",
      "C:\\Users\\rv14996\\Anaconda3\\lib\\site-packages\\sklearn\\linear_model\\_stochastic_gradient.py:1211: ConvergenceWarning: Maximum number of iteration reached before convergence. Consider increasing max_iter to improve the fit.\n",
      "  ConvergenceWarning)\n",
      "C:\\Users\\rv14996\\Anaconda3\\lib\\site-packages\\sklearn\\linear_model\\_stochastic_gradient.py:1211: ConvergenceWarning: Maximum number of iteration reached before convergence. Consider increasing max_iter to improve the fit.\n",
      "  ConvergenceWarning)\n",
      "C:\\Users\\rv14996\\Anaconda3\\lib\\site-packages\\sklearn\\linear_model\\_stochastic_gradient.py:1211: ConvergenceWarning: Maximum number of iteration reached before convergence. Consider increasing max_iter to improve the fit.\n",
      "  ConvergenceWarning)\n",
      "C:\\Users\\rv14996\\Anaconda3\\lib\\site-packages\\sklearn\\linear_model\\_stochastic_gradient.py:1211: ConvergenceWarning: Maximum number of iteration reached before convergence. Consider increasing max_iter to improve the fit.\n",
      "  ConvergenceWarning)\n",
      "C:\\Users\\rv14996\\Anaconda3\\lib\\site-packages\\sklearn\\linear_model\\_stochastic_gradient.py:1211: ConvergenceWarning: Maximum number of iteration reached before convergence. Consider increasing max_iter to improve the fit.\n",
      "  ConvergenceWarning)\n",
      "C:\\Users\\rv14996\\Anaconda3\\lib\\site-packages\\sklearn\\linear_model\\_stochastic_gradient.py:1211: ConvergenceWarning: Maximum number of iteration reached before convergence. Consider increasing max_iter to improve the fit.\n",
      "  ConvergenceWarning)\n",
      "C:\\Users\\rv14996\\Anaconda3\\lib\\site-packages\\sklearn\\linear_model\\_stochastic_gradient.py:1211: ConvergenceWarning: Maximum number of iteration reached before convergence. Consider increasing max_iter to improve the fit.\n",
      "  ConvergenceWarning)\n",
      "C:\\Users\\rv14996\\Anaconda3\\lib\\site-packages\\sklearn\\linear_model\\_stochastic_gradient.py:1211: ConvergenceWarning: Maximum number of iteration reached before convergence. Consider increasing max_iter to improve the fit.\n",
      "  ConvergenceWarning)\n",
      "C:\\Users\\rv14996\\Anaconda3\\lib\\site-packages\\sklearn\\linear_model\\_stochastic_gradient.py:1211: ConvergenceWarning: Maximum number of iteration reached before convergence. Consider increasing max_iter to improve the fit.\n",
      "  ConvergenceWarning)\n",
      "C:\\Users\\rv14996\\Anaconda3\\lib\\site-packages\\sklearn\\linear_model\\_stochastic_gradient.py:1211: ConvergenceWarning: Maximum number of iteration reached before convergence. Consider increasing max_iter to improve the fit.\n",
      "  ConvergenceWarning)\n",
      "C:\\Users\\rv14996\\Anaconda3\\lib\\site-packages\\sklearn\\linear_model\\_stochastic_gradient.py:1211: ConvergenceWarning: Maximum number of iteration reached before convergence. Consider increasing max_iter to improve the fit.\n",
      "  ConvergenceWarning)\n",
      "C:\\Users\\rv14996\\Anaconda3\\lib\\site-packages\\sklearn\\linear_model\\_stochastic_gradient.py:1211: ConvergenceWarning: Maximum number of iteration reached before convergence. Consider increasing max_iter to improve the fit.\n",
      "  ConvergenceWarning)\n"
     ]
    },
    {
     "name": "stderr",
     "output_type": "stream",
     "text": [
      "C:\\Users\\rv14996\\Anaconda3\\lib\\site-packages\\sklearn\\linear_model\\_stochastic_gradient.py:1211: ConvergenceWarning: Maximum number of iteration reached before convergence. Consider increasing max_iter to improve the fit.\n",
      "  ConvergenceWarning)\n",
      "C:\\Users\\rv14996\\Anaconda3\\lib\\site-packages\\sklearn\\linear_model\\_stochastic_gradient.py:1211: ConvergenceWarning: Maximum number of iteration reached before convergence. Consider increasing max_iter to improve the fit.\n",
      "  ConvergenceWarning)\n",
      "C:\\Users\\rv14996\\Anaconda3\\lib\\site-packages\\sklearn\\linear_model\\_stochastic_gradient.py:1211: ConvergenceWarning: Maximum number of iteration reached before convergence. Consider increasing max_iter to improve the fit.\n",
      "  ConvergenceWarning)\n",
      "C:\\Users\\rv14996\\Anaconda3\\lib\\site-packages\\sklearn\\linear_model\\_stochastic_gradient.py:1211: ConvergenceWarning: Maximum number of iteration reached before convergence. Consider increasing max_iter to improve the fit.\n",
      "  ConvergenceWarning)\n",
      "C:\\Users\\rv14996\\Anaconda3\\lib\\site-packages\\sklearn\\linear_model\\_stochastic_gradient.py:1211: ConvergenceWarning: Maximum number of iteration reached before convergence. Consider increasing max_iter to improve the fit.\n",
      "  ConvergenceWarning)\n",
      "C:\\Users\\rv14996\\Anaconda3\\lib\\site-packages\\sklearn\\linear_model\\_stochastic_gradient.py:1211: ConvergenceWarning: Maximum number of iteration reached before convergence. Consider increasing max_iter to improve the fit.\n",
      "  ConvergenceWarning)\n",
      "C:\\Users\\rv14996\\Anaconda3\\lib\\site-packages\\sklearn\\linear_model\\_stochastic_gradient.py:1211: ConvergenceWarning: Maximum number of iteration reached before convergence. Consider increasing max_iter to improve the fit.\n",
      "  ConvergenceWarning)\n",
      "C:\\Users\\rv14996\\Anaconda3\\lib\\site-packages\\sklearn\\linear_model\\_stochastic_gradient.py:1211: ConvergenceWarning: Maximum number of iteration reached before convergence. Consider increasing max_iter to improve the fit.\n",
      "  ConvergenceWarning)\n",
      "C:\\Users\\rv14996\\Anaconda3\\lib\\site-packages\\sklearn\\linear_model\\_stochastic_gradient.py:1211: ConvergenceWarning: Maximum number of iteration reached before convergence. Consider increasing max_iter to improve the fit.\n",
      "  ConvergenceWarning)\n"
     ]
    },
    {
     "data": {
      "text/plain": [
       "(Pipeline(steps=[('column_selection',\n",
       "                  ColumnTransformer(remainder='passthrough',\n",
       "                                    transformers=[('time_components',\n",
       "                                                   FeatureUnion(transformer_list=[('month',\n",
       "                                                                                   CyclicEncoder()),\n",
       "                                                                                  ('year',\n",
       "                                                                                   CyclicEncoder(date_extract='year'))]),\n",
       "                                                   'datetime'),\n",
       "                                                  ('ward_one_hot',\n",
       "                                                   OneHotEncoder(handle_unknown='ignore'),\n",
       "                                                   ['ward']),\n",
       "                                                  ('yearbuilt_one_hot',\n",
       "                                                   OneHotEncoder(handle_unknown='ignore'),\n",
       "                                                   ['yearbuilt'])])),\n",
       "                 ('quad', PolynomialFeatures()), ['model', SGDRegressor()]]),\n",
       " {'r2': array([nan, nan, nan, nan, nan, nan, nan, nan, nan, nan, nan, nan]),\n",
       "  'mse': array([7.12748240e+60, 6.84789116e+60, 6.59871783e+60, 6.37475131e+60,\n",
       "         6.17271696e+60, 5.98801930e+60, 5.81966561e+60, 5.66421693e+60,\n",
       "         5.52096896e+60, 5.38763307e+60, 5.26398465e+60, 5.14817726e+60]),\n",
       "  'mae': array([2.66967253e+30, 2.61679847e+30, 2.56875676e+30, 2.52482795e+30,\n",
       "         2.48445141e+30, 2.44708784e+30, 2.41233702e+30, 2.37995421e+30,\n",
       "         2.34965727e+30, 2.32115531e+30, 2.29431895e+30, 2.26898048e+30])})"
      ]
     },
     "execution_count": 24,
     "metadata": {},
     "output_type": "execute_result"
    }
   ],
   "source": [
    "#Second order polynomial regression\n",
    "from sklearn.linear_model import SGDRegressor\n",
    "from sklearn.preprocessing import PolynomialFeatures\n",
    "\n",
    "qm = make_energy_pipeline(SGDRegressor(), [('quad', PolynomialFeatures(2))])\n",
    "time_series_evaluate(qm, X, y)"
   ]
  },
  {
   "cell_type": "code",
   "execution_count": 25,
   "metadata": {},
   "outputs": [
    {
     "name": "stderr",
     "output_type": "stream",
     "text": [
      "C:\\Users\\rv14996\\Anaconda3\\lib\\site-packages\\sklearn\\metrics\\_regression.py:589: UndefinedMetricWarning: R^2 score is not well-defined with less than two samples.\n",
      "  warnings.warn(msg, UndefinedMetricWarning)\n",
      "C:\\Users\\rv14996\\Anaconda3\\lib\\site-packages\\sklearn\\metrics\\_regression.py:589: UndefinedMetricWarning: R^2 score is not well-defined with less than two samples.\n",
      "  warnings.warn(msg, UndefinedMetricWarning)\n",
      "C:\\Users\\rv14996\\Anaconda3\\lib\\site-packages\\sklearn\\metrics\\_regression.py:589: UndefinedMetricWarning: R^2 score is not well-defined with less than two samples.\n",
      "  warnings.warn(msg, UndefinedMetricWarning)\n",
      "C:\\Users\\rv14996\\Anaconda3\\lib\\site-packages\\sklearn\\metrics\\_regression.py:589: UndefinedMetricWarning: R^2 score is not well-defined with less than two samples.\n",
      "  warnings.warn(msg, UndefinedMetricWarning)\n",
      "C:\\Users\\rv14996\\Anaconda3\\lib\\site-packages\\sklearn\\metrics\\_regression.py:589: UndefinedMetricWarning: R^2 score is not well-defined with less than two samples.\n",
      "  warnings.warn(msg, UndefinedMetricWarning)\n",
      "C:\\Users\\rv14996\\Anaconda3\\lib\\site-packages\\sklearn\\metrics\\_regression.py:589: UndefinedMetricWarning: R^2 score is not well-defined with less than two samples.\n",
      "  warnings.warn(msg, UndefinedMetricWarning)\n",
      "C:\\Users\\rv14996\\Anaconda3\\lib\\site-packages\\sklearn\\metrics\\_regression.py:589: UndefinedMetricWarning: R^2 score is not well-defined with less than two samples.\n",
      "  warnings.warn(msg, UndefinedMetricWarning)\n",
      "C:\\Users\\rv14996\\Anaconda3\\lib\\site-packages\\sklearn\\metrics\\_regression.py:589: UndefinedMetricWarning: R^2 score is not well-defined with less than two samples.\n",
      "  warnings.warn(msg, UndefinedMetricWarning)\n",
      "C:\\Users\\rv14996\\Anaconda3\\lib\\site-packages\\sklearn\\metrics\\_regression.py:589: UndefinedMetricWarning: R^2 score is not well-defined with less than two samples.\n",
      "  warnings.warn(msg, UndefinedMetricWarning)\n",
      "C:\\Users\\rv14996\\Anaconda3\\lib\\site-packages\\sklearn\\metrics\\_regression.py:589: UndefinedMetricWarning: R^2 score is not well-defined with less than two samples.\n",
      "  warnings.warn(msg, UndefinedMetricWarning)\n",
      "C:\\Users\\rv14996\\Anaconda3\\lib\\site-packages\\sklearn\\metrics\\_regression.py:589: UndefinedMetricWarning: R^2 score is not well-defined with less than two samples.\n",
      "  warnings.warn(msg, UndefinedMetricWarning)\n",
      "C:\\Users\\rv14996\\Anaconda3\\lib\\site-packages\\sklearn\\metrics\\_regression.py:589: UndefinedMetricWarning: R^2 score is not well-defined with less than two samples.\n",
      "  warnings.warn(msg, UndefinedMetricWarning)\n"
     ]
    },
    {
     "data": {
      "text/plain": [
       "(Pipeline(steps=[('column_selection',\n",
       "                  ColumnTransformer(remainder='passthrough',\n",
       "                                    transformers=[('time_components',\n",
       "                                                   FeatureUnion(transformer_list=[('month',\n",
       "                                                                                   CyclicEncoder()),\n",
       "                                                                                  ('year',\n",
       "                                                                                   CyclicEncoder(date_extract='year'))]),\n",
       "                                                   'datetime'),\n",
       "                                                  ('ward_one_hot',\n",
       "                                                   OneHotEncoder(handle_unknown='ignore'),\n",
       "                                                   ['ward']),\n",
       "                                                  ('yearbuilt_one_hot',\n",
       "                                                   OneHotEncoder(handle_unknown='ignore'),\n",
       "                                                   ['yearbuilt'])])),\n",
       "                 ['model', RandomForestRegressor(max_depth=3, n_estimators=10)]]),\n",
       " {'r2': array([nan, nan, nan, nan, nan, nan, nan, nan, nan, nan, nan, nan]),\n",
       "  'mse': array([5.35285833e+10, 3.04968011e+06, 5.35939631e+10, 8.70941191e+09,\n",
       "         2.12886133e+11, 2.37596431e+08, 5.98166940e+11, 2.90836198e+10,\n",
       "         4.78296523e+12, 2.05700908e+11, 7.58525806e+09, 8.50947336e+12]),\n",
       "  'mae': array([3.92745500e+05, 1.05000000e+01, 1.61796090e+05, 2.77084440e+05,\n",
       "         1.24636667e+03, 5.63113889e+02, 1.30094123e+06, 3.00514839e+05,\n",
       "         2.34601756e+06, 7.59110705e+05, 5.50461186e+04, 2.95992279e+06])})"
      ]
     },
     "execution_count": 25,
     "metadata": {},
     "output_type": "execute_result"
    }
   ],
   "source": [
    "from sklearn.ensemble import RandomForestRegressor\n",
    "\n",
    "rfm = make_energy_pipeline(RandomForestRegressor(n_estimators=10, max_depth=3))\n",
    "time_series_evaluate(rfm, X, y)"
   ]
  },
  {
   "cell_type": "code",
   "execution_count": 26,
   "metadata": {},
   "outputs": [
    {
     "name": "stderr",
     "output_type": "stream",
     "text": [
      "C:\\Users\\rv14996\\Anaconda3\\lib\\site-packages\\sklearn\\metrics\\_regression.py:589: UndefinedMetricWarning: R^2 score is not well-defined with less than two samples.\n",
      "  warnings.warn(msg, UndefinedMetricWarning)\n",
      "C:\\Users\\rv14996\\Anaconda3\\lib\\site-packages\\sklearn\\metrics\\_regression.py:589: UndefinedMetricWarning: R^2 score is not well-defined with less than two samples.\n",
      "  warnings.warn(msg, UndefinedMetricWarning)\n",
      "C:\\Users\\rv14996\\Anaconda3\\lib\\site-packages\\sklearn\\metrics\\_regression.py:589: UndefinedMetricWarning: R^2 score is not well-defined with less than two samples.\n",
      "  warnings.warn(msg, UndefinedMetricWarning)\n",
      "C:\\Users\\rv14996\\Anaconda3\\lib\\site-packages\\sklearn\\metrics\\_regression.py:589: UndefinedMetricWarning: R^2 score is not well-defined with less than two samples.\n",
      "  warnings.warn(msg, UndefinedMetricWarning)\n",
      "C:\\Users\\rv14996\\Anaconda3\\lib\\site-packages\\sklearn\\metrics\\_regression.py:589: UndefinedMetricWarning: R^2 score is not well-defined with less than two samples.\n",
      "  warnings.warn(msg, UndefinedMetricWarning)\n",
      "C:\\Users\\rv14996\\Anaconda3\\lib\\site-packages\\sklearn\\metrics\\_regression.py:589: UndefinedMetricWarning: R^2 score is not well-defined with less than two samples.\n",
      "  warnings.warn(msg, UndefinedMetricWarning)\n",
      "C:\\Users\\rv14996\\Anaconda3\\lib\\site-packages\\sklearn\\metrics\\_regression.py:589: UndefinedMetricWarning: R^2 score is not well-defined with less than two samples.\n",
      "  warnings.warn(msg, UndefinedMetricWarning)\n",
      "C:\\Users\\rv14996\\Anaconda3\\lib\\site-packages\\sklearn\\metrics\\_regression.py:589: UndefinedMetricWarning: R^2 score is not well-defined with less than two samples.\n",
      "  warnings.warn(msg, UndefinedMetricWarning)\n",
      "C:\\Users\\rv14996\\Anaconda3\\lib\\site-packages\\sklearn\\metrics\\_regression.py:589: UndefinedMetricWarning: R^2 score is not well-defined with less than two samples.\n",
      "  warnings.warn(msg, UndefinedMetricWarning)\n",
      "C:\\Users\\rv14996\\Anaconda3\\lib\\site-packages\\sklearn\\metrics\\_regression.py:589: UndefinedMetricWarning: R^2 score is not well-defined with less than two samples.\n",
      "  warnings.warn(msg, UndefinedMetricWarning)\n",
      "C:\\Users\\rv14996\\Anaconda3\\lib\\site-packages\\sklearn\\metrics\\_regression.py:589: UndefinedMetricWarning: R^2 score is not well-defined with less than two samples.\n",
      "  warnings.warn(msg, UndefinedMetricWarning)\n",
      "C:\\Users\\rv14996\\Anaconda3\\lib\\site-packages\\sklearn\\metrics\\_regression.py:589: UndefinedMetricWarning: R^2 score is not well-defined with less than two samples.\n",
      "  warnings.warn(msg, UndefinedMetricWarning)\n"
     ]
    },
    {
     "name": "stdout",
     "output_type": "stream",
     "text": [
      "(Pipeline(steps=[('column_selection',\n",
      "                 ColumnTransformer(remainder='passthrough',\n",
      "                                   transformers=[('time_components',\n",
      "                                                  FeatureUnion(transformer_list=[('month',\n",
      "                                                                                  CyclicEncoder()),\n",
      "                                                                                 ('year',\n",
      "                                                                                  CyclicEncoder(date_extract='year'))]),\n",
      "                                                  'datetime'),\n",
      "                                                 ('ward_one_hot',\n",
      "                                                  OneHotEncoder(handle_unknown='ignore'),\n",
      "                                                  ['ward']),\n",
      "                                                 ('yearbuilt_one_hot',\n",
      "                                                  OneHotEncoder(handle_unknown='ignore'),\n",
      "                                                  ['yearbuilt'])])),\n",
      "                ['model',\n",
      "                 VotingRegressor(estimators=[('lr', LinearRegression()),\n",
      "                                             ('rf',\n",
      "                                              RandomForestRegressor(n_estimators=10,\n",
      "                                                                    random_state=1))])]]), {'r2': array([nan, nan, nan, nan, nan, nan, nan, nan, nan, nan, nan, nan]), 'mse': array([1.09328043e+11, 1.78660987e+03, 8.03695511e+10, 1.64425067e+11,\n",
      "       3.38392963e+10, 2.02270640e+08, 1.36073817e+12, 4.36246363e+10,\n",
      "       3.37021104e+12, 8.18244208e+10, 2.68631892e+11, 1.10633827e+13]), 'mae': array([3.30647915e+05, 4.22683081e+01, 2.83495240e+05, 4.05493609e+05,\n",
      "       1.83954604e+05, 1.42221883e+04, 1.16650682e+06, 2.08865115e+05,\n",
      "       1.83581345e+06, 2.86049682e+05, 5.18297108e+05, 3.32616636e+06])})\n",
      "Time = 1.476 seconds\n"
     ]
    }
   ],
   "source": [
    "import time\n",
    "from sklearn.linear_model import LinearRegression\n",
    "from sklearn.ensemble import RandomForestRegressor\n",
    "from sklearn.ensemble import VotingRegressor\n",
    "\n",
    "start  = time.time()\n",
    "\n",
    "r1 = LinearRegression()\n",
    "r2 = RandomForestRegressor(n_estimators=10, random_state=1)\n",
    "\n",
    "X, y = make_sklearn_data()\n",
    "er = make_energy_pipeline(VotingRegressor([('lr', r1), ('rf', r2)]))\n",
    "print(time_series_evaluate(er, X, y))\n",
    "print(\"Time = {:0.3f} seconds\".format(time.time()-start))"
   ]
  },
  {
   "cell_type": "code",
   "execution_count": 28,
   "metadata": {},
   "outputs": [
    {
     "name": "stdout",
     "output_type": "stream",
     "text": [
      "Closed\n"
     ]
    }
   ],
   "source": [
    "conn.close()\n",
    "print('Closed')"
   ]
  }
 ],
 "metadata": {
  "kernelspec": {
   "display_name": "Python 3",
   "language": "python",
   "name": "python3"
  },
  "language_info": {
   "codemirror_mode": {
    "name": "ipython",
    "version": 3
   },
   "file_extension": ".py",
   "mimetype": "text/x-python",
   "name": "python",
   "nbconvert_exporter": "python",
   "pygments_lexer": "ipython3",
   "version": "3.7.4"
  }
 },
 "nbformat": 4,
 "nbformat_minor": 2
}
