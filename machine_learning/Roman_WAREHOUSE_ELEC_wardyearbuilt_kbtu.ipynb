{
 "cells": [
  {
   "cell_type": "code",
   "execution_count": 1,
   "metadata": {},
   "outputs": [],
   "source": [
    "import psycopg2\n",
    "import config as creds\n",
    "import sqlalchemy\n",
    "from sqlalchemy import create_engine\n",
    "import numpy as np\n",
    "from numpy.random import randn\n",
    "import pandas as pd\n",
    "from scipy import stats\n",
    "from datetime import datetime"
   ]
  },
  {
   "cell_type": "raw",
   "metadata": {},
   "source": [
    "ELECTRICITY for years 2018-2019, INDIVIDUAL BUILDING TYPES \n",
    "Foreign keys: One Hot encode categorical features YEARBUILT and WARD, exclude DCREALPROPERTYID  \n",
    "Numeric features: sqft, awnd, cldd, htdd, snow\n",
    "Target feature: kbtu\n",
    "VotingRegressor - \"Warehouse\""
   ]
  },
  {
   "cell_type": "markdown",
   "metadata": {},
   "source": [
    "CONNECT TO DATABASE:"
   ]
  },
  {
   "cell_type": "code",
   "execution_count": 2,
   "metadata": {},
   "outputs": [
    {
     "name": "stdout",
     "output_type": "stream",
     "text": [
      "Connected\n",
      "Cursor created\n"
     ]
    }
   ],
   "source": [
    "user=creds.PGUSER\n",
    "password=creds.PGPASSWORD\n",
    "host=creds.PGHOST\n",
    "port=5432\n",
    "database=creds.PGDATABASE\n",
    "\n",
    "engine_str=f\"postgresql+psycopg2://{user}:{password}@{host}:{port}/{database}\"\n",
    "engine = create_engine(engine_str)\n",
    "conn = engine.raw_connection()\n",
    "print('Connected')\n",
    "cur = conn.cursor()\n",
    "print('Cursor created')"
   ]
  },
  {
   "cell_type": "markdown",
   "metadata": {},
   "source": [
    "EXTRACT DATASET:"
   ]
  },
  {
   "cell_type": "code",
   "execution_count": 3,
   "metadata": {},
   "outputs": [
    {
     "data": {
      "text/html": [
       "<div>\n",
       "<style scoped>\n",
       "    .dataframe tbody tr th:only-of-type {\n",
       "        vertical-align: middle;\n",
       "    }\n",
       "\n",
       "    .dataframe tbody tr th {\n",
       "        vertical-align: top;\n",
       "    }\n",
       "\n",
       "    .dataframe thead th {\n",
       "        text-align: right;\n",
       "    }\n",
       "</style>\n",
       "<table border=\"1\" class=\"dataframe\">\n",
       "  <thead>\n",
       "    <tr style=\"text-align: right;\">\n",
       "      <th></th>\n",
       "      <th>kbtu</th>\n",
       "      <th>reportedbuildinggrossfloorarea</th>\n",
       "      <th>dcrealpropertyid</th>\n",
       "      <th>ward</th>\n",
       "      <th>yearbuilt</th>\n",
       "      <th>primarypropertytype_selfselect</th>\n",
       "      <th>elegas</th>\n",
       "      <th>awnd</th>\n",
       "      <th>cldd</th>\n",
       "      <th>htdd</th>\n",
       "      <th>snow</th>\n",
       "      <th>tavg</th>\n",
       "      <th>wdf2</th>\n",
       "      <th>wdf5</th>\n",
       "      <th>wsf2</th>\n",
       "      <th>wsf5</th>\n",
       "      <th>date</th>\n",
       "    </tr>\n",
       "  </thead>\n",
       "  <tbody>\n",
       "    <tr>\n",
       "      <th>0</th>\n",
       "      <td>170035.9</td>\n",
       "      <td>105500.0</td>\n",
       "      <td>3574_0032</td>\n",
       "      <td>5</td>\n",
       "      <td>1890</td>\n",
       "      <td>19</td>\n",
       "      <td>E</td>\n",
       "      <td>8.7</td>\n",
       "      <td>4.0</td>\n",
       "      <td>554.0</td>\n",
       "      <td>0.2</td>\n",
       "      <td>45.3</td>\n",
       "      <td>290.0</td>\n",
       "      <td>290.0</td>\n",
       "      <td>30.0</td>\n",
       "      <td>39.0</td>\n",
       "      <td>2018-02</td>\n",
       "    </tr>\n",
       "    <tr>\n",
       "      <th>1</th>\n",
       "      <td>0.0</td>\n",
       "      <td>72523.0</td>\n",
       "      <td>2562_0824</td>\n",
       "      <td>1</td>\n",
       "      <td>1930</td>\n",
       "      <td>19</td>\n",
       "      <td>E</td>\n",
       "      <td>9.8</td>\n",
       "      <td>0.0</td>\n",
       "      <td>906.0</td>\n",
       "      <td>1.2</td>\n",
       "      <td>35.8</td>\n",
       "      <td>300.0</td>\n",
       "      <td>310.0</td>\n",
       "      <td>36.0</td>\n",
       "      <td>49.0</td>\n",
       "      <td>2018-01</td>\n",
       "    </tr>\n",
       "    <tr>\n",
       "      <th>2</th>\n",
       "      <td>22915.4</td>\n",
       "      <td>79920.0</td>\n",
       "      <td>3620_0814</td>\n",
       "      <td>5</td>\n",
       "      <td>1918</td>\n",
       "      <td>19</td>\n",
       "      <td>E</td>\n",
       "      <td>9.8</td>\n",
       "      <td>0.0</td>\n",
       "      <td>906.0</td>\n",
       "      <td>1.2</td>\n",
       "      <td>35.8</td>\n",
       "      <td>300.0</td>\n",
       "      <td>310.0</td>\n",
       "      <td>36.0</td>\n",
       "      <td>49.0</td>\n",
       "      <td>2018-01</td>\n",
       "    </tr>\n",
       "    <tr>\n",
       "      <th>3</th>\n",
       "      <td>663263.6</td>\n",
       "      <td>210000.0</td>\n",
       "      <td>3582_0802</td>\n",
       "      <td>5</td>\n",
       "      <td>1990</td>\n",
       "      <td>19</td>\n",
       "      <td>E</td>\n",
       "      <td>9.8</td>\n",
       "      <td>0.0</td>\n",
       "      <td>906.0</td>\n",
       "      <td>1.2</td>\n",
       "      <td>35.8</td>\n",
       "      <td>300.0</td>\n",
       "      <td>310.0</td>\n",
       "      <td>36.0</td>\n",
       "      <td>49.0</td>\n",
       "      <td>2018-01</td>\n",
       "    </tr>\n",
       "    <tr>\n",
       "      <th>4</th>\n",
       "      <td>134870.7</td>\n",
       "      <td>64477.0</td>\n",
       "      <td>PAR01310208</td>\n",
       "      <td>5</td>\n",
       "      <td>1952</td>\n",
       "      <td>19</td>\n",
       "      <td>E</td>\n",
       "      <td>9.8</td>\n",
       "      <td>0.0</td>\n",
       "      <td>906.0</td>\n",
       "      <td>1.2</td>\n",
       "      <td>35.8</td>\n",
       "      <td>300.0</td>\n",
       "      <td>310.0</td>\n",
       "      <td>36.0</td>\n",
       "      <td>49.0</td>\n",
       "      <td>2018-01</td>\n",
       "    </tr>\n",
       "  </tbody>\n",
       "</table>\n",
       "</div>"
      ],
      "text/plain": [
       "       kbtu  reportedbuildinggrossfloorarea dcrealpropertyid  ward  yearbuilt  \\\n",
       "0  170035.9                        105500.0        3574_0032     5       1890   \n",
       "1       0.0                         72523.0        2562_0824     1       1930   \n",
       "2   22915.4                         79920.0        3620_0814     5       1918   \n",
       "3  663263.6                        210000.0        3582_0802     5       1990   \n",
       "4  134870.7                         64477.0      PAR01310208     5       1952   \n",
       "\n",
       "  primarypropertytype_selfselect elegas  awnd  cldd   htdd  snow  tavg   wdf2  \\\n",
       "0                             19      E   8.7   4.0  554.0   0.2  45.3  290.0   \n",
       "1                             19      E   9.8   0.0  906.0   1.2  35.8  300.0   \n",
       "2                             19      E   9.8   0.0  906.0   1.2  35.8  300.0   \n",
       "3                             19      E   9.8   0.0  906.0   1.2  35.8  300.0   \n",
       "4                             19      E   9.8   0.0  906.0   1.2  35.8  300.0   \n",
       "\n",
       "    wdf5  wsf2  wsf5     date  \n",
       "0  290.0  30.0  39.0  2018-02  \n",
       "1  310.0  36.0  49.0  2018-01  \n",
       "2  310.0  36.0  49.0  2018-01  \n",
       "3  310.0  36.0  49.0  2018-01  \n",
       "4  310.0  36.0  49.0  2018-01  "
      ]
     },
     "execution_count": 3,
     "metadata": {},
     "output_type": "execute_result"
    }
   ],
   "source": [
    "query='''\n",
    "SELECT b.kbtu\n",
    "      ,b.REPORTEDBUILDINGGROSSFLOORAREA\n",
    "      ,b.dcrealpropertyid\n",
    "      ,b.ward\n",
    "      ,b.yearbuilt\n",
    "      ,b.primarypropertytype_selfselect\n",
    "      ,b.elegas\n",
    "      ,n.awnd\n",
    "      ,n.cldd\n",
    "      ,n.htdd\n",
    "      ,n.snow\n",
    "      ,n.tavg\n",
    "      ,n.wdf2\n",
    "      ,n.wdf5\n",
    "      ,n.wsf2\n",
    "      ,n.wsf5\n",
    "      ,n.date \n",
    "FROM buildings_data b\n",
    "LEFT OUTER join noaa_data n\n",
    "ON b.REPORTINGYEAR = n.WEATHERYEAR\n",
    "WHERE b.MONTH = n.MONTH\n",
    "AND b.ELEGAS = 'E'\n",
    "AND b.PRIMARYPROPERTYTYPE_SELFSELECT = '19'\n",
    "AND b.REPORTINGYEAR BETWEEN 2018 AND 2019\n",
    "AND b.YEARBUILT > 0\n",
    "AND b.REPORTEDBUILDINGGROSSFLOORAREA > 50000;\n",
    "'''\n",
    "\n",
    "data=pd.read_sql(query,conn)\n",
    "data.head()"
   ]
  },
  {
   "cell_type": "code",
   "execution_count": 4,
   "metadata": {},
   "outputs": [
    {
     "data": {
      "text/plain": [
       "False"
      ]
     },
     "execution_count": 4,
     "metadata": {},
     "output_type": "execute_result"
    }
   ],
   "source": [
    "data.isnull().values.any()"
   ]
  },
  {
   "cell_type": "markdown",
   "metadata": {},
   "source": [
    "FORMAT COLUMNS:"
   ]
  },
  {
   "cell_type": "code",
   "execution_count": 5,
   "metadata": {},
   "outputs": [],
   "source": [
    "#CONVERT 'Date' COLUMN TO datetime format\n",
    "\n",
    "#data[\"reportingyear\"] = data[\"reportingyear\"].astype(str)\n",
    "#data['month']=data['month'].apply(lambda x: '{0:0>2}'.format(x))\n",
    "#data['date_time'] = data[['reportingyear', 'month']].agg('-'.join, axis=1)\n",
    "#data['date_time'] = (data.date_time + \"-01\")\n",
    "#data['date_time'] = datetime.strptime('date_time', \"%Y-%m-%d\")\n",
    "data['datetime']=pd.to_datetime(data['date'])"
   ]
  },
  {
   "cell_type": "code",
   "execution_count": 6,
   "metadata": {},
   "outputs": [
    {
     "data": {
      "text/plain": [
       "dtype('O')"
      ]
     },
     "execution_count": 6,
     "metadata": {},
     "output_type": "execute_result"
    }
   ],
   "source": [
    "data['primarypropertytype_selfselect'].dtype"
   ]
  },
  {
   "cell_type": "code",
   "execution_count": 7,
   "metadata": {},
   "outputs": [],
   "source": [
    "data['primarypropertytype_selfselect']=data['primarypropertytype_selfselect'].astype('int32')"
   ]
  },
  {
   "cell_type": "code",
   "execution_count": 8,
   "metadata": {},
   "outputs": [
    {
     "data": {
      "text/html": [
       "<div>\n",
       "<style scoped>\n",
       "    .dataframe tbody tr th:only-of-type {\n",
       "        vertical-align: middle;\n",
       "    }\n",
       "\n",
       "    .dataframe tbody tr th {\n",
       "        vertical-align: top;\n",
       "    }\n",
       "\n",
       "    .dataframe thead th {\n",
       "        text-align: right;\n",
       "    }\n",
       "</style>\n",
       "<table border=\"1\" class=\"dataframe\">\n",
       "  <thead>\n",
       "    <tr style=\"text-align: right;\">\n",
       "      <th></th>\n",
       "      <th>kbtu</th>\n",
       "      <th>reportedbuildinggrossfloorarea</th>\n",
       "      <th>dcrealpropertyid</th>\n",
       "      <th>ward</th>\n",
       "      <th>yearbuilt</th>\n",
       "      <th>primarypropertytype_selfselect</th>\n",
       "      <th>elegas</th>\n",
       "      <th>awnd</th>\n",
       "      <th>cldd</th>\n",
       "      <th>htdd</th>\n",
       "      <th>snow</th>\n",
       "      <th>tavg</th>\n",
       "      <th>wdf2</th>\n",
       "      <th>wdf5</th>\n",
       "      <th>wsf2</th>\n",
       "      <th>wsf5</th>\n",
       "      <th>date</th>\n",
       "    </tr>\n",
       "    <tr>\n",
       "      <th>datetime</th>\n",
       "      <th></th>\n",
       "      <th></th>\n",
       "      <th></th>\n",
       "      <th></th>\n",
       "      <th></th>\n",
       "      <th></th>\n",
       "      <th></th>\n",
       "      <th></th>\n",
       "      <th></th>\n",
       "      <th></th>\n",
       "      <th></th>\n",
       "      <th></th>\n",
       "      <th></th>\n",
       "      <th></th>\n",
       "      <th></th>\n",
       "      <th></th>\n",
       "      <th></th>\n",
       "    </tr>\n",
       "  </thead>\n",
       "  <tbody>\n",
       "    <tr>\n",
       "      <th>2018-02-01</th>\n",
       "      <td>170035.9</td>\n",
       "      <td>105500.0</td>\n",
       "      <td>3574_0032</td>\n",
       "      <td>5</td>\n",
       "      <td>1890</td>\n",
       "      <td>19</td>\n",
       "      <td>E</td>\n",
       "      <td>8.7</td>\n",
       "      <td>4.0</td>\n",
       "      <td>554.0</td>\n",
       "      <td>0.2</td>\n",
       "      <td>45.3</td>\n",
       "      <td>290.0</td>\n",
       "      <td>290.0</td>\n",
       "      <td>30.0</td>\n",
       "      <td>39.0</td>\n",
       "      <td>2018-02</td>\n",
       "    </tr>\n",
       "    <tr>\n",
       "      <th>2018-01-01</th>\n",
       "      <td>0.0</td>\n",
       "      <td>72523.0</td>\n",
       "      <td>2562_0824</td>\n",
       "      <td>1</td>\n",
       "      <td>1930</td>\n",
       "      <td>19</td>\n",
       "      <td>E</td>\n",
       "      <td>9.8</td>\n",
       "      <td>0.0</td>\n",
       "      <td>906.0</td>\n",
       "      <td>1.2</td>\n",
       "      <td>35.8</td>\n",
       "      <td>300.0</td>\n",
       "      <td>310.0</td>\n",
       "      <td>36.0</td>\n",
       "      <td>49.0</td>\n",
       "      <td>2018-01</td>\n",
       "    </tr>\n",
       "    <tr>\n",
       "      <th>2018-01-01</th>\n",
       "      <td>22915.4</td>\n",
       "      <td>79920.0</td>\n",
       "      <td>3620_0814</td>\n",
       "      <td>5</td>\n",
       "      <td>1918</td>\n",
       "      <td>19</td>\n",
       "      <td>E</td>\n",
       "      <td>9.8</td>\n",
       "      <td>0.0</td>\n",
       "      <td>906.0</td>\n",
       "      <td>1.2</td>\n",
       "      <td>35.8</td>\n",
       "      <td>300.0</td>\n",
       "      <td>310.0</td>\n",
       "      <td>36.0</td>\n",
       "      <td>49.0</td>\n",
       "      <td>2018-01</td>\n",
       "    </tr>\n",
       "    <tr>\n",
       "      <th>2018-01-01</th>\n",
       "      <td>663263.6</td>\n",
       "      <td>210000.0</td>\n",
       "      <td>3582_0802</td>\n",
       "      <td>5</td>\n",
       "      <td>1990</td>\n",
       "      <td>19</td>\n",
       "      <td>E</td>\n",
       "      <td>9.8</td>\n",
       "      <td>0.0</td>\n",
       "      <td>906.0</td>\n",
       "      <td>1.2</td>\n",
       "      <td>35.8</td>\n",
       "      <td>300.0</td>\n",
       "      <td>310.0</td>\n",
       "      <td>36.0</td>\n",
       "      <td>49.0</td>\n",
       "      <td>2018-01</td>\n",
       "    </tr>\n",
       "    <tr>\n",
       "      <th>2018-01-01</th>\n",
       "      <td>134870.7</td>\n",
       "      <td>64477.0</td>\n",
       "      <td>PAR01310208</td>\n",
       "      <td>5</td>\n",
       "      <td>1952</td>\n",
       "      <td>19</td>\n",
       "      <td>E</td>\n",
       "      <td>9.8</td>\n",
       "      <td>0.0</td>\n",
       "      <td>906.0</td>\n",
       "      <td>1.2</td>\n",
       "      <td>35.8</td>\n",
       "      <td>300.0</td>\n",
       "      <td>310.0</td>\n",
       "      <td>36.0</td>\n",
       "      <td>49.0</td>\n",
       "      <td>2018-01</td>\n",
       "    </tr>\n",
       "  </tbody>\n",
       "</table>\n",
       "</div>"
      ],
      "text/plain": [
       "                kbtu  reportedbuildinggrossfloorarea dcrealpropertyid  ward  \\\n",
       "datetime                                                                      \n",
       "2018-02-01  170035.9                        105500.0        3574_0032     5   \n",
       "2018-01-01       0.0                         72523.0        2562_0824     1   \n",
       "2018-01-01   22915.4                         79920.0        3620_0814     5   \n",
       "2018-01-01  663263.6                        210000.0        3582_0802     5   \n",
       "2018-01-01  134870.7                         64477.0      PAR01310208     5   \n",
       "\n",
       "            yearbuilt  primarypropertytype_selfselect elegas  awnd  cldd  \\\n",
       "datetime                                                                   \n",
       "2018-02-01       1890                              19      E   8.7   4.0   \n",
       "2018-01-01       1930                              19      E   9.8   0.0   \n",
       "2018-01-01       1918                              19      E   9.8   0.0   \n",
       "2018-01-01       1990                              19      E   9.8   0.0   \n",
       "2018-01-01       1952                              19      E   9.8   0.0   \n",
       "\n",
       "             htdd  snow  tavg   wdf2   wdf5  wsf2  wsf5     date  \n",
       "datetime                                                          \n",
       "2018-02-01  554.0   0.2  45.3  290.0  290.0  30.0  39.0  2018-02  \n",
       "2018-01-01  906.0   1.2  35.8  300.0  310.0  36.0  49.0  2018-01  \n",
       "2018-01-01  906.0   1.2  35.8  300.0  310.0  36.0  49.0  2018-01  \n",
       "2018-01-01  906.0   1.2  35.8  300.0  310.0  36.0  49.0  2018-01  \n",
       "2018-01-01  906.0   1.2  35.8  300.0  310.0  36.0  49.0  2018-01  "
      ]
     },
     "execution_count": 8,
     "metadata": {},
     "output_type": "execute_result"
    }
   ],
   "source": [
    "data.set_index('datetime', inplace=True)\n",
    "data.head()"
   ]
  },
  {
   "cell_type": "code",
   "execution_count": 9,
   "metadata": {},
   "outputs": [
    {
     "data": {
      "text/plain": [
       "(828, 17)"
      ]
     },
     "execution_count": 9,
     "metadata": {},
     "output_type": "execute_result"
    }
   ],
   "source": [
    "data.shape"
   ]
  },
  {
   "cell_type": "code",
   "execution_count": 10,
   "metadata": {},
   "outputs": [
    {
     "data": {
      "text/plain": [
       "Index(['kbtu', 'reportedbuildinggrossfloorarea', 'dcrealpropertyid', 'ward',\n",
       "       'yearbuilt', 'primarypropertytype_selfselect', 'elegas', 'awnd', 'cldd',\n",
       "       'htdd', 'snow', 'tavg', 'wdf2', 'wdf5', 'wsf2', 'wsf5', 'date'],\n",
       "      dtype='object')"
      ]
     },
     "execution_count": 10,
     "metadata": {},
     "output_type": "execute_result"
    }
   ],
   "source": [
    "data.columns"
   ]
  },
  {
   "cell_type": "code",
   "execution_count": 11,
   "metadata": {},
   "outputs": [
    {
     "data": {
      "text/plain": [
       "kbtu                              float64\n",
       "reportedbuildinggrossfloorarea    float64\n",
       "dcrealpropertyid                   object\n",
       "ward                                int64\n",
       "yearbuilt                           int64\n",
       "primarypropertytype_selfselect      int32\n",
       "elegas                             object\n",
       "awnd                              float64\n",
       "cldd                              float64\n",
       "htdd                              float64\n",
       "snow                              float64\n",
       "tavg                              float64\n",
       "wdf2                              float64\n",
       "wdf5                              float64\n",
       "wsf2                              float64\n",
       "wsf5                              float64\n",
       "date                               object\n",
       "dtype: object"
      ]
     },
     "execution_count": 11,
     "metadata": {},
     "output_type": "execute_result"
    }
   ],
   "source": [
    "data.dtypes"
   ]
  },
  {
   "cell_type": "code",
   "execution_count": 12,
   "metadata": {},
   "outputs": [
    {
     "data": {
      "text/plain": [
       "<AxesSubplot:>"
      ]
     },
     "execution_count": 12,
     "metadata": {},
     "output_type": "execute_result"
    },
    {
     "data": {
      "image/png": "[encoded data removed]",
      "text/plain": [
       "<Figure size 1800x1080 with 2 Axes>"
      ]
     },
     "metadata": {
      "needs_background": "light"
     },
     "output_type": "display_data"
    }
   ],
   "source": [
    "import matplotlib.pyplot as plt\n",
    "import seaborn as sns\n",
    "plt.figure(figsize=(25,15))\n",
    "ftr = list([\"kbtu\", \"reportedbuildinggrossfloorarea\", \"ward\", \"yearbuilt\", \"awnd\", \"cldd\", \"htdd\", \"snow\"])\n",
    "corrMatrix = data[ftr].corr()\n",
    "sns.heatmap(corrMatrix, annot=True, fmt='.1f', linewidths=.5)"
   ]
  },
  {
   "cell_type": "markdown",
   "metadata": {},
   "source": [
    "DEFINE FEATURES:"
   ]
  },
  {
   "cell_type": "code",
   "execution_count": 13,
   "metadata": {},
   "outputs": [],
   "source": [
    "TARGET = \"kbtu\"\n",
    "COLS = ['reportedbuildinggrossfloorarea', 'ward', 'yearbuilt', 'awnd', 'cldd', 'htdd', 'snow', 'datetime']\n",
    "\n",
    "def make_sklearn_data(df=data, target=TARGET, cols=COLS):\n",
    "    df = df.reset_index()\n",
    "    X, y = df[cols], df[target]\n",
    "    return X, y"
   ]
  },
  {
   "cell_type": "code",
   "execution_count": 14,
   "metadata": {},
   "outputs": [],
   "source": [
    "features = ['reportedbuildinggrossfloorarea', 'ward', 'yearbuilt', 'awnd', 'cldd', 'htdd', 'snow']\n",
    "X, y = make_sklearn_data(cols=features)"
   ]
  },
  {
   "cell_type": "code",
   "execution_count": 15,
   "metadata": {},
   "outputs": [
    {
     "data": {
      "image/png": "[encoded data removed]",
      "text/plain": [
       "<Figure size 1080x720 with 2 Axes>"
      ]
     },
     "metadata": {},
     "output_type": "display_data"
    },
    {
     "data": {
      "text/plain": [
       "<AxesSubplot:title={'center':'Pearson Ranking of 7 Features'}>"
      ]
     },
     "execution_count": 15,
     "metadata": {},
     "output_type": "execute_result"
    }
   ],
   "source": [
    "#Rank2D\n",
    "from yellowbrick.features import Rank2D\n",
    "\n",
    "# Instantiate the visualizer with the Pearson ranking algorithm\n",
    "visualizer = Rank2D(algorithm='pearson', features=features, size=(1080, 720))\n",
    "\n",
    "visualizer.fit(X, y)\n",
    "visualizer.transform(X)\n",
    "visualizer.show()"
   ]
  },
  {
   "cell_type": "code",
   "execution_count": 16,
   "metadata": {},
   "outputs": [
    {
     "data": {
      "image/png": "[encoded data removed]",
      "text/plain": [
       "<Figure size 1080x720 with 2 Axes>"
      ]
     },
     "metadata": {},
     "output_type": "display_data"
    },
    {
     "data": {
      "text/plain": [
       "<AxesSubplot:title={'center':'Covariance Ranking of 7 Features'}>"
      ]
     },
     "execution_count": 16,
     "metadata": {},
     "output_type": "execute_result"
    }
   ],
   "source": [
    "# Instantiate the visualizer with the Covariance algorithm\n",
    "visualizer = Rank2D(algorithm='covariance', features=features, size=(1080, 720))\n",
    "\n",
    "visualizer.fit(X, y)\n",
    "visualizer.transform(X)\n",
    "visualizer.show()"
   ]
  },
  {
   "cell_type": "code",
   "execution_count": 17,
   "metadata": {},
   "outputs": [
    {
     "name": "stderr",
     "output_type": "stream",
     "text": [
      "C:\\Users\\rv14996\\Anaconda3\\lib\\site-packages\\sklearn\\base.py:213: FutureWarning: From version 0.24, get_params will raise an AttributeError if a parameter cannot be retrieved as an instance attribute. Previously it would return None.\n",
      "  FutureWarning)\n"
     ]
    },
    {
     "data": {
      "image/png": "[encoded data removed]",
      "text/plain": [
       "<Figure size 1080x720 with 1 Axes>"
      ]
     },
     "metadata": {},
     "output_type": "display_data"
    },
    {
     "data": {
      "text/plain": [
       "<AxesSubplot:title={'center':'Feature Importances of 7 Features using RandomForestRegressor'}, xlabel='relative importance'>"
      ]
     },
     "execution_count": 17,
     "metadata": {},
     "output_type": "execute_result"
    }
   ],
   "source": [
    "#Feature Importances\n",
    "import yellowbrick as yb\n",
    "from sklearn.ensemble import RandomForestRegressor\n",
    "from yellowbrick.features import RadViz\n",
    "from yellowbrick.features import FeatureImportances\n",
    "\n",
    "\n",
    "model = RandomForestRegressor(n_estimators=10)\n",
    "viz = FeatureImportances(model, labels=features, size=(1080, 720))\n",
    "\n",
    "viz.fit(X, y)\n",
    "viz.show()"
   ]
  },
  {
   "cell_type": "code",
   "execution_count": 18,
   "metadata": {},
   "outputs": [
    {
     "name": "stderr",
     "output_type": "stream",
     "text": [
      "C:\\Users\\rv14996\\Anaconda3\\lib\\site-packages\\sklearn\\base.py:213: FutureWarning: From version 0.24, get_params will raise an AttributeError if a parameter cannot be retrieved as an instance attribute. Previously it would return None.\n",
      "  FutureWarning)\n"
     ]
    },
    {
     "data": {
      "image/png": "[encoded data removed]",
      "text/plain": [
       "<Figure size 1080x720 with 1 Axes>"
      ]
     },
     "metadata": {},
     "output_type": "display_data"
    },
    {
     "data": {
      "text/plain": [
       "<AxesSubplot:title={'center':'Feature Importances of 7 Features using Lasso'}, xlabel='relative coefficient magnitude'>"
      ]
     },
     "execution_count": 18,
     "metadata": {},
     "output_type": "execute_result"
    }
   ],
   "source": [
    "#Feature Importances\n",
    "import yellowbrick as yb\n",
    "from sklearn.linear_model import Lasso\n",
    "from yellowbrick.features import RadViz\n",
    "from yellowbrick.features import FeatureImportances\n",
    "\n",
    "\n",
    "model = Lasso()\n",
    "viz = FeatureImportances(model, labels=features, size=(1080, 720))\n",
    "\n",
    "viz.fit(X, y)\n",
    "viz.show()"
   ]
  },
  {
   "cell_type": "code",
   "execution_count": 19,
   "metadata": {},
   "outputs": [
    {
     "name": "stderr",
     "output_type": "stream",
     "text": [
      "*c* argument looks like a single numeric RGB or RGBA sequence, which should be avoided as value-mapping will have precedence in case its length matches with *x* & *y*.  Please use the *color* keyword-argument or provide a 2-D array with a single row if you intend to specify the same RGB or RGBA value for all points.\n"
     ]
    },
    {
     "data": {
      "text/plain": [
       "<AxesSubplot:xlabel='datetime_cos', ylabel='datetime_sin'>"
      ]
     },
     "execution_count": 19,
     "metadata": {},
     "output_type": "execute_result"
    },
    {
     "data": {
      "image/png": "[encoded data removed]",
      "text/plain": [
       "<Figure size 576x396 with 1 Axes>"
      ]
     },
     "metadata": {},
     "output_type": "display_data"
    }
   ],
   "source": [
    "#CYCLIC ENCODER:  to capture temporal cycles (yearly).\n",
    "from sklearn.base import BaseEstimator, TransformerMixin\n",
    "\n",
    "\n",
    "class CyclicEncoder(BaseEstimator, TransformerMixin):\n",
    "    \n",
    "    def __init__(self, date_extract=\"month\"):\n",
    "        if date_extract not in {\"minute\", \"hour\", \"week\", \"month\", \"year\"}:\n",
    "            raise ValueError(f\"specify correct date component to extract, not {date_extract}\")\n",
    "        self.date_extract = date_extract\n",
    "    \n",
    "    def get_date_component(self, x):\n",
    "        if self.date_extract == \"month\":\n",
    "            return x.dt.month\n",
    "        elif self.date_extract == \"year\":\n",
    "            return x.dt.year\n",
    "        else:\n",
    "            raise NotImplementedError(f\"{self.date_extract} date component not implemented yet\")\n",
    "            \n",
    "    def fit(self, X, y=None):\n",
    "        self.cycle_max_ = self.get_date_component(X).max()\n",
    "        return self\n",
    "\n",
    "    def transform(self, X,  y=None):\n",
    "        cols = []\n",
    "        names = []\n",
    "        x = self.get_date_component(X)\n",
    "        xn = 2 * np.pi * x / self.cycle_max_\n",
    "        cols.append(np.cos(xn))\n",
    "        names.append(f\"{X.name}_cos\")\n",
    "        cols.append(np.sin(xn))\n",
    "        names.append(f\"{X.name}_sin\")\n",
    "        return pd.DataFrame(np.asarray(cols).T, columns=names)\n",
    "\n",
    "    \n",
    "ce = CyclicEncoder().fit_transform(data.reset_index()[\"datetime\"])\n",
    "ce.plot(x=\"datetime_cos\", y=\"datetime_sin\", kind=\"scatter\")"
   ]
  },
  {
   "cell_type": "code",
   "execution_count": 20,
   "metadata": {},
   "outputs": [],
   "source": [
    "#FEATURE EXTRACTION\n",
    "from sklearn.base import clone\n",
    "from sklearn.compose import ColumnTransformer\n",
    "from sklearn.pipeline import FeatureUnion, Pipeline\n",
    "from sklearn.preprocessing import OneHotEncoder\n",
    "\n",
    "extraction = Pipeline([\n",
    "    ('column_selection', ColumnTransformer([\n",
    "        ('time_components', FeatureUnion([\n",
    "            ('month', CyclicEncoder(date_extract='month')), \n",
    "            ('year', CyclicEncoder(date_extract='year')), \n",
    "        ]), 'datetime'),\n",
    "        ('ward_one_hot', OneHotEncoder(handle_unknown='ignore'), ['ward']),\n",
    "        ('yearbuilt_one_hot', OneHotEncoder(handle_unknown='ignore'), ['yearbuilt']),\n",
    "    ], remainder=\"passthrough\")),\n",
    "])\n",
    "\n",
    "def make_energy_pipeline(model, append_transformers=None, fe=extraction):\n",
    "    pipe = clone(fe)\n",
    "    \n",
    "    if append_transformers:\n",
    "        for step in append_transformers:\n",
    "            pipe.steps.append(step)\n",
    "    \n",
    "    pipe.steps.append([\"model\", clone(model)])\n",
    "    return pipe"
   ]
  },
  {
   "cell_type": "code",
   "execution_count": 22,
   "metadata": {},
   "outputs": [
    {
     "data": {
      "text/plain": [
       "0.6156212941239441"
      ]
     },
     "execution_count": 22,
     "metadata": {},
     "output_type": "execute_result"
    }
   ],
   "source": [
    "#Test the Feature Extraction Pipeline\n",
    "from sklearn.linear_model import LinearRegression\n",
    "from sklearn.model_selection import train_test_split as tts\n",
    "\n",
    "X_train, X_test, y_train, y_test = tts(*make_sklearn_data(), test_size=0.2)\n",
    "\n",
    "model = make_energy_pipeline(LinearRegression())\n",
    "model.fit(X_train, y_train)\n",
    "model.score(X_test, y_test)"
   ]
  },
  {
   "cell_type": "code",
   "execution_count": 23,
   "metadata": {},
   "outputs": [],
   "source": [
    "#TIME SERIES CROSS VALIDATION\n",
    "from functools import partial\n",
    "from sklearn.metrics import make_scorer\n",
    "from sklearn.model_selection import cross_val_score\n",
    "from sklearn.model_selection import TimeSeriesSplit\n",
    "from sklearn.metrics import r2_score, mean_squared_error, mean_absolute_error\n",
    "\n",
    "rmse = partial(mean_squared_error, squared=False)\n",
    "\n",
    "\n",
    "def time_series_evaluate(model, X, y):\n",
    "    \"\"\"\n",
    "    Performs time series cross validation on the model, returning the\n",
    "    cross validated r2, mse, and mae of the regressor, along with the \n",
    "    final fitted model, fitted on all of the data.\n",
    "    \"\"\"\n",
    "    cv = TimeSeriesSplit(12)\n",
    "    scores = {}\n",
    "    \n",
    "    scores[\"r2\"] = cross_val_score(model, X, y, cv=cv, scoring=make_scorer(r2_score))\n",
    "    scores[\"mse\"] = cross_val_score(model, X, y, cv=cv, scoring=make_scorer(mean_squared_error))\n",
    "#     scores[\"rmse\"] = cross_val_score(model, X, y, cv=cv, scoring=make_scorer(rmse))\n",
    "    scores[\"mae\"] = cross_val_score(model, X, y, cv=cv, scoring=make_scorer(mean_absolute_error))\n",
    "    \n",
    "    model.fit(X, y)\n",
    "    return model, scores"
   ]
  },
  {
   "cell_type": "code",
   "execution_count": 24,
   "metadata": {},
   "outputs": [
    {
     "data": {
      "text/plain": [
       "(Pipeline(steps=[('column_selection',\n",
       "                  ColumnTransformer(remainder='passthrough',\n",
       "                                    transformers=[('time_components',\n",
       "                                                   FeatureUnion(transformer_list=[('month',\n",
       "                                                                                   CyclicEncoder()),\n",
       "                                                                                  ('year',\n",
       "                                                                                   CyclicEncoder(date_extract='year'))]),\n",
       "                                                   'datetime'),\n",
       "                                                  ('ward_one_hot',\n",
       "                                                   OneHotEncoder(handle_unknown='ignore'),\n",
       "                                                   ['ward']),\n",
       "                                                  ('yearbuilt_one_hot',\n",
       "                                                   OneHotEncoder(handle_unknown='ignore'),\n",
       "                                                   ['yearbuilt'])])),\n",
       "                 ['model', LinearRegression()]]),\n",
       " {'r2': array([ 0.59115598, -0.27839894,  0.62441444,  0.7187398 ,  0.73562349,\n",
       "          0.57092693,  0.79890983,  0.73442609,  0.69838102,  0.59336115,\n",
       "          0.79101368,  0.68383784]),\n",
       "  'mse': array([1.39452215e+10, 3.24972540e+10, 1.14163226e+10, 1.05386165e+10,\n",
       "         6.38408234e+09, 1.20555204e+10, 9.27263927e+09, 8.71443815e+09,\n",
       "         8.74578727e+09, 1.72966485e+10, 9.55306661e+09, 1.26731061e+10]),\n",
       "  'mae': array([ 80607.23783899, 128458.45042721,  77222.19900834,  69678.78725146,\n",
       "          55306.01069757,  73531.24444095,  65430.99748313,  61815.53950697,\n",
       "          64140.37392195,  87811.15694223,  65478.40843716,  70695.35467929])})"
      ]
     },
     "execution_count": 24,
     "metadata": {},
     "output_type": "execute_result"
    }
   ],
   "source": [
    "# LINEAR MODEL\n",
    "X, y = make_sklearn_data()\n",
    "lm = make_energy_pipeline(LinearRegression())\n",
    "time_series_evaluate(lm, X, y)"
   ]
  },
  {
   "cell_type": "code",
   "execution_count": 25,
   "metadata": {},
   "outputs": [
    {
     "data": {
      "text/plain": [
       "(Pipeline(steps=[('column_selection',\n",
       "                  ColumnTransformer(remainder='passthrough',\n",
       "                                    transformers=[('time_components',\n",
       "                                                   FeatureUnion(transformer_list=[('month',\n",
       "                                                                                   CyclicEncoder()),\n",
       "                                                                                  ('year',\n",
       "                                                                                   CyclicEncoder(date_extract='year'))]),\n",
       "                                                   'datetime'),\n",
       "                                                  ('ward_one_hot',\n",
       "                                                   OneHotEncoder(handle_unknown='ignore'),\n",
       "                                                   ['ward']),\n",
       "                                                  ('yearbuilt_one_hot',\n",
       "                                                   OneHotEncoder(handle_unknown='ignore'),\n",
       "                                                   ['yearbuilt'])])),\n",
       "                 ('quad', PolynomialFeatures()), ['model', SGDRegressor()]]),\n",
       " {'r2': array([-4.92861103e+50, -6.29963239e+53, -7.67621614e+49, -2.02517393e+53,\n",
       "         -4.54796389e+51, -8.54456551e+49, -1.55657466e+52, -9.87358495e+52,\n",
       "         -3.60917384e+52, -1.13870093e+49, -2.13486476e+51, -2.78476912e+49]),\n",
       "  'mse': array([1.07277682e+62, 6.22381743e+58, 4.25050095e+63, 8.27689566e+59,\n",
       "         1.18954496e+63, 1.04452327e+62, 4.02289345e+60, 1.51957210e+60,\n",
       "         1.51862184e+60, 5.13618575e+59, 1.18912110e+60, 2.10451995e+61]),\n",
       "  'mae': array([9.82804042e+30, 4.38438397e+30, 8.97258723e+29, 9.51395693e+30,\n",
       "         2.96698186e+31, 8.75421727e+29, 5.86843582e+30, 8.83560243e+28,\n",
       "         9.01341290e+29, 2.74983955e+30, 7.19842553e+28, 1.37362079e+30])})"
      ]
     },
     "execution_count": 25,
     "metadata": {},
     "output_type": "execute_result"
    }
   ],
   "source": [
    "#Second order polynomial regression\n",
    "from sklearn.linear_model import SGDRegressor\n",
    "from sklearn.preprocessing import PolynomialFeatures\n",
    "\n",
    "qm = make_energy_pipeline(SGDRegressor(), [('quad', PolynomialFeatures(2))])\n",
    "time_series_evaluate(qm, X, y)"
   ]
  },
  {
   "cell_type": "code",
   "execution_count": 26,
   "metadata": {},
   "outputs": [
    {
     "data": {
      "text/plain": [
       "(Pipeline(steps=[('column_selection',\n",
       "                  ColumnTransformer(remainder='passthrough',\n",
       "                                    transformers=[('time_components',\n",
       "                                                   FeatureUnion(transformer_list=[('month',\n",
       "                                                                                   CyclicEncoder()),\n",
       "                                                                                  ('year',\n",
       "                                                                                   CyclicEncoder(date_extract='year'))]),\n",
       "                                                   'datetime'),\n",
       "                                                  ('ward_one_hot',\n",
       "                                                   OneHotEncoder(handle_unknown='ignore'),\n",
       "                                                   ['ward']),\n",
       "                                                  ('yearbuilt_one_hot',\n",
       "                                                   OneHotEncoder(handle_unknown='ignore'),\n",
       "                                                   ['yearbuilt'])])),\n",
       "                 ['model', RandomForestRegressor(max_depth=3, n_estimators=10)]]),\n",
       " {'r2': array([0.63562057, 0.68257288, 0.61436626, 0.73498317, 0.70078069,\n",
       "         0.63495566, 0.78207654, 0.80378987, 0.80933527, 0.7220667 ,\n",
       "         0.83965328, 0.76803829]),\n",
       "  'mse': array([9.09221159e+09, 8.50386227e+09, 9.90358529e+09, 9.51191640e+09,\n",
       "         6.94496073e+09, 1.01005993e+10, 9.04916587e+09, 7.22729621e+09,\n",
       "         5.33268562e+09, 1.08516166e+10, 7.08288297e+09, 9.50454450e+09]),\n",
       "  'mae': array([75836.89707827, 72824.42695764, 83942.31706043, 74400.19732454,\n",
       "         67559.07739001, 70920.99983774, 67567.9548165 , 64133.79047843,\n",
       "         54881.42680172, 78399.72989689, 61662.00254191, 65120.05557135])})"
      ]
     },
     "execution_count": 26,
     "metadata": {},
     "output_type": "execute_result"
    }
   ],
   "source": [
    "from sklearn.ensemble import RandomForestRegressor\n",
    "\n",
    "rfm = make_energy_pipeline(RandomForestRegressor(n_estimators=10, max_depth=3))\n",
    "time_series_evaluate(rfm, X, y)"
   ]
  },
  {
   "cell_type": "code",
   "execution_count": 27,
   "metadata": {},
   "outputs": [
    {
     "name": "stdout",
     "output_type": "stream",
     "text": [
      "(Pipeline(steps=[('column_selection',\n",
      "                 ColumnTransformer(remainder='passthrough',\n",
      "                                   transformers=[('time_components',\n",
      "                                                  FeatureUnion(transformer_list=[('month',\n",
      "                                                                                  CyclicEncoder()),\n",
      "                                                                                 ('year',\n",
      "                                                                                  CyclicEncoder(date_extract='year'))]),\n",
      "                                                  'datetime'),\n",
      "                                                 ('ward_one_hot',\n",
      "                                                  OneHotEncoder(handle_unknown='ignore'),\n",
      "                                                  ['ward']),\n",
      "                                                 ('yearbuilt_one_hot',\n",
      "                                                  OneHotEncoder(handle_unknown='ignore'),\n",
      "                                                  ['yearbuilt'])])),\n",
      "                ['model',\n",
      "                 VotingRegressor(estimators=[('lr', LinearRegression()),\n",
      "                                             ('rf',\n",
      "                                              RandomForestRegressor(n_estimators=10,\n",
      "                                                                    random_state=1))])]]), {'r2': array([0.78259792, 0.58345369, 0.75338865, 0.85622444, 0.8968723 ,\n",
      "       0.77437144, 0.90666637, 0.89196596, 0.89127022, 0.80601035,\n",
      "       0.92429524, 0.86517154]), 'mse': array([7.41534652e+09, 1.05887221e+10, 7.49601436e+09, 5.38716638e+09,\n",
      "       2.49029585e+09, 6.33940902e+09, 4.30378641e+09, 3.54498654e+09,\n",
      "       3.15274425e+09, 8.25147634e+09, 3.46057378e+09, 5.40449061e+09]), 'mae': array([54115.27397552, 74907.29050788, 55567.08396805, 46554.84708696,\n",
      "       32597.2628704 , 50259.07101797, 44155.65608428, 40293.88214537,\n",
      "       40152.3680554 , 58091.64918884, 37960.2740372 , 43978.84951476])})\n",
      "Time = 2.532 seconds\n"
     ]
    }
   ],
   "source": [
    "import time\n",
    "from sklearn.linear_model import LinearRegression\n",
    "from sklearn.ensemble import RandomForestRegressor\n",
    "from sklearn.ensemble import VotingRegressor\n",
    "\n",
    "start  = time.time()\n",
    "\n",
    "r1 = LinearRegression()\n",
    "r2 = RandomForestRegressor(n_estimators=10, random_state=1)\n",
    "\n",
    "X, y = make_sklearn_data()\n",
    "er = make_energy_pipeline(VotingRegressor([('lr', r1), ('rf', r2)]))\n",
    "print(time_series_evaluate(er, X, y))\n",
    "print(\"Time = {:0.3f} seconds\".format(time.time()-start))"
   ]
  },
  {
   "cell_type": "code",
   "execution_count": 28,
   "metadata": {},
   "outputs": [
    {
     "name": "stdout",
     "output_type": "stream",
     "text": [
      "Closed\n"
     ]
    }
   ],
   "source": [
    "conn.close()\n",
    "print('Closed')"
   ]
  }
 ],
 "metadata": {
  "kernelspec": {
   "display_name": "Python 3",
   "language": "python",
   "name": "python3"
  },
  "language_info": {
   "codemirror_mode": {
    "name": "ipython",
    "version": 3
   },
   "file_extension": ".py",
   "mimetype": "text/x-python",
   "name": "python",
   "nbconvert_exporter": "python",
   "pygments_lexer": "ipython3",
   "version": "3.7.4"
  }
 },
 "nbformat": 4,
 "nbformat_minor": 2
}
