{
 "cells": [
  {
   "cell_type": "code",
   "execution_count": null,
   "metadata": {},
   "outputs": [],
   "source": [
    "import requests\n",
    "\n",
    "def get_data():\n",
    "    #Pull one record of all Washington, DC weather data categories available\n",
    "    openweather = \"https://api.openweathermap.org/data/2.5/weather?q=Washington,dc,us&cnt=1&units=imperial&APPID='NOT_INCLUDED'\"\n",
    "    request_data = requests.get(openweather)\n",
    "    return request_data.json()\n",
    "\n",
    "data = get_data()\n",
    "print(data)"
   ]
  }
 ],
 "metadata": {
  "kernelspec": {
   "display_name": "Python 3",
   "language": "python",
   "name": "python3"
  },
  "language_info": {
   "codemirror_mode": {
    "name": "ipython",
    "version": 3
   },
   "file_extension": ".py",
   "mimetype": "text/x-python",
   "name": "python",
   "nbconvert_exporter": "python",
   "pygments_lexer": "ipython3",
   "version": "3.7.4"
  }
 },
 "nbformat": 4,
 "nbformat_minor": 2
}
